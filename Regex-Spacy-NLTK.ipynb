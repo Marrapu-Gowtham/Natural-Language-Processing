{
 "cells": [
  {
   "cell_type": "code",
   "execution_count": 1,
   "id": "0162bb9d",
   "metadata": {},
   "outputs": [],
   "source": [
    "#mastering regex "
   ]
  },
  {
   "cell_type": "code",
   "execution_count": 2,
   "id": "21ca1139-6125-487a-afb8-082c26df10b0",
   "metadata": {},
   "outputs": [],
   "source": [
    "import warnings \n",
    "from warnings import filterwarnings\n",
    "filterwarnings(\"ignore\")"
   ]
  },
  {
   "cell_type": "code",
   "execution_count": 3,
   "id": "a6a1459e",
   "metadata": {},
   "outputs": [],
   "source": [
    "import re"
   ]
  },
  {
   "cell_type": "code",
   "execution_count": 4,
   "id": "fbfde21b",
   "metadata": {},
   "outputs": [],
   "source": [
    "text = \"\"\"hey there this gowtham, i have self taught everything i can manage things, i will work good when things are getting harder because i know if things are getting harder every one quits but i will stand still for the problem to solve , i will make good decesion in what ever the situation is ,i will make sure i win,if i play i pplay to win, dedication hardword dedication hardwork dedication hardwork i dont care how many people againt me i have god on my side, i have cursial time to chage my life is now ,i will never forget iin life about my winter arc it is sos special it is started september 2024, my. email is gowtham1111@gmail.com,here is my email: email@email.com and info@kgptalkie.com and \n",
    "        udemy@kgptalkie.com,Here is my lucky number 11,today's date is 2026-09-01,Here is my mobile number: 07897432355..\n",
    "\"\"\""
   ]
  },
  {
   "cell_type": "code",
   "execution_count": 5,
   "id": "788e5992",
   "metadata": {},
   "outputs": [],
   "source": [
    "pattern = 'hey'"
   ]
  },
  {
   "cell_type": "code",
   "execution_count": 6,
   "id": "9a7dfbf3",
   "metadata": {},
   "outputs": [
    {
     "data": {
      "text/plain": [
       "<re.Match object; span=(0, 3), match='hey'>"
      ]
     },
     "execution_count": 6,
     "metadata": {},
     "output_type": "execute_result"
    }
   ],
   "source": [
    "result = re.match(pattern=pattern, string=text)\n",
    "\n",
    "span = result\n",
    "span\n"
   ]
  },
  {
   "cell_type": "code",
   "execution_count": 7,
   "id": "9a34e41b",
   "metadata": {},
   "outputs": [
    {
     "name": "stdout",
     "output_type": "stream",
     "text": [
      "hey there this gowtham, i have self taught everything i can manage things, i will work good when things are getting harder because i know if things are getting harder every one quits but i will stand still for the problem to solve , i will make good decesion in what ever the situation is ,i will make sure i win,if i play i pplay to win, dedication hardword dedication hardwork dedication hardwork i dont care how many people againt me i have god on my side, i have cursial time to chage my life is now ,i will never forget iin life about my winter arc it is sos special it is started september 2024, my. email is gowtham1111@gmail.com,here is my email: email@email.com and info@kgptalkie.com and \n",
      "        udemy@kgptalkie.com,Here is my lucky number 11,today's date is 2026-09-01,Here is my mobile number: 07897432355..\n",
      "\n"
     ]
    }
   ],
   "source": [
    "print(text)"
   ]
  },
  {
   "cell_type": "code",
   "execution_count": 8,
   "id": "165dfaba",
   "metadata": {},
   "outputs": [
    {
     "name": "stdout",
     "output_type": "stream",
     "text": [
      "<re.Match object; span=(15, 22), match='gowtham'>\n"
     ]
    }
   ],
   "source": [
    "pattern = r'gowtham'\n",
    "match = re.search(pattern,text)\n",
    "print(match)"
   ]
  },
  {
   "cell_type": "code",
   "execution_count": 9,
   "id": "48f4d756",
   "metadata": {},
   "outputs": [
    {
     "name": "stdout",
     "output_type": "stream",
     "text": [
      "<re.Match object; span=(596, 600), match='2024'>\n"
     ]
    }
   ],
   "source": [
    "pattern = r'\\d+'\n",
    "match = re.search(pattern,text)\n",
    "print(match)"
   ]
  },
  {
   "cell_type": "code",
   "execution_count": 10,
   "id": "edb41b04",
   "metadata": {},
   "outputs": [
    {
     "name": "stdout",
     "output_type": "stream",
     "text": [
      "<re.Match object; span=(615, 636), match='gowtham1111@gmail.com'>\n"
     ]
    }
   ],
   "source": [
    "pattern = r'\\w+@\\w+.\\w+'\n",
    "match = re.search(pattern,text)\n",
    "print(match)"
   ]
  },
  {
   "cell_type": "code",
   "execution_count": 11,
   "id": "69beafb6",
   "metadata": {},
   "outputs": [],
   "source": [
    "# find all matches"
   ]
  },
  {
   "cell_type": "code",
   "execution_count": 12,
   "id": "d97e8b8f",
   "metadata": {},
   "outputs": [
    {
     "name": "stdout",
     "output_type": "stream",
     "text": [
      "['gowtham1111@gmail.com', 'email@email.com', 'info@kgptalkie.com', 'udemy@kgptalkie.com']\n"
     ]
    }
   ],
   "source": [
    "pattern = r'\\w+@\\w+.\\w+'\n",
    "match = re.findall(pattern,text)\n",
    "print(match)"
   ]
  },
  {
   "cell_type": "code",
   "execution_count": 13,
   "id": "5f5a8015",
   "metadata": {},
   "outputs": [
    {
     "name": "stdout",
     "output_type": "stream",
     "text": [
      "['2024', '1111', '11', '2026', '09', '01', '07897432355']\n"
     ]
    }
   ],
   "source": [
    "pattern = r'\\d+'\n",
    "match = re.findall(pattern,text)\n",
    "print(match)"
   ]
  },
  {
   "cell_type": "code",
   "execution_count": 14,
   "id": "055b4c98",
   "metadata": {},
   "outputs": [
    {
     "name": "stdout",
     "output_type": "stream",
     "text": [
      "['i will', 'i will', 'i will', 'i will', 'i will']\n"
     ]
    }
   ],
   "source": [
    "pattern = r'i will'\n",
    "match = re.findall(pattern,text)\n",
    "print (match)"
   ]
  },
  {
   "cell_type": "code",
   "execution_count": 15,
   "id": "80386ec5",
   "metadata": {},
   "outputs": [
    {
     "name": "stdout",
     "output_type": "stream",
     "text": [
      "hey there this gowtham, i have self taught everything i can manage things, i will work good when things are getting harder because i know if things are getting harder every one quits but i will stand still for the problem to solve , i will make good decesion in what ever the situation is ,i will make sure i win,if i play i pplay to win, dedication hardword dedication hardwork dedication hardwork i dont care how many people againt me i have god on my side, i have cursial time to chage my life is now ,i will never forget iin life about my winter arc it is sos special it is started september 2024, my. email is gowtham1111@gmail.com,here is my email: email@email.com and info@kgptalkie.com and \n",
      "        udemy@kgptalkie.com,Here is my lucky number 11,today's date is 2026-09-01,Here is my mobile number: 07897432355..\n",
      "\n"
     ]
    }
   ],
   "source": [
    "print(text)"
   ]
  },
  {
   "cell_type": "code",
   "execution_count": 16,
   "id": "3461bb09",
   "metadata": {},
   "outputs": [
    {
     "name": "stdout",
     "output_type": "stream",
     "text": [
      "['2026-09-01']\n"
     ]
    }
   ],
   "source": [
    "pattern = r'\\d{4}-\\d{2}-\\d{2}'\n",
    "match = re.findall(pattern,text)\n",
    "print (match)"
   ]
  },
  {
   "cell_type": "code",
   "execution_count": 17,
   "id": "2c8b741c",
   "metadata": {},
   "outputs": [],
   "source": [
    "# split a string"
   ]
  },
  {
   "cell_type": "code",
   "execution_count": 18,
   "id": "311c1cb8",
   "metadata": {},
   "outputs": [
    {
     "name": "stdout",
     "output_type": "stream",
     "text": [
      "[\"today's date is \", '']\n"
     ]
    }
   ],
   "source": [
    "pattern = r'\\d{4}-\\d{2}-\\d{2}'\n",
    "match = re.split(pattern,string=\"today's date is 2026-09-01\")\n",
    "print (match)"
   ]
  },
  {
   "cell_type": "code",
   "execution_count": 19,
   "id": "0a55ba4d",
   "metadata": {},
   "outputs": [
    {
     "name": "stdout",
     "output_type": "stream",
     "text": [
      "['hey there this gowtham, i have self taught everything i can manage things, i will work good when things are getting harder because i know if things are getting harder every one quits but i will stand still for the problem to solve , i will make good decesion in what ever the situation is ,i will make sure i win,if i play i pplay to win, dedication hardword dedication hardwork dedication hardwork i dont care how many people againt me i have god on my side, i have cursial time to chage my life is now ,i will never forget iin life about my winter arc it is sos special it is started september ', ', my. email is gowtham', '@gmail.com,here is my email: email@email.com and info@kgptalkie.com and \\n        udemy@kgptalkie.com,Here is my lucky number ', \",today's date is \", '-', '-', ',Here is my mobile number: ', '..\\n']\n"
     ]
    }
   ],
   "source": [
    "pattern = r'\\d+'\n",
    "match = re.split(pattern,text)\n",
    "print(match)"
   ]
  },
  {
   "cell_type": "code",
   "execution_count": 20,
   "id": "18a99d1e",
   "metadata": {},
   "outputs": [],
   "source": [
    "# replaceing matches re.sub()"
   ]
  },
  {
   "cell_type": "code",
   "execution_count": 21,
   "id": "2e1eea65",
   "metadata": {},
   "outputs": [
    {
     "name": "stdout",
     "output_type": "stream",
     "text": [
      "hey there this gowtham, i have self taught everything i can manage things, i will work good when things are getting harder because i know if things are getting harder every one quits but i will stand still for the problem to solve , i will make good decesion in what ever the situation is ,i will make sure i win,if i play i pplay to win, dedication hardword dedication hardwork dedication hardwork i dont care how many people againt me i have god on my side, i have cursial time to chage my life is now ,i will never forget iin life about my winter arc it is sos special it is started september 2024, my. email is gowtham1111@gmail.com,here is my email: email@email.com and info@kgptalkie.com and \n",
      "        udemy@kgptalkie.com,Here is my lucky number 11,today's date is 2026-09-01,Here is my mobile number: 07897432355..\n",
      "\n"
     ]
    }
   ],
   "source": [
    "print(text)"
   ]
  },
  {
   "cell_type": "code",
   "execution_count": 22,
   "id": "fb6731f5",
   "metadata": {},
   "outputs": [
    {
     "name": "stdout",
     "output_type": "stream",
     "text": [
      "hey there this gowtham, i have self taught everything i can manage things, i will work good when things are getting harder because i know if things are getting harder every one quits but i will stand still for the problem to solve , i will make good decesion in what ever the situation is ,i will make sure i win,if i play i pplay to win, dedication hardword dedication hardwork dedication hardwork i dont care how many people againt me i have god on my side, i have cursial time to chage my life is now ,i will never forget iin life about my winter arc it is sos special it is started september 2024, my. email is gowtham1111@gmail.com,here is my email: email@email.com and info@kgptalkie.com and \n",
      "        udemy@kgptalkie.com,Here is my lucky number 11,today's date is 2026-09-01,Here is my mobile number: *..\n",
      "\n"
     ]
    }
   ],
   "source": [
    "pattern = r'0?\\d{10}'\n",
    "match = re.sub(pattern,\"*\",text)\n",
    "print(match)"
   ]
  },
  {
   "cell_type": "code",
   "execution_count": 23,
   "id": "82e66def",
   "metadata": {},
   "outputs": [
    {
     "data": {
      "text/plain": [
       "['07897432355']"
      ]
     },
     "execution_count": 23,
     "metadata": {},
     "output_type": "execute_result"
    }
   ],
   "source": [
    "pattern = r'0?\\d{10}'\n",
    "re.findall(pattern,text)\n"
   ]
  },
  {
   "cell_type": "code",
   "execution_count": 24,
   "id": "c9910762",
   "metadata": {},
   "outputs": [
    {
     "name": "stdout",
     "output_type": "stream",
     "text": [
      "hey there this gowtham, i have self taught everything i can manage things, i will work good when things are getting harder because i know if things are getting harder every one quits but i will stand still for the problem to solve , i will make good decesion in what ever the situation is ,i will make sure i win,if i play i pplay to win, dedication hardword dedication hardwork dedication hardwork i dont care how many people againt me i have god on my side, i have cursial time to chage my life is now ,i will never forget iin life about my winter arc it is sos special it is started september 2024, my. email is gowtham1111@gmail.com,here is my email: email@email.com and info@kgptalkie.com and \n",
      "        udemy@kgptalkie.com,Here is my lucky number 11,today's date is 2026-09-01,Here is my mobile number: ***********..\n",
      "\n"
     ]
    }
   ],
   "source": [
    "def replace_with_star(match):\n",
    "    return '*' * len(match.group())\n",
    "pattern = r'0?\\d{10}'\n",
    "match = re.sub(pattern,replace_with_star,text)\n",
    "print(match)"
   ]
  },
  {
   "cell_type": "code",
   "execution_count": 25,
   "id": "2d497028",
   "metadata": {},
   "outputs": [
    {
     "name": "stdout",
     "output_type": "stream",
     "text": [
      "hey there this gowtham, i have self taught everything i can manage things, i will work good when things are getting harder because i know if things are getting harder every one quits but i will stand still for the problem to solve , i will make good decesion in what ever the situation is ,i will make sure i win,if i play i pplay to win, dedication hardword dedication hardwork dedication hardwork i dont care how many people againt me i have god on my side, i have cursial time to chage my life is now ,i will never forget iin life about my winter arc it is sos special it is started september 2024, my. email is *********************,here is my email: *************** and ****************** and \n",
      "        *******************,Here is my lucky number 11,today's date is 2026-09-01,Here is my mobile number: ***********..\n",
      "\n"
     ]
    }
   ],
   "source": [
    "def replace_with_star(match):\n",
    "    return '*' * len(match.group())\n",
    "pattern = r'0?\\d{10}|\\w+@\\w+.\\w+'\n",
    "match = re.sub(pattern,replace_with_star,text)\n",
    "print(match)"
   ]
  },
  {
   "cell_type": "code",
   "execution_count": 26,
   "id": "50407555",
   "metadata": {},
   "outputs": [],
   "source": [
    "# SPACY "
   ]
  },
  {
   "cell_type": "code",
   "execution_count": 28,
   "id": "11431218",
   "metadata": {},
   "outputs": [],
   "source": [
    "import spacy\n",
    "from prettytable import PrettyTable"
   ]
  },
  {
   "cell_type": "code",
   "execution_count": 30,
   "id": "575aa292",
   "metadata": {},
   "outputs": [],
   "source": [
    "nlp = spacy.load('en_core_web_sm')"
   ]
  },
  {
   "cell_type": "code",
   "execution_count": 31,
   "id": "cef0a246",
   "metadata": {},
   "outputs": [],
   "source": [
    "text = \"Hello KGP Talkie! Let's learn NLP together. I am 24.\"\n",
    "doc = nlp(text)"
   ]
  },
  {
   "cell_type": "code",
   "execution_count": 32,
   "id": "211c6949",
   "metadata": {},
   "outputs": [
    {
     "name": "stdout",
     "output_type": "stream",
     "text": [
      "Hello True False\n",
      "KGP True False\n",
      "Talkie True False\n",
      "! False False\n",
      "Let True False\n",
      "'s False False\n",
      "learn True False\n",
      "NLP True False\n",
      "together True False\n",
      ". False False\n",
      "I True False\n",
      "am True False\n",
      "24 False True\n",
      ". False False\n"
     ]
    }
   ],
   "source": [
    "#doc to dict\n",
    "for token in doc:\n",
    "    print(token.text,token.is_alpha,token.like_num)"
   ]
  },
  {
   "cell_type": "code",
   "execution_count": 33,
   "id": "c93491f5",
   "metadata": {},
   "outputs": [
    {
     "name": "stdout",
     "output_type": "stream",
     "text": [
      "+----------+----------+----------+----------+\n",
      "|  token   | is alpha | like num | is space |\n",
      "+----------+----------+----------+----------+\n",
      "|  Hello   |   True   |  False   |  False   |\n",
      "|   KGP    |   True   |  False   |  False   |\n",
      "|  Talkie  |   True   |  False   |  False   |\n",
      "|    !     |  False   |  False   |  False   |\n",
      "|   Let    |   True   |  False   |  False   |\n",
      "|    's    |  False   |  False   |  False   |\n",
      "|  learn   |   True   |  False   |  False   |\n",
      "|   NLP    |   True   |  False   |  False   |\n",
      "| together |   True   |  False   |  False   |\n",
      "|    .     |  False   |  False   |  False   |\n",
      "|    I     |   True   |  False   |  False   |\n",
      "|    am    |   True   |  False   |  False   |\n",
      "|    24    |  False   |   True   |  False   |\n",
      "|    .     |  False   |  False   |  False   |\n",
      "+----------+----------+----------+----------+\n"
     ]
    }
   ],
   "source": [
    "table = PrettyTable()\n",
    "table.field_names = ['token','is alpha','like num','is space']\n",
    "for token in doc:\n",
    "    #print(token.text,token.is_alpha,token.like_num)\n",
    "    table.add_row([token.text,token.is_alpha,token.like_num,token.is_space])\n",
    "print(table)"
   ]
  },
  {
   "cell_type": "code",
   "execution_count": 34,
   "id": "b7f31747",
   "metadata": {},
   "outputs": [],
   "source": [
    "#parts of speech "
   ]
  },
  {
   "cell_type": "code",
   "execution_count": 35,
   "id": "b6210395",
   "metadata": {},
   "outputs": [
    {
     "data": {
      "text/plain": [
       "Hello KGP Talkie! Let's learn NLP together. I am 24."
      ]
     },
     "execution_count": 35,
     "metadata": {},
     "output_type": "execute_result"
    }
   ],
   "source": [
    "doc"
   ]
  },
  {
   "cell_type": "code",
   "execution_count": 36,
   "id": "87a991e5",
   "metadata": {},
   "outputs": [
    {
     "name": "stdout",
     "output_type": "stream",
     "text": [
      "+----------+-------+---------+---------------------------------------+\n",
      "|  token   |  pos  | details |              explanation              |\n",
      "+----------+-------+---------+---------------------------------------+\n",
      "|  Hello   |  INTJ |    UH   |              interjection             |\n",
      "|   KGP    | PROPN |   NNP   |         noun, proper singular         |\n",
      "|  Talkie  | PROPN |   NNP   |         noun, proper singular         |\n",
      "|    !     | PUNCT |    .    |   punctuation mark, sentence closer   |\n",
      "|   Let    |  VERB |    VB   |            verb, base form            |\n",
      "|    's    |  PRON |   PRP   |           pronoun, personal           |\n",
      "|  learn   |  VERB |    VB   |            verb, base form            |\n",
      "|   NLP    | PROPN |   NNP   |         noun, proper singular         |\n",
      "| together |  ADV  |    RB   |                 adverb                |\n",
      "|    .     | PUNCT |    .    |   punctuation mark, sentence closer   |\n",
      "|    I     |  PRON |   PRP   |           pronoun, personal           |\n",
      "|    am    |  AUX  |   VBP   | verb, non-3rd person singular present |\n",
      "|    24    |  NUM  |    CD   |            cardinal number            |\n",
      "|    .     | PUNCT |    .    |   punctuation mark, sentence closer   |\n",
      "+----------+-------+---------+---------------------------------------+\n"
     ]
    }
   ],
   "source": [
    "table = PrettyTable()\n",
    "table.field_names = ['token','pos','details','explanation']\n",
    "\n",
    "for token in doc:\n",
    "    table.add_row([token.text,token.pos_,token.tag_,spacy.explain(token.tag_)])\n",
    "print(table)    "
   ]
  },
  {
   "cell_type": "code",
   "execution_count": 37,
   "id": "9f9ef8a2",
   "metadata": {},
   "outputs": [],
   "source": [
    "# dependency parsing"
   ]
  },
  {
   "cell_type": "code",
   "execution_count": 38,
   "id": "f5d711c0",
   "metadata": {},
   "outputs": [
    {
     "name": "stdout",
     "output_type": "stream",
     "text": [
      "+----------+--------+-----------+----------+---------------------------------------+\n",
      "|  token   |  dep   | head text | head pos |                children               |\n",
      "+----------+--------+-----------+----------+---------------------------------------+\n",
      "|   The    |  det   |    air    |   NOUN   |                   []                  |\n",
      "|   dead   |  amod  |    air    |   NOUN   |                   []                  |\n",
      "|   air    | nsubj  |   shaped  |   VERB   |            ['The', 'dead']            |\n",
      "|  shaped  |  ROOT  |   shaped  |   VERB   | ['air', 'darkness', ',', 'away', '.'] |\n",
      "|   the    |  det   |  darkness |   NOUN   |                   []                  |\n",
      "|   dead   |  amod  |  darkness |   NOUN   |                   []                  |\n",
      "| darkness |  dobj  |   shaped  |   VERB   |            ['the', 'dead']            |\n",
      "|    ,     | punct  |   shaped  |   VERB   |                   []                  |\n",
      "| further  | advmod |    away   |   ADV    |                   []                  |\n",
      "|   away   | advmod |   shaped  |   VERB   |          ['further', 'than']          |\n",
      "|   than   |  prep  |    away   |   ADV    |               ['seeing']              |\n",
      "|  seeing  | pcomp  |    than   |   ADP    |          ['shapes', 'earth']          |\n",
      "|  shapes  |  dobj  |   seeing  |   VERB   |                   []                  |\n",
      "|   the    |  det   |   earth   |   NOUN   |                   []                  |\n",
      "|   dead   |  amod  |   earth   |   NOUN   |                   []                  |\n",
      "|  earth   |  dobj  |   seeing  |   VERB   |            ['the', 'dead']            |\n",
      "|    .     | punct  |   shaped  |   VERB   |                   []                  |\n",
      "+----------+--------+-----------+----------+---------------------------------------+\n"
     ]
    }
   ],
   "source": [
    "text = 'The dead air shaped the dead darkness, further away than seeing shapes the dead earth.'\n",
    "doc = nlp(text)\n",
    "\n",
    "table = PrettyTable()\n",
    "table.field_names = ['token','dep','head text','head pos','children']\n",
    "\n",
    "for token in doc:\n",
    "    children = [child.text for child in token.children]\n",
    "    table.add_row([token.text,token.dep_,token.head.text,token.head.pos_,children])\n",
    "print(table) "
   ]
  },
  {
   "cell_type": "code",
   "execution_count": 39,
   "id": "10f4d283",
   "metadata": {},
   "outputs": [],
   "source": [
    "from spacy import displacy "
   ]
  },
  {
   "cell_type": "code",
   "execution_count": 40,
   "id": "11cffbc2",
   "metadata": {},
   "outputs": [
    {
     "data": {
      "text/html": [
       "<span class=\"tex2jax_ignore\"><svg xmlns=\"http://www.w3.org/2000/svg\" xmlns:xlink=\"http://www.w3.org/1999/xlink\" xml:lang=\"en\" id=\"0c7f5bdd658e48738eb1c569df8614d9-0\" class=\"displacy\" width=\"1400\" height=\"317.0\" direction=\"ltr\" style=\"max-width: none; height: 317.0px; color: #000000; background: #ffffff; font-family: Arial; direction: ltr\">\n",
       "<text class=\"displacy-token\" fill=\"currentColor\" text-anchor=\"middle\" y=\"227.0\">\n",
       "    <tspan class=\"displacy-word\" fill=\"currentColor\" x=\"50\">The</tspan>\n",
       "    <tspan class=\"displacy-tag\" dy=\"2em\" fill=\"currentColor\" x=\"50\">DET</tspan>\n",
       "</text>\n",
       "\n",
       "<text class=\"displacy-token\" fill=\"currentColor\" text-anchor=\"middle\" y=\"227.0\">\n",
       "    <tspan class=\"displacy-word\" fill=\"currentColor\" x=\"140\">dead</tspan>\n",
       "    <tspan class=\"displacy-tag\" dy=\"2em\" fill=\"currentColor\" x=\"140\">ADJ</tspan>\n",
       "</text>\n",
       "\n",
       "<text class=\"displacy-token\" fill=\"currentColor\" text-anchor=\"middle\" y=\"227.0\">\n",
       "    <tspan class=\"displacy-word\" fill=\"currentColor\" x=\"230\">air</tspan>\n",
       "    <tspan class=\"displacy-tag\" dy=\"2em\" fill=\"currentColor\" x=\"230\">NOUN</tspan>\n",
       "</text>\n",
       "\n",
       "<text class=\"displacy-token\" fill=\"currentColor\" text-anchor=\"middle\" y=\"227.0\">\n",
       "    <tspan class=\"displacy-word\" fill=\"currentColor\" x=\"320\">shaped</tspan>\n",
       "    <tspan class=\"displacy-tag\" dy=\"2em\" fill=\"currentColor\" x=\"320\">VERB</tspan>\n",
       "</text>\n",
       "\n",
       "<text class=\"displacy-token\" fill=\"currentColor\" text-anchor=\"middle\" y=\"227.0\">\n",
       "    <tspan class=\"displacy-word\" fill=\"currentColor\" x=\"410\">the</tspan>\n",
       "    <tspan class=\"displacy-tag\" dy=\"2em\" fill=\"currentColor\" x=\"410\">DET</tspan>\n",
       "</text>\n",
       "\n",
       "<text class=\"displacy-token\" fill=\"currentColor\" text-anchor=\"middle\" y=\"227.0\">\n",
       "    <tspan class=\"displacy-word\" fill=\"currentColor\" x=\"500\">dead</tspan>\n",
       "    <tspan class=\"displacy-tag\" dy=\"2em\" fill=\"currentColor\" x=\"500\">ADJ</tspan>\n",
       "</text>\n",
       "\n",
       "<text class=\"displacy-token\" fill=\"currentColor\" text-anchor=\"middle\" y=\"227.0\">\n",
       "    <tspan class=\"displacy-word\" fill=\"currentColor\" x=\"590\">darkness,</tspan>\n",
       "    <tspan class=\"displacy-tag\" dy=\"2em\" fill=\"currentColor\" x=\"590\">NOUN</tspan>\n",
       "</text>\n",
       "\n",
       "<text class=\"displacy-token\" fill=\"currentColor\" text-anchor=\"middle\" y=\"227.0\">\n",
       "    <tspan class=\"displacy-word\" fill=\"currentColor\" x=\"680\">further</tspan>\n",
       "    <tspan class=\"displacy-tag\" dy=\"2em\" fill=\"currentColor\" x=\"680\">ADV</tspan>\n",
       "</text>\n",
       "\n",
       "<text class=\"displacy-token\" fill=\"currentColor\" text-anchor=\"middle\" y=\"227.0\">\n",
       "    <tspan class=\"displacy-word\" fill=\"currentColor\" x=\"770\">away</tspan>\n",
       "    <tspan class=\"displacy-tag\" dy=\"2em\" fill=\"currentColor\" x=\"770\">ADV</tspan>\n",
       "</text>\n",
       "\n",
       "<text class=\"displacy-token\" fill=\"currentColor\" text-anchor=\"middle\" y=\"227.0\">\n",
       "    <tspan class=\"displacy-word\" fill=\"currentColor\" x=\"860\">than</tspan>\n",
       "    <tspan class=\"displacy-tag\" dy=\"2em\" fill=\"currentColor\" x=\"860\">ADP</tspan>\n",
       "</text>\n",
       "\n",
       "<text class=\"displacy-token\" fill=\"currentColor\" text-anchor=\"middle\" y=\"227.0\">\n",
       "    <tspan class=\"displacy-word\" fill=\"currentColor\" x=\"950\">seeing</tspan>\n",
       "    <tspan class=\"displacy-tag\" dy=\"2em\" fill=\"currentColor\" x=\"950\">VERB</tspan>\n",
       "</text>\n",
       "\n",
       "<text class=\"displacy-token\" fill=\"currentColor\" text-anchor=\"middle\" y=\"227.0\">\n",
       "    <tspan class=\"displacy-word\" fill=\"currentColor\" x=\"1040\">shapes</tspan>\n",
       "    <tspan class=\"displacy-tag\" dy=\"2em\" fill=\"currentColor\" x=\"1040\">NOUN</tspan>\n",
       "</text>\n",
       "\n",
       "<text class=\"displacy-token\" fill=\"currentColor\" text-anchor=\"middle\" y=\"227.0\">\n",
       "    <tspan class=\"displacy-word\" fill=\"currentColor\" x=\"1130\">the</tspan>\n",
       "    <tspan class=\"displacy-tag\" dy=\"2em\" fill=\"currentColor\" x=\"1130\">DET</tspan>\n",
       "</text>\n",
       "\n",
       "<text class=\"displacy-token\" fill=\"currentColor\" text-anchor=\"middle\" y=\"227.0\">\n",
       "    <tspan class=\"displacy-word\" fill=\"currentColor\" x=\"1220\">dead</tspan>\n",
       "    <tspan class=\"displacy-tag\" dy=\"2em\" fill=\"currentColor\" x=\"1220\">ADJ</tspan>\n",
       "</text>\n",
       "\n",
       "<text class=\"displacy-token\" fill=\"currentColor\" text-anchor=\"middle\" y=\"227.0\">\n",
       "    <tspan class=\"displacy-word\" fill=\"currentColor\" x=\"1310\">earth.</tspan>\n",
       "    <tspan class=\"displacy-tag\" dy=\"2em\" fill=\"currentColor\" x=\"1310\">NOUN</tspan>\n",
       "</text>\n",
       "\n",
       "<g class=\"displacy-arrow\">\n",
       "    <path class=\"displacy-arc\" id=\"arrow-0c7f5bdd658e48738eb1c569df8614d9-0-0\" stroke-width=\"2px\" d=\"M70,182.0 C70,92.0 220.0,92.0 220.0,182.0\" fill=\"none\" stroke=\"currentColor\"/>\n",
       "    <text dy=\"1.25em\" style=\"font-size: 0.8em; letter-spacing: 1px\">\n",
       "        <textPath xlink:href=\"#arrow-0c7f5bdd658e48738eb1c569df8614d9-0-0\" class=\"displacy-label\" startOffset=\"50%\" side=\"left\" fill=\"currentColor\" text-anchor=\"middle\">det</textPath>\n",
       "    </text>\n",
       "    <path class=\"displacy-arrowhead\" d=\"M70,184.0 L62,172.0 78,172.0\" fill=\"currentColor\"/>\n",
       "</g>\n",
       "\n",
       "<g class=\"displacy-arrow\">\n",
       "    <path class=\"displacy-arc\" id=\"arrow-0c7f5bdd658e48738eb1c569df8614d9-0-1\" stroke-width=\"2px\" d=\"M160,182.0 C160,137.0 215.0,137.0 215.0,182.0\" fill=\"none\" stroke=\"currentColor\"/>\n",
       "    <text dy=\"1.25em\" style=\"font-size: 0.8em; letter-spacing: 1px\">\n",
       "        <textPath xlink:href=\"#arrow-0c7f5bdd658e48738eb1c569df8614d9-0-1\" class=\"displacy-label\" startOffset=\"50%\" side=\"left\" fill=\"currentColor\" text-anchor=\"middle\">amod</textPath>\n",
       "    </text>\n",
       "    <path class=\"displacy-arrowhead\" d=\"M160,184.0 L152,172.0 168,172.0\" fill=\"currentColor\"/>\n",
       "</g>\n",
       "\n",
       "<g class=\"displacy-arrow\">\n",
       "    <path class=\"displacy-arc\" id=\"arrow-0c7f5bdd658e48738eb1c569df8614d9-0-2\" stroke-width=\"2px\" d=\"M250,182.0 C250,137.0 305.0,137.0 305.0,182.0\" fill=\"none\" stroke=\"currentColor\"/>\n",
       "    <text dy=\"1.25em\" style=\"font-size: 0.8em; letter-spacing: 1px\">\n",
       "        <textPath xlink:href=\"#arrow-0c7f5bdd658e48738eb1c569df8614d9-0-2\" class=\"displacy-label\" startOffset=\"50%\" side=\"left\" fill=\"currentColor\" text-anchor=\"middle\">nsubj</textPath>\n",
       "    </text>\n",
       "    <path class=\"displacy-arrowhead\" d=\"M250,184.0 L242,172.0 258,172.0\" fill=\"currentColor\"/>\n",
       "</g>\n",
       "\n",
       "<g class=\"displacy-arrow\">\n",
       "    <path class=\"displacy-arc\" id=\"arrow-0c7f5bdd658e48738eb1c569df8614d9-0-3\" stroke-width=\"2px\" d=\"M430,182.0 C430,92.0 580.0,92.0 580.0,182.0\" fill=\"none\" stroke=\"currentColor\"/>\n",
       "    <text dy=\"1.25em\" style=\"font-size: 0.8em; letter-spacing: 1px\">\n",
       "        <textPath xlink:href=\"#arrow-0c7f5bdd658e48738eb1c569df8614d9-0-3\" class=\"displacy-label\" startOffset=\"50%\" side=\"left\" fill=\"currentColor\" text-anchor=\"middle\">det</textPath>\n",
       "    </text>\n",
       "    <path class=\"displacy-arrowhead\" d=\"M430,184.0 L422,172.0 438,172.0\" fill=\"currentColor\"/>\n",
       "</g>\n",
       "\n",
       "<g class=\"displacy-arrow\">\n",
       "    <path class=\"displacy-arc\" id=\"arrow-0c7f5bdd658e48738eb1c569df8614d9-0-4\" stroke-width=\"2px\" d=\"M520,182.0 C520,137.0 575.0,137.0 575.0,182.0\" fill=\"none\" stroke=\"currentColor\"/>\n",
       "    <text dy=\"1.25em\" style=\"font-size: 0.8em; letter-spacing: 1px\">\n",
       "        <textPath xlink:href=\"#arrow-0c7f5bdd658e48738eb1c569df8614d9-0-4\" class=\"displacy-label\" startOffset=\"50%\" side=\"left\" fill=\"currentColor\" text-anchor=\"middle\">amod</textPath>\n",
       "    </text>\n",
       "    <path class=\"displacy-arrowhead\" d=\"M520,184.0 L512,172.0 528,172.0\" fill=\"currentColor\"/>\n",
       "</g>\n",
       "\n",
       "<g class=\"displacy-arrow\">\n",
       "    <path class=\"displacy-arc\" id=\"arrow-0c7f5bdd658e48738eb1c569df8614d9-0-5\" stroke-width=\"2px\" d=\"M340,182.0 C340,47.0 585.0,47.0 585.0,182.0\" fill=\"none\" stroke=\"currentColor\"/>\n",
       "    <text dy=\"1.25em\" style=\"font-size: 0.8em; letter-spacing: 1px\">\n",
       "        <textPath xlink:href=\"#arrow-0c7f5bdd658e48738eb1c569df8614d9-0-5\" class=\"displacy-label\" startOffset=\"50%\" side=\"left\" fill=\"currentColor\" text-anchor=\"middle\">dobj</textPath>\n",
       "    </text>\n",
       "    <path class=\"displacy-arrowhead\" d=\"M585.0,184.0 L593.0,172.0 577.0,172.0\" fill=\"currentColor\"/>\n",
       "</g>\n",
       "\n",
       "<g class=\"displacy-arrow\">\n",
       "    <path class=\"displacy-arc\" id=\"arrow-0c7f5bdd658e48738eb1c569df8614d9-0-6\" stroke-width=\"2px\" d=\"M700,182.0 C700,137.0 755.0,137.0 755.0,182.0\" fill=\"none\" stroke=\"currentColor\"/>\n",
       "    <text dy=\"1.25em\" style=\"font-size: 0.8em; letter-spacing: 1px\">\n",
       "        <textPath xlink:href=\"#arrow-0c7f5bdd658e48738eb1c569df8614d9-0-6\" class=\"displacy-label\" startOffset=\"50%\" side=\"left\" fill=\"currentColor\" text-anchor=\"middle\">advmod</textPath>\n",
       "    </text>\n",
       "    <path class=\"displacy-arrowhead\" d=\"M700,184.0 L692,172.0 708,172.0\" fill=\"currentColor\"/>\n",
       "</g>\n",
       "\n",
       "<g class=\"displacy-arrow\">\n",
       "    <path class=\"displacy-arc\" id=\"arrow-0c7f5bdd658e48738eb1c569df8614d9-0-7\" stroke-width=\"2px\" d=\"M340,182.0 C340,2.0 770.0,2.0 770.0,182.0\" fill=\"none\" stroke=\"currentColor\"/>\n",
       "    <text dy=\"1.25em\" style=\"font-size: 0.8em; letter-spacing: 1px\">\n",
       "        <textPath xlink:href=\"#arrow-0c7f5bdd658e48738eb1c569df8614d9-0-7\" class=\"displacy-label\" startOffset=\"50%\" side=\"left\" fill=\"currentColor\" text-anchor=\"middle\">advmod</textPath>\n",
       "    </text>\n",
       "    <path class=\"displacy-arrowhead\" d=\"M770.0,184.0 L778.0,172.0 762.0,172.0\" fill=\"currentColor\"/>\n",
       "</g>\n",
       "\n",
       "<g class=\"displacy-arrow\">\n",
       "    <path class=\"displacy-arc\" id=\"arrow-0c7f5bdd658e48738eb1c569df8614d9-0-8\" stroke-width=\"2px\" d=\"M790,182.0 C790,137.0 845.0,137.0 845.0,182.0\" fill=\"none\" stroke=\"currentColor\"/>\n",
       "    <text dy=\"1.25em\" style=\"font-size: 0.8em; letter-spacing: 1px\">\n",
       "        <textPath xlink:href=\"#arrow-0c7f5bdd658e48738eb1c569df8614d9-0-8\" class=\"displacy-label\" startOffset=\"50%\" side=\"left\" fill=\"currentColor\" text-anchor=\"middle\">prep</textPath>\n",
       "    </text>\n",
       "    <path class=\"displacy-arrowhead\" d=\"M845.0,184.0 L853.0,172.0 837.0,172.0\" fill=\"currentColor\"/>\n",
       "</g>\n",
       "\n",
       "<g class=\"displacy-arrow\">\n",
       "    <path class=\"displacy-arc\" id=\"arrow-0c7f5bdd658e48738eb1c569df8614d9-0-9\" stroke-width=\"2px\" d=\"M880,182.0 C880,137.0 935.0,137.0 935.0,182.0\" fill=\"none\" stroke=\"currentColor\"/>\n",
       "    <text dy=\"1.25em\" style=\"font-size: 0.8em; letter-spacing: 1px\">\n",
       "        <textPath xlink:href=\"#arrow-0c7f5bdd658e48738eb1c569df8614d9-0-9\" class=\"displacy-label\" startOffset=\"50%\" side=\"left\" fill=\"currentColor\" text-anchor=\"middle\">pcomp</textPath>\n",
       "    </text>\n",
       "    <path class=\"displacy-arrowhead\" d=\"M935.0,184.0 L943.0,172.0 927.0,172.0\" fill=\"currentColor\"/>\n",
       "</g>\n",
       "\n",
       "<g class=\"displacy-arrow\">\n",
       "    <path class=\"displacy-arc\" id=\"arrow-0c7f5bdd658e48738eb1c569df8614d9-0-10\" stroke-width=\"2px\" d=\"M970,182.0 C970,137.0 1025.0,137.0 1025.0,182.0\" fill=\"none\" stroke=\"currentColor\"/>\n",
       "    <text dy=\"1.25em\" style=\"font-size: 0.8em; letter-spacing: 1px\">\n",
       "        <textPath xlink:href=\"#arrow-0c7f5bdd658e48738eb1c569df8614d9-0-10\" class=\"displacy-label\" startOffset=\"50%\" side=\"left\" fill=\"currentColor\" text-anchor=\"middle\">dobj</textPath>\n",
       "    </text>\n",
       "    <path class=\"displacy-arrowhead\" d=\"M1025.0,184.0 L1033.0,172.0 1017.0,172.0\" fill=\"currentColor\"/>\n",
       "</g>\n",
       "\n",
       "<g class=\"displacy-arrow\">\n",
       "    <path class=\"displacy-arc\" id=\"arrow-0c7f5bdd658e48738eb1c569df8614d9-0-11\" stroke-width=\"2px\" d=\"M1150,182.0 C1150,92.0 1300.0,92.0 1300.0,182.0\" fill=\"none\" stroke=\"currentColor\"/>\n",
       "    <text dy=\"1.25em\" style=\"font-size: 0.8em; letter-spacing: 1px\">\n",
       "        <textPath xlink:href=\"#arrow-0c7f5bdd658e48738eb1c569df8614d9-0-11\" class=\"displacy-label\" startOffset=\"50%\" side=\"left\" fill=\"currentColor\" text-anchor=\"middle\">det</textPath>\n",
       "    </text>\n",
       "    <path class=\"displacy-arrowhead\" d=\"M1150,184.0 L1142,172.0 1158,172.0\" fill=\"currentColor\"/>\n",
       "</g>\n",
       "\n",
       "<g class=\"displacy-arrow\">\n",
       "    <path class=\"displacy-arc\" id=\"arrow-0c7f5bdd658e48738eb1c569df8614d9-0-12\" stroke-width=\"2px\" d=\"M1240,182.0 C1240,137.0 1295.0,137.0 1295.0,182.0\" fill=\"none\" stroke=\"currentColor\"/>\n",
       "    <text dy=\"1.25em\" style=\"font-size: 0.8em; letter-spacing: 1px\">\n",
       "        <textPath xlink:href=\"#arrow-0c7f5bdd658e48738eb1c569df8614d9-0-12\" class=\"displacy-label\" startOffset=\"50%\" side=\"left\" fill=\"currentColor\" text-anchor=\"middle\">amod</textPath>\n",
       "    </text>\n",
       "    <path class=\"displacy-arrowhead\" d=\"M1240,184.0 L1232,172.0 1248,172.0\" fill=\"currentColor\"/>\n",
       "</g>\n",
       "\n",
       "<g class=\"displacy-arrow\">\n",
       "    <path class=\"displacy-arc\" id=\"arrow-0c7f5bdd658e48738eb1c569df8614d9-0-13\" stroke-width=\"2px\" d=\"M970,182.0 C970,47.0 1305.0,47.0 1305.0,182.0\" fill=\"none\" stroke=\"currentColor\"/>\n",
       "    <text dy=\"1.25em\" style=\"font-size: 0.8em; letter-spacing: 1px\">\n",
       "        <textPath xlink:href=\"#arrow-0c7f5bdd658e48738eb1c569df8614d9-0-13\" class=\"displacy-label\" startOffset=\"50%\" side=\"left\" fill=\"currentColor\" text-anchor=\"middle\">dobj</textPath>\n",
       "    </text>\n",
       "    <path class=\"displacy-arrowhead\" d=\"M1305.0,184.0 L1313.0,172.0 1297.0,172.0\" fill=\"currentColor\"/>\n",
       "</g>\n",
       "</svg></span>"
      ],
      "text/plain": [
       "<IPython.core.display.HTML object>"
      ]
     },
     "metadata": {},
     "output_type": "display_data"
    }
   ],
   "source": [
    "displacy.render(doc, style='dep',jupyter=True,options={'distance': 90})"
   ]
  },
  {
   "cell_type": "code",
   "execution_count": 41,
   "id": "119c94ac",
   "metadata": {},
   "outputs": [
    {
     "data": {
      "text/html": [
       "<span class=\"tex2jax_ignore\"><svg xmlns=\"http://www.w3.org/2000/svg\" xmlns:xlink=\"http://www.w3.org/1999/xlink\" xml:lang=\"en\" id=\"bf4ad7fa423e48958336d35e7bc87387-0\" class=\"displacy\" width=\"1925\" height=\"387.0\" direction=\"ltr\" style=\"max-width: none; height: 387.0px; color: #ffffff; background: #09a3d3; font-family: Arial; direction: ltr\">\n",
       "<text class=\"displacy-token\" fill=\"currentColor\" text-anchor=\"middle\" y=\"297.0\">\n",
       "    <tspan class=\"displacy-word\" fill=\"currentColor\" x=\"50\">The</tspan>\n",
       "    <tspan class=\"displacy-tag\" dy=\"2em\" fill=\"currentColor\" x=\"50\">DET</tspan>\n",
       "</text>\n",
       "\n",
       "<text class=\"displacy-token\" fill=\"currentColor\" text-anchor=\"middle\" y=\"297.0\">\n",
       "    <tspan class=\"displacy-word\" fill=\"currentColor\" x=\"175\">dead</tspan>\n",
       "    <tspan class=\"displacy-tag\" dy=\"2em\" fill=\"currentColor\" x=\"175\">ADJ</tspan>\n",
       "</text>\n",
       "\n",
       "<text class=\"displacy-token\" fill=\"currentColor\" text-anchor=\"middle\" y=\"297.0\">\n",
       "    <tspan class=\"displacy-word\" fill=\"currentColor\" x=\"300\">air</tspan>\n",
       "    <tspan class=\"displacy-tag\" dy=\"2em\" fill=\"currentColor\" x=\"300\">NOUN</tspan>\n",
       "</text>\n",
       "\n",
       "<text class=\"displacy-token\" fill=\"currentColor\" text-anchor=\"middle\" y=\"297.0\">\n",
       "    <tspan class=\"displacy-word\" fill=\"currentColor\" x=\"425\">shaped</tspan>\n",
       "    <tspan class=\"displacy-tag\" dy=\"2em\" fill=\"currentColor\" x=\"425\">VERB</tspan>\n",
       "</text>\n",
       "\n",
       "<text class=\"displacy-token\" fill=\"currentColor\" text-anchor=\"middle\" y=\"297.0\">\n",
       "    <tspan class=\"displacy-word\" fill=\"currentColor\" x=\"550\">the</tspan>\n",
       "    <tspan class=\"displacy-tag\" dy=\"2em\" fill=\"currentColor\" x=\"550\">DET</tspan>\n",
       "</text>\n",
       "\n",
       "<text class=\"displacy-token\" fill=\"currentColor\" text-anchor=\"middle\" y=\"297.0\">\n",
       "    <tspan class=\"displacy-word\" fill=\"currentColor\" x=\"675\">dead</tspan>\n",
       "    <tspan class=\"displacy-tag\" dy=\"2em\" fill=\"currentColor\" x=\"675\">ADJ</tspan>\n",
       "</text>\n",
       "\n",
       "<text class=\"displacy-token\" fill=\"currentColor\" text-anchor=\"middle\" y=\"297.0\">\n",
       "    <tspan class=\"displacy-word\" fill=\"currentColor\" x=\"800\">darkness,</tspan>\n",
       "    <tspan class=\"displacy-tag\" dy=\"2em\" fill=\"currentColor\" x=\"800\">NOUN</tspan>\n",
       "</text>\n",
       "\n",
       "<text class=\"displacy-token\" fill=\"currentColor\" text-anchor=\"middle\" y=\"297.0\">\n",
       "    <tspan class=\"displacy-word\" fill=\"currentColor\" x=\"925\">further</tspan>\n",
       "    <tspan class=\"displacy-tag\" dy=\"2em\" fill=\"currentColor\" x=\"925\">ADV</tspan>\n",
       "</text>\n",
       "\n",
       "<text class=\"displacy-token\" fill=\"currentColor\" text-anchor=\"middle\" y=\"297.0\">\n",
       "    <tspan class=\"displacy-word\" fill=\"currentColor\" x=\"1050\">away</tspan>\n",
       "    <tspan class=\"displacy-tag\" dy=\"2em\" fill=\"currentColor\" x=\"1050\">ADV</tspan>\n",
       "</text>\n",
       "\n",
       "<text class=\"displacy-token\" fill=\"currentColor\" text-anchor=\"middle\" y=\"297.0\">\n",
       "    <tspan class=\"displacy-word\" fill=\"currentColor\" x=\"1175\">than</tspan>\n",
       "    <tspan class=\"displacy-tag\" dy=\"2em\" fill=\"currentColor\" x=\"1175\">ADP</tspan>\n",
       "</text>\n",
       "\n",
       "<text class=\"displacy-token\" fill=\"currentColor\" text-anchor=\"middle\" y=\"297.0\">\n",
       "    <tspan class=\"displacy-word\" fill=\"currentColor\" x=\"1300\">seeing</tspan>\n",
       "    <tspan class=\"displacy-tag\" dy=\"2em\" fill=\"currentColor\" x=\"1300\">VERB</tspan>\n",
       "</text>\n",
       "\n",
       "<text class=\"displacy-token\" fill=\"currentColor\" text-anchor=\"middle\" y=\"297.0\">\n",
       "    <tspan class=\"displacy-word\" fill=\"currentColor\" x=\"1425\">shapes</tspan>\n",
       "    <tspan class=\"displacy-tag\" dy=\"2em\" fill=\"currentColor\" x=\"1425\">NOUN</tspan>\n",
       "</text>\n",
       "\n",
       "<text class=\"displacy-token\" fill=\"currentColor\" text-anchor=\"middle\" y=\"297.0\">\n",
       "    <tspan class=\"displacy-word\" fill=\"currentColor\" x=\"1550\">the</tspan>\n",
       "    <tspan class=\"displacy-tag\" dy=\"2em\" fill=\"currentColor\" x=\"1550\">DET</tspan>\n",
       "</text>\n",
       "\n",
       "<text class=\"displacy-token\" fill=\"currentColor\" text-anchor=\"middle\" y=\"297.0\">\n",
       "    <tspan class=\"displacy-word\" fill=\"currentColor\" x=\"1675\">dead</tspan>\n",
       "    <tspan class=\"displacy-tag\" dy=\"2em\" fill=\"currentColor\" x=\"1675\">ADJ</tspan>\n",
       "</text>\n",
       "\n",
       "<text class=\"displacy-token\" fill=\"currentColor\" text-anchor=\"middle\" y=\"297.0\">\n",
       "    <tspan class=\"displacy-word\" fill=\"currentColor\" x=\"1800\">earth.</tspan>\n",
       "    <tspan class=\"displacy-tag\" dy=\"2em\" fill=\"currentColor\" x=\"1800\">NOUN</tspan>\n",
       "</text>\n",
       "\n",
       "<g class=\"displacy-arrow\">\n",
       "    <path class=\"displacy-arc\" id=\"arrow-bf4ad7fa423e48958336d35e7bc87387-0-0\" stroke-width=\"2px\" d=\"M62,252.0 62,210.33333333333334 294.0,210.33333333333334 294.0,252.0\" fill=\"none\" stroke=\"currentColor\"/>\n",
       "    <text dy=\"1.25em\" style=\"font-size: 0.8em; letter-spacing: 1px\">\n",
       "        <textPath xlink:href=\"#arrow-bf4ad7fa423e48958336d35e7bc87387-0-0\" class=\"displacy-label\" startOffset=\"50%\" side=\"left\" fill=\"currentColor\" text-anchor=\"middle\">det</textPath>\n",
       "    </text>\n",
       "    <path class=\"displacy-arrowhead\" d=\"M62,254.0 L58,246.0 66,246.0\" fill=\"currentColor\"/>\n",
       "</g>\n",
       "\n",
       "<g class=\"displacy-arrow\">\n",
       "    <path class=\"displacy-arc\" id=\"arrow-bf4ad7fa423e48958336d35e7bc87387-0-1\" stroke-width=\"2px\" d=\"M187,252.0 187,231.16666666666666 291.0,231.16666666666666 291.0,252.0\" fill=\"none\" stroke=\"currentColor\"/>\n",
       "    <text dy=\"1.25em\" style=\"font-size: 0.8em; letter-spacing: 1px\">\n",
       "        <textPath xlink:href=\"#arrow-bf4ad7fa423e48958336d35e7bc87387-0-1\" class=\"displacy-label\" startOffset=\"50%\" side=\"left\" fill=\"currentColor\" text-anchor=\"middle\">amod</textPath>\n",
       "    </text>\n",
       "    <path class=\"displacy-arrowhead\" d=\"M187,254.0 L183,246.0 191,246.0\" fill=\"currentColor\"/>\n",
       "</g>\n",
       "\n",
       "<g class=\"displacy-arrow\">\n",
       "    <path class=\"displacy-arc\" id=\"arrow-bf4ad7fa423e48958336d35e7bc87387-0-2\" stroke-width=\"2px\" d=\"M312,252.0 312,231.16666666666666 416.0,231.16666666666666 416.0,252.0\" fill=\"none\" stroke=\"currentColor\"/>\n",
       "    <text dy=\"1.25em\" style=\"font-size: 0.8em; letter-spacing: 1px\">\n",
       "        <textPath xlink:href=\"#arrow-bf4ad7fa423e48958336d35e7bc87387-0-2\" class=\"displacy-label\" startOffset=\"50%\" side=\"left\" fill=\"currentColor\" text-anchor=\"middle\">nsubj</textPath>\n",
       "    </text>\n",
       "    <path class=\"displacy-arrowhead\" d=\"M312,254.0 L308,246.0 316,246.0\" fill=\"currentColor\"/>\n",
       "</g>\n",
       "\n",
       "<g class=\"displacy-arrow\">\n",
       "    <path class=\"displacy-arc\" id=\"arrow-bf4ad7fa423e48958336d35e7bc87387-0-3\" stroke-width=\"2px\" d=\"M562,252.0 562,210.33333333333334 794.0,210.33333333333334 794.0,252.0\" fill=\"none\" stroke=\"currentColor\"/>\n",
       "    <text dy=\"1.25em\" style=\"font-size: 0.8em; letter-spacing: 1px\">\n",
       "        <textPath xlink:href=\"#arrow-bf4ad7fa423e48958336d35e7bc87387-0-3\" class=\"displacy-label\" startOffset=\"50%\" side=\"left\" fill=\"currentColor\" text-anchor=\"middle\">det</textPath>\n",
       "    </text>\n",
       "    <path class=\"displacy-arrowhead\" d=\"M562,254.0 L558,246.0 566,246.0\" fill=\"currentColor\"/>\n",
       "</g>\n",
       "\n",
       "<g class=\"displacy-arrow\">\n",
       "    <path class=\"displacy-arc\" id=\"arrow-bf4ad7fa423e48958336d35e7bc87387-0-4\" stroke-width=\"2px\" d=\"M687,252.0 687,231.16666666666666 791.0,231.16666666666666 791.0,252.0\" fill=\"none\" stroke=\"currentColor\"/>\n",
       "    <text dy=\"1.25em\" style=\"font-size: 0.8em; letter-spacing: 1px\">\n",
       "        <textPath xlink:href=\"#arrow-bf4ad7fa423e48958336d35e7bc87387-0-4\" class=\"displacy-label\" startOffset=\"50%\" side=\"left\" fill=\"currentColor\" text-anchor=\"middle\">amod</textPath>\n",
       "    </text>\n",
       "    <path class=\"displacy-arrowhead\" d=\"M687,254.0 L683,246.0 691,246.0\" fill=\"currentColor\"/>\n",
       "</g>\n",
       "\n",
       "<g class=\"displacy-arrow\">\n",
       "    <path class=\"displacy-arc\" id=\"arrow-bf4ad7fa423e48958336d35e7bc87387-0-5\" stroke-width=\"2px\" d=\"M437,252.0 437,189.5 797.0,189.5 797.0,252.0\" fill=\"none\" stroke=\"currentColor\"/>\n",
       "    <text dy=\"1.25em\" style=\"font-size: 0.8em; letter-spacing: 1px\">\n",
       "        <textPath xlink:href=\"#arrow-bf4ad7fa423e48958336d35e7bc87387-0-5\" class=\"displacy-label\" startOffset=\"50%\" side=\"left\" fill=\"currentColor\" text-anchor=\"middle\">dobj</textPath>\n",
       "    </text>\n",
       "    <path class=\"displacy-arrowhead\" d=\"M797.0,254.0 L801.0,246.0 793.0,246.0\" fill=\"currentColor\"/>\n",
       "</g>\n",
       "\n",
       "<g class=\"displacy-arrow\">\n",
       "    <path class=\"displacy-arc\" id=\"arrow-bf4ad7fa423e48958336d35e7bc87387-0-6\" stroke-width=\"2px\" d=\"M937,252.0 937,231.16666666666666 1041.0,231.16666666666666 1041.0,252.0\" fill=\"none\" stroke=\"currentColor\"/>\n",
       "    <text dy=\"1.25em\" style=\"font-size: 0.8em; letter-spacing: 1px\">\n",
       "        <textPath xlink:href=\"#arrow-bf4ad7fa423e48958336d35e7bc87387-0-6\" class=\"displacy-label\" startOffset=\"50%\" side=\"left\" fill=\"currentColor\" text-anchor=\"middle\">advmod</textPath>\n",
       "    </text>\n",
       "    <path class=\"displacy-arrowhead\" d=\"M937,254.0 L933,246.0 941,246.0\" fill=\"currentColor\"/>\n",
       "</g>\n",
       "\n",
       "<g class=\"displacy-arrow\">\n",
       "    <path class=\"displacy-arc\" id=\"arrow-bf4ad7fa423e48958336d35e7bc87387-0-7\" stroke-width=\"2px\" d=\"M437,252.0 437,168.66666666666669 1050.0,168.66666666666669 1050.0,252.0\" fill=\"none\" stroke=\"currentColor\"/>\n",
       "    <text dy=\"1.25em\" style=\"font-size: 0.8em; letter-spacing: 1px\">\n",
       "        <textPath xlink:href=\"#arrow-bf4ad7fa423e48958336d35e7bc87387-0-7\" class=\"displacy-label\" startOffset=\"50%\" side=\"left\" fill=\"currentColor\" text-anchor=\"middle\">advmod</textPath>\n",
       "    </text>\n",
       "    <path class=\"displacy-arrowhead\" d=\"M1050.0,254.0 L1054.0,246.0 1046.0,246.0\" fill=\"currentColor\"/>\n",
       "</g>\n",
       "\n",
       "<g class=\"displacy-arrow\">\n",
       "    <path class=\"displacy-arc\" id=\"arrow-bf4ad7fa423e48958336d35e7bc87387-0-8\" stroke-width=\"2px\" d=\"M1062,252.0 1062,231.16666666666666 1166.0,231.16666666666666 1166.0,252.0\" fill=\"none\" stroke=\"currentColor\"/>\n",
       "    <text dy=\"1.25em\" style=\"font-size: 0.8em; letter-spacing: 1px\">\n",
       "        <textPath xlink:href=\"#arrow-bf4ad7fa423e48958336d35e7bc87387-0-8\" class=\"displacy-label\" startOffset=\"50%\" side=\"left\" fill=\"currentColor\" text-anchor=\"middle\">prep</textPath>\n",
       "    </text>\n",
       "    <path class=\"displacy-arrowhead\" d=\"M1166.0,254.0 L1170.0,246.0 1162.0,246.0\" fill=\"currentColor\"/>\n",
       "</g>\n",
       "\n",
       "<g class=\"displacy-arrow\">\n",
       "    <path class=\"displacy-arc\" id=\"arrow-bf4ad7fa423e48958336d35e7bc87387-0-9\" stroke-width=\"2px\" d=\"M1187,252.0 1187,231.16666666666666 1291.0,231.16666666666666 1291.0,252.0\" fill=\"none\" stroke=\"currentColor\"/>\n",
       "    <text dy=\"1.25em\" style=\"font-size: 0.8em; letter-spacing: 1px\">\n",
       "        <textPath xlink:href=\"#arrow-bf4ad7fa423e48958336d35e7bc87387-0-9\" class=\"displacy-label\" startOffset=\"50%\" side=\"left\" fill=\"currentColor\" text-anchor=\"middle\">pcomp</textPath>\n",
       "    </text>\n",
       "    <path class=\"displacy-arrowhead\" d=\"M1291.0,254.0 L1295.0,246.0 1287.0,246.0\" fill=\"currentColor\"/>\n",
       "</g>\n",
       "\n",
       "<g class=\"displacy-arrow\">\n",
       "    <path class=\"displacy-arc\" id=\"arrow-bf4ad7fa423e48958336d35e7bc87387-0-10\" stroke-width=\"2px\" d=\"M1312,252.0 1312,231.16666666666666 1416.0,231.16666666666666 1416.0,252.0\" fill=\"none\" stroke=\"currentColor\"/>\n",
       "    <text dy=\"1.25em\" style=\"font-size: 0.8em; letter-spacing: 1px\">\n",
       "        <textPath xlink:href=\"#arrow-bf4ad7fa423e48958336d35e7bc87387-0-10\" class=\"displacy-label\" startOffset=\"50%\" side=\"left\" fill=\"currentColor\" text-anchor=\"middle\">dobj</textPath>\n",
       "    </text>\n",
       "    <path class=\"displacy-arrowhead\" d=\"M1416.0,254.0 L1420.0,246.0 1412.0,246.0\" fill=\"currentColor\"/>\n",
       "</g>\n",
       "\n",
       "<g class=\"displacy-arrow\">\n",
       "    <path class=\"displacy-arc\" id=\"arrow-bf4ad7fa423e48958336d35e7bc87387-0-11\" stroke-width=\"2px\" d=\"M1562,252.0 1562,210.33333333333334 1794.0,210.33333333333334 1794.0,252.0\" fill=\"none\" stroke=\"currentColor\"/>\n",
       "    <text dy=\"1.25em\" style=\"font-size: 0.8em; letter-spacing: 1px\">\n",
       "        <textPath xlink:href=\"#arrow-bf4ad7fa423e48958336d35e7bc87387-0-11\" class=\"displacy-label\" startOffset=\"50%\" side=\"left\" fill=\"currentColor\" text-anchor=\"middle\">det</textPath>\n",
       "    </text>\n",
       "    <path class=\"displacy-arrowhead\" d=\"M1562,254.0 L1558,246.0 1566,246.0\" fill=\"currentColor\"/>\n",
       "</g>\n",
       "\n",
       "<g class=\"displacy-arrow\">\n",
       "    <path class=\"displacy-arc\" id=\"arrow-bf4ad7fa423e48958336d35e7bc87387-0-12\" stroke-width=\"2px\" d=\"M1687,252.0 1687,231.16666666666666 1791.0,231.16666666666666 1791.0,252.0\" fill=\"none\" stroke=\"currentColor\"/>\n",
       "    <text dy=\"1.25em\" style=\"font-size: 0.8em; letter-spacing: 1px\">\n",
       "        <textPath xlink:href=\"#arrow-bf4ad7fa423e48958336d35e7bc87387-0-12\" class=\"displacy-label\" startOffset=\"50%\" side=\"left\" fill=\"currentColor\" text-anchor=\"middle\">amod</textPath>\n",
       "    </text>\n",
       "    <path class=\"displacy-arrowhead\" d=\"M1687,254.0 L1683,246.0 1691,246.0\" fill=\"currentColor\"/>\n",
       "</g>\n",
       "\n",
       "<g class=\"displacy-arrow\">\n",
       "    <path class=\"displacy-arc\" id=\"arrow-bf4ad7fa423e48958336d35e7bc87387-0-13\" stroke-width=\"2px\" d=\"M1312,252.0 1312,189.5 1797.0,189.5 1797.0,252.0\" fill=\"none\" stroke=\"currentColor\"/>\n",
       "    <text dy=\"1.25em\" style=\"font-size: 0.8em; letter-spacing: 1px\">\n",
       "        <textPath xlink:href=\"#arrow-bf4ad7fa423e48958336d35e7bc87387-0-13\" class=\"displacy-label\" startOffset=\"50%\" side=\"left\" fill=\"currentColor\" text-anchor=\"middle\">dobj</textPath>\n",
       "    </text>\n",
       "    <path class=\"displacy-arrowhead\" d=\"M1797.0,254.0 L1801.0,246.0 1793.0,246.0\" fill=\"currentColor\"/>\n",
       "</g>\n",
       "</svg></span>"
      ],
      "text/plain": [
       "<IPython.core.display.HTML object>"
      ]
     },
     "metadata": {},
     "output_type": "display_data"
    }
   ],
   "source": [
    "displacy.render(doc, style='dep',jupyter=True,options={'distance': 125,'compact': True, 'bg': '#09a3d3', 'color':'#ffffff'})"
   ]
  },
  {
   "cell_type": "code",
   "execution_count": 42,
   "id": "5e13ee4e",
   "metadata": {},
   "outputs": [],
   "source": [
    "# lemmatization "
   ]
  },
  {
   "cell_type": "code",
   "execution_count": 43,
   "id": "23159f5b",
   "metadata": {},
   "outputs": [
    {
     "name": "stdout",
     "output_type": "stream",
     "text": [
      "+---------+-------+\n",
      "|  token  | lemma |\n",
      "+---------+-------+\n",
      "|   run   |  run  |\n",
      "|   ran   |  run  |\n",
      "| running |  run  |\n",
      "+---------+-------+\n"
     ]
    }
   ],
   "source": [
    "text = 'run ran running'\n",
    "doc = nlp(text)\n",
    "\n",
    "table = PrettyTable(field_names=['token','lemma'])\n",
    "for token in doc:\n",
    "    table.add_row([token.text,token.lemma_])\n",
    "print(table)"
   ]
  },
  {
   "cell_type": "code",
   "execution_count": 44,
   "id": "02932969",
   "metadata": {},
   "outputs": [
    {
     "name": "stdout",
     "output_type": "stream",
     "text": [
      "+-------------+-----------+-------+\n",
      "|    token    |   lemma   |  pos  |\n",
      "+-------------+-----------+-------+\n",
      "|     The     |    the    |  DET  |\n",
      "|  scientists | scientist |  NOUN |\n",
      "|   discover  |  discover |  VERB |\n",
      "|     new     |    new    |  ADJ  |\n",
      "|   species   |   specie  |  NOUN |\n",
      "|    every    |   every   |  DET  |\n",
      "|     year    |    year   |  NOUN |\n",
      "|      ,      |     ,     | PUNCT |\n",
      "|     Last    |    last   |  ADJ  |\n",
      "|     year    |    year   |  NOUN |\n",
      "|      ,      |     ,     | PUNCT |\n",
      "|     they    |    they   |  PRON |\n",
      "|  discovered |  discover |  VERB |\n",
      "|      an     |     an    |  DET  |\n",
      "|   ancient   |  ancient  |  ADJ  |\n",
      "|   artifact  |  artifact |  NOUN |\n",
      "|      .      |     .     | PUNCT |\n",
      "|     They    |    they   |  PRON |\n",
      "|     are     |     be    |  AUX  |\n",
      "| discovering |  discover |  VERB |\n",
      "|     new     |    new    |  ADJ  |\n",
      "|  techniques | technique |  NOUN |\n",
      "|     with    |    with   |  ADP  |\n",
      "|    their    |   their   |  PRON |\n",
      "|    recent   |   recent  |  ADJ  |\n",
      "|  discovery  | discovery |  NOUN |\n",
      "+-------------+-----------+-------+\n"
     ]
    }
   ],
   "source": [
    "text = 'The scientists discover new species every year, Last year, they discovered an ancient artifact. They are discovering new techniques with their recent discovery'\n",
    "\n",
    "doc = nlp(text)\n",
    "\n",
    "table = PrettyTable(field_names=['token','lemma','pos'])\n",
    "for token in doc:\n",
    "    table.add_row([token.text,token.lemma_,token.pos_])\n",
    "print(table)"
   ]
  },
  {
   "cell_type": "code",
   "execution_count": 45,
   "id": "642d5774",
   "metadata": {},
   "outputs": [],
   "source": [
    "#named entity recognition (NER)"
   ]
  },
  {
   "cell_type": "code",
   "execution_count": 46,
   "id": "20cefd09",
   "metadata": {},
   "outputs": [
    {
     "data": {
      "text/html": [
       "<span class=\"tex2jax_ignore\"><div class=\"entities\" style=\"line-height: 2.5; direction: ltr\">hey there this gowtham, i have self taught everything i can manage things, i will work good when things are getting harder because i know if things are getting harder every one quits but i will stand still for the problem to solve , i will make good decesion in what ever the situation is ,i will make sure i win,if i play i pplay to win, dedication hardword dedication hardwork dedication hardwork i dont care how many people againt me i have god on my side, i have cursial time to chage my life is now ,i will never forget iin life about my winter arc it is sos special it is started \n",
       "<mark class=\"entity\" style=\"background: #bfe1d9; padding: 0.45em 0.6em; margin: 0 0.25em; line-height: 1; border-radius: 0.35em;\">\n",
       "    september 2024\n",
       "    <span style=\"font-size: 0.8em; font-weight: bold; line-height: 1; border-radius: 0.35em; vertical-align: middle; margin-left: 0.5rem\">DATE</span>\n",
       "</mark>\n",
       ", my. email is gowtham1111@gmail.com,here is my email: email@email.com and info@kgptalkie.com and <br>        udemy@kgptalkie.com,Here is my lucky number 11,today's date is \n",
       "<mark class=\"entity\" style=\"background: #bfe1d9; padding: 0.45em 0.6em; margin: 0 0.25em; line-height: 1; border-radius: 0.35em;\">\n",
       "    2026-09-01,Here\n",
       "    <span style=\"font-size: 0.8em; font-weight: bold; line-height: 1; border-radius: 0.35em; vertical-align: middle; margin-left: 0.5rem\">DATE</span>\n",
       "</mark>\n",
       " is my mobile number: \n",
       "<mark class=\"entity\" style=\"background: #bfe1d9; padding: 0.45em 0.6em; margin: 0 0.25em; line-height: 1; border-radius: 0.35em;\">\n",
       "    07897432355\n",
       "    <span style=\"font-size: 0.8em; font-weight: bold; line-height: 1; border-radius: 0.35em; vertical-align: middle; margin-left: 0.5rem\">DATE</span>\n",
       "</mark>\n",
       "..<br></div></span>"
      ],
      "text/plain": [
       "<IPython.core.display.HTML object>"
      ]
     },
     "metadata": {},
     "output_type": "display_data"
    }
   ],
   "source": [
    "text = \"\"\"hey there this gowtham, i have self taught everything i can manage things, i will work good when things are getting harder because i know if things are getting harder every one quits but i will stand still for the problem to solve , i will make good decesion in what ever the situation is ,i will make sure i win,if i play i pplay to win, dedication hardword dedication hardwork dedication hardwork i dont care how many people againt me i have god on my side, i have cursial time to chage my life is now ,i will never forget iin life about my winter arc it is sos special it is started september 2024, my. email is gowtham1111@gmail.com,here is my email: email@email.com and info@kgptalkie.com and \n",
    "        udemy@kgptalkie.com,Here is my lucky number 11,today's date is 2026-09-01,Here is my mobile number: 07897432355..\n",
    "\"\"\"\n",
    "doc = nlp(text)\n",
    "\n",
    "displacy.render(doc,style='ent',jupyter=True)"
   ]
  },
  {
   "cell_type": "code",
   "execution_count": 50,
   "id": "764f8f05",
   "metadata": {},
   "outputs": [
    {
     "data": {
      "text/plain": [
       "\"table = PrettyTable()\\ntable.field_names = ['token','label','explanation','Start Char','End Char']\\n\\nfor ent in doc.ents:\\n    table.add_row([ent.text,ent.label_,spacy_explain(ent.label_),ent.start_char, ent.end_char])\\nprint(table)\""
      ]
     },
     "execution_count": 50,
     "metadata": {},
     "output_type": "execute_result"
    }
   ],
   "source": [
    "'''table = PrettyTable()\n",
    "table.field_names = ['token','label','explanation','Start Char','End Char']\n",
    "\n",
    "for ent in doc.ents:\n",
    "    table.add_row([ent.text,ent.label_,spacy_explain(ent.label_),ent.start_char, ent.end_char])\n",
    "print(table)'''"
   ]
  },
  {
   "cell_type": "code",
   "execution_count": 51,
   "id": "f5f36e1c",
   "metadata": {},
   "outputs": [
    {
     "name": "stdout",
     "output_type": "stream",
     "text": [
      "+-----------------+-------+---------------------------------------+------------+----------+\n",
      "|      token      | label |              explanation              | Start Char | End Char |\n",
      "+-----------------+-------+---------------------------------------+------------+----------+\n",
      "|  september 2024 |  DATE | Absolute or relative dates or periods |    586     |   600    |\n",
      "| 2026-09-01,Here |  DATE | Absolute or relative dates or periods |    770     |   785    |\n",
      "|   07897432355   |  DATE | Absolute or relative dates or periods |    807     |   818    |\n",
      "+-----------------+-------+---------------------------------------+------------+----------+\n"
     ]
    }
   ],
   "source": [
    "table = PrettyTable()\n",
    "table.field_names = ['token', 'label', 'explanation', 'Start Char', 'End Char']\n",
    "for ent in doc.ents:\n",
    "    table.add_row([ent.text, ent.label_, spacy.explain(ent.label_), ent.start_char, ent.end_char])\n",
    "\n",
    "print(table)"
   ]
  },
  {
   "cell_type": "code",
   "execution_count": 52,
   "id": "1b5d82f8",
   "metadata": {},
   "outputs": [],
   "source": [
    "#similarity "
   ]
  },
  {
   "cell_type": "code",
   "execution_count": 55,
   "id": "167ad081",
   "metadata": {},
   "outputs": [],
   "source": [
    "nlp = spacy.load('en_core_web_lg')"
   ]
  },
  {
   "cell_type": "code",
   "execution_count": 56,
   "id": "86ef472a",
   "metadata": {},
   "outputs": [
    {
     "data": {
      "text/plain": [
       "(300,)"
      ]
     },
     "execution_count": 56,
     "metadata": {},
     "output_type": "execute_result"
    }
   ],
   "source": [
    "doc = nlp('cat')\n",
    "vec1 = doc.vector\n",
    "doc.vector.shape"
   ]
  },
  {
   "cell_type": "code",
   "execution_count": 57,
   "id": "00bb085c",
   "metadata": {},
   "outputs": [
    {
     "data": {
      "text/plain": [
       "(300,)"
      ]
     },
     "execution_count": 57,
     "metadata": {},
     "output_type": "execute_result"
    }
   ],
   "source": [
    "doc = nlp('dog')\n",
    "vec2 = doc.vector\n",
    "doc.vector.shape"
   ]
  },
  {
   "cell_type": "code",
   "execution_count": 58,
   "id": "56783ca1",
   "metadata": {},
   "outputs": [
    {
     "name": "stdout",
     "output_type": "stream",
     "text": [
      "[[0.80168545]]\n"
     ]
    }
   ],
   "source": [
    "from sklearn.metrics.pairwise import cosine_similarity\n",
    "\n",
    "sim = cosine_similarity([vec1], [vec2])\n",
    "print(sim)"
   ]
  },
  {
   "cell_type": "code",
   "execution_count": 59,
   "id": "3f8f5dba",
   "metadata": {},
   "outputs": [],
   "source": [
    "words = ['dog', 'cat', 'man', 'woman', 'king', 'queen', 'houses']"
   ]
  },
  {
   "cell_type": "code",
   "execution_count": 60,
   "id": "5db14614",
   "metadata": {},
   "outputs": [],
   "source": [
    "from itertools import combinations"
   ]
  },
  {
   "cell_type": "code",
   "execution_count": 61,
   "id": "15300c6c",
   "metadata": {
    "scrolled": true
   },
   "outputs": [
    {
     "name": "stdout",
     "output_type": "stream",
     "text": [
      "+--------+--------+-------+\n",
      "| word 1 | word 2 | score |\n",
      "+--------+--------+-------+\n",
      "|  dog   |  cat   |  0.80 |\n",
      "|  dog   |  man   |  0.42 |\n",
      "|  dog   | woman  |  0.39 |\n",
      "|  dog   |  king  |  0.25 |\n",
      "|  dog   | queen  |  0.23 |\n",
      "|  dog   | houses |  0.23 |\n",
      "|  cat   |  man   |  0.36 |\n",
      "|  cat   | woman  |  0.36 |\n",
      "|  cat   |  king  |  0.28 |\n",
      "|  cat   | queen  |  0.31 |\n",
      "|  cat   | houses |  0.20 |\n",
      "|  man   | woman  |  0.74 |\n",
      "|  man   |  king  |  0.41 |\n",
      "|  man   | queen  |  0.27 |\n",
      "|  man   | houses |  0.24 |\n",
      "| woman  |  king  |  0.27 |\n",
      "| woman  | queen  |  0.41 |\n",
      "| woman  | houses |  0.21 |\n",
      "|  king  | queen  |  0.73 |\n",
      "|  king  | houses |  0.21 |\n",
      "| queen  | houses |  0.21 |\n",
      "+--------+--------+-------+\n"
     ]
    }
   ],
   "source": [
    "table = PrettyTable(field_names=['word 1','word 2','score'])\n",
    "for word1, word2 in combinations(words,2):\n",
    "    token1 = nlp(word1)\n",
    "    token2 = nlp(word2)\n",
    "    \n",
    "    sim = token1.similarity(token2)\n",
    "    table.add_row([word1,word2, f\"{sim:.2f}\"])\n",
    "print(table)"
   ]
  },
  {
   "cell_type": "code",
   "execution_count": 62,
   "id": "1818c6f3",
   "metadata": {},
   "outputs": [
    {
     "data": {
      "text/plain": [
       "'# Example list\\ndata = [1, 2, 3]\\n\\n# Length of combinations\\nr = 2\\n\\n# Generate combinations\\nresult = list(combinations(data, r))\\n\\nprint(result) '"
      ]
     },
     "execution_count": 62,
     "metadata": {},
     "output_type": "execute_result"
    }
   ],
   "source": [
    "'''# Example list\n",
    "data = [1, 2, 3]\n",
    "\n",
    "# Length of combinations\n",
    "r = 2\n",
    "\n",
    "# Generate combinations\n",
    "result = list(combinations(data, r))\n",
    "\n",
    "print(result) '''"
   ]
  },
  {
   "cell_type": "code",
   "execution_count": null,
   "id": "8bce14d9-e80d-4ac0-adb3-f14395a6b0b9",
   "metadata": {},
   "outputs": [],
   "source": []
  },
  {
   "cell_type": "code",
   "execution_count": null,
   "id": "4314772a-4dc7-4ae0-a639-cabcf30eeb98",
   "metadata": {},
   "outputs": [],
   "source": []
  },
  {
   "cell_type": "code",
   "execution_count": 63,
   "id": "bf828ffe",
   "metadata": {},
   "outputs": [],
   "source": [
    "# NLTK"
   ]
  },
  {
   "cell_type": "code",
   "execution_count": 68,
   "id": "bdd46be8",
   "metadata": {},
   "outputs": [],
   "source": [
    "import nltk\n",
    "from nltk.tokenize import word_tokenize,sent_tokenize\n",
    "from prettytable import PrettyTable"
   ]
  },
  {
   "cell_type": "code",
   "execution_count": 69,
   "id": "335c775a",
   "metadata": {},
   "outputs": [],
   "source": [
    "text = \"It's a dangerous business, Frodo, going out your door. You step onto the road, and if you don't keep your feet, there's no knowing where you might be swept off to.\"\n",
    "\n",
    "words = word_tokenize(text)\n",
    "sentences = sent_tokenize(text)"
   ]
  },
  {
   "cell_type": "code",
   "execution_count": 70,
   "id": "800b1894",
   "metadata": {},
   "outputs": [],
   "source": [
    "#words,sentences"
   ]
  },
  {
   "cell_type": "code",
   "execution_count": 71,
   "id": "f6cba97c",
   "metadata": {},
   "outputs": [],
   "source": [
    "#filtering stop words"
   ]
  },
  {
   "cell_type": "code",
   "execution_count": 72,
   "id": "e946e7be",
   "metadata": {},
   "outputs": [],
   "source": [
    "from nltk.corpus import stopwords\n",
    "import spacy"
   ]
  },
  {
   "cell_type": "code",
   "execution_count": 76,
   "id": "4649dab0-2dd4-4163-b3b8-4cb89291579d",
   "metadata": {},
   "outputs": [
    {
     "name": "stderr",
     "output_type": "stream",
     "text": [
      "[nltk_data] Downloading package stopwords to\n",
      "[nltk_data]     /Users/gowthammarrapu/nltk_data...\n",
      "[nltk_data]   Package stopwords is already up-to-date!\n"
     ]
    },
    {
     "data": {
      "text/plain": [
       "True"
      ]
     },
     "execution_count": 76,
     "metadata": {},
     "output_type": "execute_result"
    }
   ],
   "source": [
    "nltk.download('stopwords')"
   ]
  },
  {
   "cell_type": "code",
   "execution_count": 77,
   "id": "f29085ad",
   "metadata": {},
   "outputs": [],
   "source": [
    "stop_words = stopwords.words('english')\n",
    "\n",
    "nlp = spacy.load('en_core_web_sm')\n",
    "spacy_stop_words = nlp.Defaults.stop_words\n"
   ]
  },
  {
   "cell_type": "code",
   "execution_count": 79,
   "id": "7574bc27",
   "metadata": {},
   "outputs": [
    {
     "data": {
      "text/plain": [
       "(179, 326)"
      ]
     },
     "execution_count": 79,
     "metadata": {},
     "output_type": "execute_result"
    }
   ],
   "source": [
    "len(stop_words),len(spacy_stop_words)"
   ]
  },
  {
   "cell_type": "code",
   "execution_count": 80,
   "id": "36eb1d02",
   "metadata": {},
   "outputs": [
    {
     "data": {
      "text/plain": [
       "{\"'d\",\n",
       " \"'ll\",\n",
       " \"'m\",\n",
       " \"'re\",\n",
       " \"'s\",\n",
       " \"'ve\",\n",
       " 'a',\n",
       " 'about',\n",
       " 'above',\n",
       " 'across',\n",
       " 'after',\n",
       " 'afterwards',\n",
       " 'again',\n",
       " 'against',\n",
       " 'all',\n",
       " 'almost',\n",
       " 'alone',\n",
       " 'along',\n",
       " 'already',\n",
       " 'also',\n",
       " 'although',\n",
       " 'always',\n",
       " 'am',\n",
       " 'among',\n",
       " 'amongst',\n",
       " 'amount',\n",
       " 'an',\n",
       " 'and',\n",
       " 'another',\n",
       " 'any',\n",
       " 'anyhow',\n",
       " 'anyone',\n",
       " 'anything',\n",
       " 'anyway',\n",
       " 'anywhere',\n",
       " 'are',\n",
       " 'around',\n",
       " 'as',\n",
       " 'at',\n",
       " 'back',\n",
       " 'be',\n",
       " 'became',\n",
       " 'because',\n",
       " 'become',\n",
       " 'becomes',\n",
       " 'becoming',\n",
       " 'been',\n",
       " 'before',\n",
       " 'beforehand',\n",
       " 'behind',\n",
       " 'being',\n",
       " 'below',\n",
       " 'beside',\n",
       " 'besides',\n",
       " 'between',\n",
       " 'beyond',\n",
       " 'both',\n",
       " 'bottom',\n",
       " 'but',\n",
       " 'by',\n",
       " 'ca',\n",
       " 'call',\n",
       " 'can',\n",
       " 'cannot',\n",
       " 'could',\n",
       " 'did',\n",
       " 'do',\n",
       " 'does',\n",
       " 'doing',\n",
       " 'done',\n",
       " 'down',\n",
       " 'due',\n",
       " 'during',\n",
       " 'each',\n",
       " 'eight',\n",
       " 'either',\n",
       " 'eleven',\n",
       " 'else',\n",
       " 'elsewhere',\n",
       " 'empty',\n",
       " 'enough',\n",
       " 'even',\n",
       " 'ever',\n",
       " 'every',\n",
       " 'everyone',\n",
       " 'everything',\n",
       " 'everywhere',\n",
       " 'except',\n",
       " 'few',\n",
       " 'fifteen',\n",
       " 'fifty',\n",
       " 'first',\n",
       " 'five',\n",
       " 'for',\n",
       " 'former',\n",
       " 'formerly',\n",
       " 'forty',\n",
       " 'four',\n",
       " 'from',\n",
       " 'front',\n",
       " 'full',\n",
       " 'further',\n",
       " 'get',\n",
       " 'give',\n",
       " 'go',\n",
       " 'had',\n",
       " 'has',\n",
       " 'have',\n",
       " 'he',\n",
       " 'hence',\n",
       " 'her',\n",
       " 'here',\n",
       " 'hereafter',\n",
       " 'hereby',\n",
       " 'herein',\n",
       " 'hereupon',\n",
       " 'hers',\n",
       " 'herself',\n",
       " 'him',\n",
       " 'himself',\n",
       " 'his',\n",
       " 'how',\n",
       " 'however',\n",
       " 'hundred',\n",
       " 'i',\n",
       " 'if',\n",
       " 'in',\n",
       " 'indeed',\n",
       " 'into',\n",
       " 'is',\n",
       " 'it',\n",
       " 'its',\n",
       " 'itself',\n",
       " 'just',\n",
       " 'keep',\n",
       " 'last',\n",
       " 'latter',\n",
       " 'latterly',\n",
       " 'least',\n",
       " 'less',\n",
       " 'made',\n",
       " 'make',\n",
       " 'many',\n",
       " 'may',\n",
       " 'me',\n",
       " 'meanwhile',\n",
       " 'might',\n",
       " 'mine',\n",
       " 'more',\n",
       " 'moreover',\n",
       " 'most',\n",
       " 'mostly',\n",
       " 'move',\n",
       " 'much',\n",
       " 'must',\n",
       " 'my',\n",
       " 'myself',\n",
       " \"n't\",\n",
       " 'name',\n",
       " 'namely',\n",
       " 'neither',\n",
       " 'never',\n",
       " 'nevertheless',\n",
       " 'next',\n",
       " 'nine',\n",
       " 'no',\n",
       " 'nobody',\n",
       " 'none',\n",
       " 'noone',\n",
       " 'nor',\n",
       " 'not',\n",
       " 'nothing',\n",
       " 'now',\n",
       " 'nowhere',\n",
       " 'n‘t',\n",
       " 'n’t',\n",
       " 'of',\n",
       " 'off',\n",
       " 'often',\n",
       " 'on',\n",
       " 'once',\n",
       " 'one',\n",
       " 'only',\n",
       " 'onto',\n",
       " 'or',\n",
       " 'other',\n",
       " 'others',\n",
       " 'otherwise',\n",
       " 'our',\n",
       " 'ours',\n",
       " 'ourselves',\n",
       " 'out',\n",
       " 'over',\n",
       " 'own',\n",
       " 'part',\n",
       " 'per',\n",
       " 'perhaps',\n",
       " 'please',\n",
       " 'put',\n",
       " 'quite',\n",
       " 'rather',\n",
       " 're',\n",
       " 'really',\n",
       " 'regarding',\n",
       " 'same',\n",
       " 'say',\n",
       " 'see',\n",
       " 'seem',\n",
       " 'seemed',\n",
       " 'seeming',\n",
       " 'seems',\n",
       " 'serious',\n",
       " 'several',\n",
       " 'she',\n",
       " 'should',\n",
       " 'show',\n",
       " 'side',\n",
       " 'since',\n",
       " 'six',\n",
       " 'sixty',\n",
       " 'so',\n",
       " 'some',\n",
       " 'somehow',\n",
       " 'someone',\n",
       " 'something',\n",
       " 'sometime',\n",
       " 'sometimes',\n",
       " 'somewhere',\n",
       " 'still',\n",
       " 'such',\n",
       " 'take',\n",
       " 'ten',\n",
       " 'than',\n",
       " 'that',\n",
       " 'the',\n",
       " 'their',\n",
       " 'them',\n",
       " 'themselves',\n",
       " 'then',\n",
       " 'thence',\n",
       " 'there',\n",
       " 'thereafter',\n",
       " 'thereby',\n",
       " 'therefore',\n",
       " 'therein',\n",
       " 'thereupon',\n",
       " 'these',\n",
       " 'they',\n",
       " 'third',\n",
       " 'this',\n",
       " 'those',\n",
       " 'though',\n",
       " 'three',\n",
       " 'through',\n",
       " 'throughout',\n",
       " 'thru',\n",
       " 'thus',\n",
       " 'to',\n",
       " 'together',\n",
       " 'too',\n",
       " 'top',\n",
       " 'toward',\n",
       " 'towards',\n",
       " 'twelve',\n",
       " 'twenty',\n",
       " 'two',\n",
       " 'under',\n",
       " 'unless',\n",
       " 'until',\n",
       " 'up',\n",
       " 'upon',\n",
       " 'us',\n",
       " 'used',\n",
       " 'using',\n",
       " 'various',\n",
       " 'very',\n",
       " 'via',\n",
       " 'was',\n",
       " 'we',\n",
       " 'well',\n",
       " 'were',\n",
       " 'what',\n",
       " 'whatever',\n",
       " 'when',\n",
       " 'whence',\n",
       " 'whenever',\n",
       " 'where',\n",
       " 'whereafter',\n",
       " 'whereas',\n",
       " 'whereby',\n",
       " 'wherein',\n",
       " 'whereupon',\n",
       " 'wherever',\n",
       " 'whether',\n",
       " 'which',\n",
       " 'while',\n",
       " 'whither',\n",
       " 'who',\n",
       " 'whoever',\n",
       " 'whole',\n",
       " 'whom',\n",
       " 'whose',\n",
       " 'why',\n",
       " 'will',\n",
       " 'with',\n",
       " 'within',\n",
       " 'without',\n",
       " 'would',\n",
       " 'yet',\n",
       " 'you',\n",
       " 'your',\n",
       " 'yours',\n",
       " 'yourself',\n",
       " 'yourselves',\n",
       " '‘d',\n",
       " '‘ll',\n",
       " '‘m',\n",
       " '‘re',\n",
       " '‘s',\n",
       " '‘ve',\n",
       " '’d',\n",
       " '’ll',\n",
       " '’m',\n",
       " '’re',\n",
       " '’s',\n",
       " '’ve'}"
      ]
     },
     "execution_count": 80,
     "metadata": {},
     "output_type": "execute_result"
    }
   ],
   "source": [
    "spacy_stop_words"
   ]
  },
  {
   "cell_type": "code",
   "execution_count": 81,
   "id": "1c4a8f1e",
   "metadata": {},
   "outputs": [],
   "source": [
    "text = \" \".join(open('/Users/gowthammarrapu/Documents/untitled folder 2/nlp-for-beginners-udemy/07-Introduction to NLTK/data/bert_extracted_text.txt').read().splitlines())"
   ]
  },
  {
   "cell_type": "code",
   "execution_count": 82,
   "id": "88b630f1",
   "metadata": {},
   "outputs": [],
   "source": [
    "words = word_tokenize(text)\n"
   ]
  },
  {
   "cell_type": "code",
   "execution_count": 83,
   "id": "bca365a5",
   "metadata": {},
   "outputs": [],
   "source": [
    "sw_len = set([word for word in words if word in stop_words])"
   ]
  },
  {
   "cell_type": "code",
   "execution_count": 84,
   "id": "6e8f107d",
   "metadata": {},
   "outputs": [
    {
     "data": {
      "text/plain": [
       "38"
      ]
     },
     "execution_count": 84,
     "metadata": {},
     "output_type": "execute_result"
    }
   ],
   "source": [
    "len(sw_len)"
   ]
  },
  {
   "cell_type": "code",
   "execution_count": 85,
   "id": "4d30a099",
   "metadata": {},
   "outputs": [
    {
     "name": "stdout",
     "output_type": "stream",
     "text": [
      "BERT : Pre-training Deep Bidirectional Transformers Language Understanding Jacob Devlin Ming-Wei Chang Kenton Lee Kristina Toutanova Google AI Language fjacobdevlin , mingweichang , kentonl , kristout g @ google.com Abstract We introduce new language representa- tion model called BERT , stands Bidirectional Encoder Representations Transformers . Unlike recent language repre- sentation models ( Peters et al. , 2018a ; Rad- ford et al. , 2018 ) , BERT designed pre- train deep bidirectional representations unlabeled text jointly conditioning left right context layers . As re- sult , pre-trained BERT model ﬁne- tuned one additional output layer create state-of-the-art models wide range tasks , question answering language inference , without substantial task- speciﬁc architecture modiﬁcations . BERT conceptually simple empirically powerful . It obtains new state-of-the-art re- sults eleven natural language processing tasks , including pushing GLUE score 80.5 % ( 7.7 % point absolute improvement ) , MultiNLI accuracy 86.7 % ( 4.6 % absolute improvement ) , SQuAD v1.1 question answer- ing Test F1 93.2 ( 1.5 point absolute im- provement ) SQuAD v2.0 Test F1 83.1 ( 5.1 point absolute improvement ) . 1 Introduction Language model pre-training shown effective improving many natural language processing tasks ( Dai Le , 2015 ; Peters et al. , 2018a ; Radford et al. , 2018 ; Howard Ruder , 2018 ) . These include sentence-level tasks natural language inference ( Bowman et al. , 2015 ; Williams et al. , 2018 ) paraphrasing ( Dolan Brockett , 2005 ) , aim predict re- lationships sentences analyzing holistically , well token-level tasks named entity recognition question answering , models required produce ﬁne-grained output token level ( Tjong Kim Sang De Meulder , 2003 ; Rajpurkar et al. , 2016 ) .There two existing strategies apply- ing pre-trained language representations down- stream tasks : feature-based andﬁne-tuning . The feature-based approach , ELMo ( Peters et al. , 2018a ) , uses task-speciﬁc architectures include pre-trained representations addi- tional features . The ﬁne-tuning approach , Generative Pre-trained Transformer ( OpenAI GPT ) ( Radford et al. , 2018 ) , introduces minimal task-speciﬁc parameters , trained downstream tasks simply ﬁne-tuning allpre- trained parameters . The two approaches share objective function pre-training , use unidirectional language models learn general language representations . We argue current techniques restrict power pre-trained representations , espe- cially ﬁne-tuning approaches . The ma- jor limitation standard language models unidirectional , limits choice archi- tectures used pre-training . For example , OpenAI GPT , authors use left-to- right architecture , every token at- tend previous tokens self-attention layers Transformer ( Vaswani et al. , 2017 ) . Such re- strictions sub-optimal sentence-level tasks , could harmful applying ﬁne- tuning based approaches token-level tasks question answering , crucial incor- porate context directions . In paper , improve ﬁne-tuning based approaches proposing BERT : Bidirectional Encoder Representations Transformers . BERT alleviates previously mentioned unidi- rectionality constraint using “ masked lan- guage model ” ( MLM ) pre-training objective , in- spired Cloze task ( Taylor , 1953 ) . The masked language model randomly masks tokens input , objective predict original vocabulary id maskedarXiv:1810.04805v2 [ cs.CL ] 24 May 2019\n"
     ]
    }
   ],
   "source": [
    "print(' '.join([word for word in words if word not in stop_words]))"
   ]
  },
  {
   "cell_type": "code",
   "execution_count": 86,
   "id": "932e2c9f",
   "metadata": {},
   "outputs": [],
   "source": [
    "#stemming"
   ]
  },
  {
   "cell_type": "code",
   "execution_count": 87,
   "id": "832ae124",
   "metadata": {},
   "outputs": [
    {
     "name": "stdout",
     "output_type": "stream",
     "text": [
      "+-------------+--------------+\n",
      "|     word    | stemmed word |\n",
      "+-------------+--------------+\n",
      "|     The     |     the      |\n",
      "|  scientists |  scientist   |\n",
      "|   discover  |    discov    |\n",
      "|     new     |     new      |\n",
      "|   species   |    speci     |\n",
      "|    every    |    everi     |\n",
      "|     year    |     year     |\n",
      "|      ,      |      ,       |\n",
      "|     Last    |     last     |\n",
      "|     year    |     year     |\n",
      "|      ,      |      ,       |\n",
      "|     they    |     they     |\n",
      "|  discovered |    discov    |\n",
      "|      an     |      an      |\n",
      "|   ancient   |   ancient    |\n",
      "|   artifact  |   artifact   |\n",
      "|      .      |      .       |\n",
      "|     They    |     they     |\n",
      "|     are     |     are      |\n",
      "| discovering |    discov    |\n",
      "|     new     |     new      |\n",
      "|  techniques |   techniqu   |\n",
      "|     with    |     with     |\n",
      "|    their    |    their     |\n",
      "|    recent   |    recent    |\n",
      "|  discovery  |  discoveri   |\n",
      "+-------------+--------------+\n"
     ]
    }
   ],
   "source": [
    "from nltk.stem import PorterStemmer\n",
    "text = 'The scientists discover new species every year, Last year, they discovered an ancient artifact. They are discovering new techniques with their recent discovery'\n",
    "\n",
    "stemmer = PorterStemmer()\n",
    "\n",
    "words = word_tokenize(text)\n",
    "\n",
    "stemmed_words = [stemmer.stem(word) for word in words]\n",
    "\n",
    "table = PrettyTable()\n",
    "table.field_names = ['word','stemmed word']\n",
    "\n",
    "for word, stw in zip(words,stemmed_words):\n",
    "    table.add_row([word, stw])\n",
    "print(table)"
   ]
  },
  {
   "cell_type": "code",
   "execution_count": 88,
   "id": "88338989",
   "metadata": {},
   "outputs": [],
   "source": [
    "# nltk pos"
   ]
  },
  {
   "cell_type": "code",
   "execution_count": 89,
   "id": "c9f5a7c6",
   "metadata": {},
   "outputs": [
    {
     "name": "stderr",
     "output_type": "stream",
     "text": [
      "[nltk_data] Downloading package averaged_perceptron_tagger to\n",
      "[nltk_data]     /Users/gowthammarrapu/nltk_data...\n",
      "[nltk_data]   Package averaged_perceptron_tagger is already up-to-\n",
      "[nltk_data]       date!\n"
     ]
    },
    {
     "data": {
      "text/plain": [
       "True"
      ]
     },
     "execution_count": 89,
     "metadata": {},
     "output_type": "execute_result"
    }
   ],
   "source": [
    "nltk.download('averaged_perceptron_tagger')"
   ]
  },
  {
   "cell_type": "code",
   "execution_count": 90,
   "id": "c0258024",
   "metadata": {},
   "outputs": [],
   "source": [
    "from nltk import pos_tag"
   ]
  },
  {
   "cell_type": "code",
   "execution_count": 91,
   "id": "cfa8858f",
   "metadata": {},
   "outputs": [],
   "source": [
    "tagged_words = pos_tag(words)"
   ]
  },
  {
   "cell_type": "code",
   "execution_count": 92,
   "id": "ea1ed7ca",
   "metadata": {},
   "outputs": [],
   "source": [
    "#tagged_words"
   ]
  },
  {
   "cell_type": "code",
   "execution_count": 93,
   "id": "51c89f62",
   "metadata": {},
   "outputs": [
    {
     "name": "stdout",
     "output_type": "stream",
     "text": [
      "+-------------+---------+\n",
      "|     word    | pos tag |\n",
      "+-------------+---------+\n",
      "|     The     |    DT   |\n",
      "|  scientists |   NNS   |\n",
      "|   discover  |   VBP   |\n",
      "|     new     |    JJ   |\n",
      "|   species   |   NNS   |\n",
      "|    every    |    DT   |\n",
      "|     year    |    NN   |\n",
      "|      ,      |    ,    |\n",
      "|     Last    |    JJ   |\n",
      "|     year    |    NN   |\n",
      "|      ,      |    ,    |\n",
      "|     they    |   PRP   |\n",
      "|  discovered |   VBD   |\n",
      "|      an     |    DT   |\n",
      "|   ancient   |    JJ   |\n",
      "|   artifact  |    NN   |\n",
      "|      .      |    .    |\n",
      "|     They    |   PRP   |\n",
      "|     are     |   VBP   |\n",
      "| discovering |   VBG   |\n",
      "|     new     |    JJ   |\n",
      "|  techniques |   NNS   |\n",
      "|     with    |    IN   |\n",
      "|    their    |   PRP$  |\n",
      "|    recent   |    JJ   |\n",
      "|  discovery  |    NN   |\n",
      "+-------------+---------+\n"
     ]
    }
   ],
   "source": [
    "table = PrettyTable()\n",
    "table.field_names=['word','pos tag']\n",
    "\n",
    "for word , pos in zip(words,tagged_words):\n",
    "    table.add_row([word, pos[1]])\n",
    "    \n",
    "print(table)"
   ]
  },
  {
   "cell_type": "code",
   "execution_count": 94,
   "id": "9d1ae494",
   "metadata": {},
   "outputs": [
    {
     "name": "stderr",
     "output_type": "stream",
     "text": [
      "[nltk_data] Downloading package tagsets to\n",
      "[nltk_data]     /Users/gowthammarrapu/nltk_data...\n",
      "[nltk_data]   Package tagsets is already up-to-date!\n"
     ]
    },
    {
     "data": {
      "text/plain": [
       "True"
      ]
     },
     "execution_count": 94,
     "metadata": {},
     "output_type": "execute_result"
    }
   ],
   "source": [
    "nltk.download('tagsets')"
   ]
  },
  {
   "cell_type": "code",
   "execution_count": 95,
   "id": "09192dd8",
   "metadata": {},
   "outputs": [],
   "source": [
    "# nltk lemmatizing"
   ]
  },
  {
   "cell_type": "code",
   "execution_count": 96,
   "id": "0e37bc08",
   "metadata": {},
   "outputs": [
    {
     "name": "stderr",
     "output_type": "stream",
     "text": [
      "[nltk_data] Downloading package wordnet to\n",
      "[nltk_data]     /Users/gowthammarrapu/nltk_data...\n",
      "[nltk_data]   Package wordnet is already up-to-date!\n"
     ]
    },
    {
     "data": {
      "text/plain": [
       "True"
      ]
     },
     "execution_count": 96,
     "metadata": {},
     "output_type": "execute_result"
    }
   ],
   "source": [
    "from nltk.stem import WordNetLemmatizer\n",
    "nltk.download('wordnet')"
   ]
  },
  {
   "cell_type": "code",
   "execution_count": 97,
   "id": "cce28785",
   "metadata": {},
   "outputs": [],
   "source": [
    "lemmatizer = WordNetLemmatizer()"
   ]
  },
  {
   "cell_type": "code",
   "execution_count": 98,
   "id": "6c2be376",
   "metadata": {},
   "outputs": [],
   "source": [
    "words = word_tokenize(text)"
   ]
  },
  {
   "cell_type": "code",
   "execution_count": 99,
   "id": "475ddad4",
   "metadata": {},
   "outputs": [],
   "source": [
    "lemma = [lemmatizer.lemmatize(word) for word in words]"
   ]
  },
  {
   "cell_type": "code",
   "execution_count": 100,
   "id": "44fba787",
   "metadata": {},
   "outputs": [
    {
     "name": "stdout",
     "output_type": "stream",
     "text": [
      "+-------------+--------------+-------------+\n",
      "|     word    | stemmed word |  lemma word |\n",
      "+-------------+--------------+-------------+\n",
      "|     The     |     the      |     The     |\n",
      "|  scientists |  scientist   |  scientist  |\n",
      "|   discover  |    discov    |   discover  |\n",
      "|     new     |     new      |     new     |\n",
      "|   species   |    speci     |    specie   |\n",
      "|    every    |    everi     |    every    |\n",
      "|     year    |     year     |     year    |\n",
      "|      ,      |      ,       |      ,      |\n",
      "|     Last    |     last     |     Last    |\n",
      "|     year    |     year     |     year    |\n",
      "|      ,      |      ,       |      ,      |\n",
      "|     they    |     they     |     they    |\n",
      "|  discovered |    discov    |  discovered |\n",
      "|      an     |      an      |      an     |\n",
      "|   ancient   |   ancient    |   ancient   |\n",
      "|   artifact  |   artifact   |   artifact  |\n",
      "|      .      |      .       |      .      |\n",
      "|     They    |     they     |     They    |\n",
      "|     are     |     are      |     are     |\n",
      "| discovering |    discov    | discovering |\n",
      "|     new     |     new      |     new     |\n",
      "|  techniques |   techniqu   |  technique  |\n",
      "|     with    |     with     |     with    |\n",
      "|    their    |    their     |    their    |\n",
      "|    recent   |    recent    |    recent   |\n",
      "|  discovery  |  discoveri   |  discovery  |\n",
      "+-------------+--------------+-------------+\n"
     ]
    }
   ],
   "source": [
    "table = PrettyTable(field_names=['word','stemmed word','lemma word'])\n",
    "\n",
    "for word,stm,lm in zip(words,stemmed_words,lemma):\n",
    "    table.add_row([word,stm,lm])\n",
    "print(table)\n"
   ]
  },
  {
   "cell_type": "code",
   "execution_count": 101,
   "id": "ca4c7739",
   "metadata": {},
   "outputs": [],
   "source": [
    "# chunking "
   ]
  },
  {
   "cell_type": "code",
   "execution_count": 118,
   "id": "6b2912ed",
   "metadata": {},
   "outputs": [],
   "source": [
    "from nltk.chunk import RegexpParser\n",
    "text = \" \".join(open('/Users/gowthammarrapu/Documents/untitled folder 2/nlp-for-beginners-udemy/07-Introduction to NLTK/data/bert_extracted_text.txt').read().splitlines())\n",
    "grammar = \"NP: {<DT>?<JJ>*<NN>}\""
   ]
  },
  {
   "cell_type": "code",
   "execution_count": 119,
   "id": "f3830b0d",
   "metadata": {},
   "outputs": [],
   "source": [
    "chunk_parser = RegexpParser(grammar)\n",
    "chunks = chunk_parser.parse(tagged_words)"
   ]
  },
  {
   "cell_type": "code",
   "execution_count": 120,
   "id": "f59841a3",
   "metadata": {},
   "outputs": [
    {
     "data": {
      "image/svg+xml": [
       "<svg baseProfile=\"full\" height=\"168px\" preserveAspectRatio=\"xMidYMid meet\" style=\"font-family: times, serif; font-weight: normal; font-style: normal; font-size: 16px\" version=\"1.1\" viewBox=\"0,0,3184.0,168.0\" width=\"3184px\" xmlns=\"http://www.w3.org/2000/svg\" xmlns:ev=\"http://www.w3.org/2001/xml-events\" xmlns:xlink=\"http://www.w3.org/1999/xlink\"><defs /><svg width=\"100%\" x=\"0\" y=\"0px\"><defs /><text text-anchor=\"middle\" x=\"50%\" y=\"16px\">S</text></svg><svg width=\"1.75879%\" x=\"0%\" y=\"48px\"><defs /><svg width=\"100%\" x=\"0\" y=\"0px\"><defs /><text text-anchor=\"middle\" x=\"50%\" y=\"16px\">Evans</text></svg><svg width=\"100%\" x=\"0%\" y=\"48px\"><defs /><svg width=\"100%\" x=\"0\" y=\"0px\"><defs /><text text-anchor=\"middle\" x=\"50%\" y=\"16px\">NNS</text></svg></svg><line stroke=\"black\" x1=\"50%\" x2=\"50%\" y1=\"20px\" y2=\"48px\" /></svg><line stroke=\"black\" x1=\"50%\" x2=\"0.879397%\" y1=\"20px\" y2=\"48px\" /><svg width=\"2.26131%\" x=\"1.75879%\" y=\"48px\"><defs /><svg width=\"100%\" x=\"0\" y=\"0px\"><defs /><text text-anchor=\"middle\" x=\"50%\" y=\"16px\">pointed</text></svg><svg width=\"100%\" x=\"0%\" y=\"48px\"><defs /><svg width=\"100%\" x=\"0\" y=\"0px\"><defs /><text text-anchor=\"middle\" x=\"50%\" y=\"16px\">VBD</text></svg></svg><line stroke=\"black\" x1=\"50%\" x2=\"50%\" y1=\"20px\" y2=\"48px\" /></svg><line stroke=\"black\" x1=\"50%\" x2=\"2.88945%\" y1=\"20px\" y2=\"48px\" /><svg width=\"1.00503%\" x=\"4.0201%\" y=\"48px\"><defs /><svg width=\"100%\" x=\"0\" y=\"0px\"><defs /><text text-anchor=\"middle\" x=\"50%\" y=\"16px\">to</text></svg><svg width=\"100%\" x=\"0%\" y=\"48px\"><defs /><svg width=\"100%\" x=\"0\" y=\"0px\"><defs /><text text-anchor=\"middle\" x=\"50%\" y=\"16px\">TO</text></svg></svg><line stroke=\"black\" x1=\"50%\" x2=\"50%\" y1=\"20px\" y2=\"48px\" /></svg><line stroke=\"black\" x1=\"50%\" x2=\"4.52261%\" y1=\"20px\" y2=\"48px\" /><svg width=\"1.75879%\" x=\"5.02513%\" y=\"48px\"><defs /><svg width=\"100%\" x=\"0\" y=\"0px\"><defs /><text text-anchor=\"middle\" x=\"50%\" y=\"16px\">signs</text></svg><svg width=\"100%\" x=\"0%\" y=\"48px\"><defs /><svg width=\"100%\" x=\"0\" y=\"0px\"><defs /><text text-anchor=\"middle\" x=\"50%\" y=\"16px\">NNS</text></svg></svg><line stroke=\"black\" x1=\"50%\" x2=\"50%\" y1=\"20px\" y2=\"48px\" /></svg><line stroke=\"black\" x1=\"50%\" x2=\"5.90452%\" y1=\"20px\" y2=\"48px\" /><svg width=\"1.00503%\" x=\"6.78392%\" y=\"48px\"><defs /><svg width=\"100%\" x=\"0\" y=\"0px\"><defs /><text text-anchor=\"middle\" x=\"50%\" y=\"16px\">of</text></svg><svg width=\"100%\" x=\"0%\" y=\"48px\"><defs /><svg width=\"100%\" x=\"0\" y=\"0px\"><defs /><text text-anchor=\"middle\" x=\"50%\" y=\"16px\">IN</text></svg></svg><line stroke=\"black\" x1=\"50%\" x2=\"50%\" y1=\"20px\" y2=\"48px\" /></svg><line stroke=\"black\" x1=\"50%\" x2=\"7.28643%\" y1=\"20px\" y2=\"48px\" /><svg width=\"3.51759%\" x=\"7.78894%\" y=\"48px\"><defs /><svg width=\"100%\" x=\"0\" y=\"0px\"><defs /><text text-anchor=\"middle\" x=\"50%\" y=\"16px\">NP</text></svg><svg width=\"35.7143%\" x=\"0%\" y=\"48px\"><defs /><svg width=\"100%\" x=\"0\" y=\"0px\"><defs /><text text-anchor=\"middle\" x=\"50%\" y=\"16px\">the</text></svg><svg width=\"100%\" x=\"0%\" y=\"48px\"><defs /><svg width=\"100%\" x=\"0\" y=\"0px\"><defs /><text text-anchor=\"middle\" x=\"50%\" y=\"16px\">DT</text></svg></svg><line stroke=\"black\" x1=\"50%\" x2=\"50%\" y1=\"20px\" y2=\"48px\" /></svg><line stroke=\"black\" x1=\"50%\" x2=\"17.8571%\" y1=\"20px\" y2=\"48px\" /><svg width=\"64.2857%\" x=\"35.7143%\" y=\"48px\"><defs /><svg width=\"100%\" x=\"0\" y=\"0px\"><defs /><text text-anchor=\"middle\" x=\"50%\" y=\"16px\">economy</text></svg><svg width=\"100%\" x=\"0%\" y=\"48px\"><defs /><svg width=\"100%\" x=\"0\" y=\"0px\"><defs /><text text-anchor=\"middle\" x=\"50%\" y=\"16px\">NN</text></svg></svg><line stroke=\"black\" x1=\"50%\" x2=\"50%\" y1=\"20px\" y2=\"48px\" /></svg><line stroke=\"black\" x1=\"50%\" x2=\"67.8571%\" y1=\"20px\" y2=\"48px\" /></svg><line stroke=\"black\" x1=\"50%\" x2=\"9.54774%\" y1=\"20px\" y2=\"48px\" /><svg width=\"2.26131%\" x=\"11.3065%\" y=\"48px\"><defs /><svg width=\"100%\" x=\"0\" y=\"0px\"><defs /><text text-anchor=\"middle\" x=\"50%\" y=\"16px\">slowing</text></svg><svg width=\"100%\" x=\"0%\" y=\"48px\"><defs /><svg width=\"100%\" x=\"0\" y=\"0px\"><defs /><text text-anchor=\"middle\" x=\"50%\" y=\"16px\">VBG</text></svg></svg><line stroke=\"black\" x1=\"50%\" x2=\"50%\" y1=\"20px\" y2=\"48px\" /></svg><line stroke=\"black\" x1=\"50%\" x2=\"12.4372%\" y1=\"20px\" y2=\"48px\" /><svg width=\"1.50754%\" x=\"13.5678%\" y=\"48px\"><defs /><svg width=\"100%\" x=\"0\" y=\"0px\"><defs /><text text-anchor=\"middle\" x=\"50%\" y=\"16px\">down</text></svg><svg width=\"100%\" x=\"0%\" y=\"48px\"><defs /><svg width=\"100%\" x=\"0\" y=\"0px\"><defs /><text text-anchor=\"middle\" x=\"50%\" y=\"16px\">RP</text></svg></svg><line stroke=\"black\" x1=\"50%\" x2=\"50%\" y1=\"20px\" y2=\"48px\" /></svg><line stroke=\"black\" x1=\"50%\" x2=\"14.3216%\" y1=\"20px\" y2=\"48px\" /><svg width=\"0.753769%\" x=\"15.0754%\" y=\"48px\"><defs /><svg width=\"100%\" x=\"0\" y=\"0px\"><defs /><text text-anchor=\"middle\" x=\"50%\" y=\"16px\">,</text></svg><svg width=\"100%\" x=\"0%\" y=\"48px\"><defs /><svg width=\"100%\" x=\"0\" y=\"0px\"><defs /><text text-anchor=\"middle\" x=\"50%\" y=\"16px\">,</text></svg></svg><line stroke=\"black\" x1=\"50%\" x2=\"50%\" y1=\"20px\" y2=\"48px\" /></svg><line stroke=\"black\" x1=\"50%\" x2=\"15.4523%\" y1=\"20px\" y2=\"48px\" /><svg width=\"2.76382%\" x=\"15.8291%\" y=\"48px\"><defs /><svg width=\"100%\" x=\"0\" y=\"0px\"><defs /><text text-anchor=\"middle\" x=\"50%\" y=\"16px\">including</text></svg><svg width=\"100%\" x=\"0%\" y=\"48px\"><defs /><svg width=\"100%\" x=\"0\" y=\"0px\"><defs /><text text-anchor=\"middle\" x=\"50%\" y=\"16px\">VBG</text></svg></svg><line stroke=\"black\" x1=\"50%\" x2=\"50%\" y1=\"20px\" y2=\"48px\" /></svg><line stroke=\"black\" x1=\"50%\" x2=\"17.2111%\" y1=\"20px\" y2=\"48px\" /><svg width=\"1.50754%\" x=\"18.593%\" y=\"48px\"><defs /><svg width=\"100%\" x=\"0\" y=\"0px\"><defs /><text text-anchor=\"middle\" x=\"50%\" y=\"16px\">what</text></svg><svg width=\"100%\" x=\"0%\" y=\"48px\"><defs /><svg width=\"100%\" x=\"0\" y=\"0px\"><defs /><text text-anchor=\"middle\" x=\"50%\" y=\"16px\">WP</text></svg></svg><line stroke=\"black\" x1=\"50%\" x2=\"50%\" y1=\"20px\" y2=\"48px\" /></svg><line stroke=\"black\" x1=\"50%\" x2=\"19.3467%\" y1=\"20px\" y2=\"48px\" /><svg width=\"1.25628%\" x=\"20.1005%\" y=\"48px\"><defs /><svg width=\"100%\" x=\"0\" y=\"0px\"><defs /><text text-anchor=\"middle\" x=\"50%\" y=\"16px\">he</text></svg><svg width=\"100%\" x=\"0%\" y=\"48px\"><defs /><svg width=\"100%\" x=\"0\" y=\"0px\"><defs /><text text-anchor=\"middle\" x=\"50%\" y=\"16px\">PRP</text></svg></svg><line stroke=\"black\" x1=\"50%\" x2=\"50%\" y1=\"20px\" y2=\"48px\" /></svg><line stroke=\"black\" x1=\"50%\" x2=\"20.7286%\" y1=\"20px\" y2=\"48px\" /><svg width=\"2.01005%\" x=\"21.3568%\" y=\"48px\"><defs /><svg width=\"100%\" x=\"0\" y=\"0px\"><defs /><text text-anchor=\"middle\" x=\"50%\" y=\"16px\">called</text></svg><svg width=\"100%\" x=\"0%\" y=\"48px\"><defs /><svg width=\"100%\" x=\"0\" y=\"0px\"><defs /><text text-anchor=\"middle\" x=\"50%\" y=\"16px\">VBD</text></svg></svg><line stroke=\"black\" x1=\"50%\" x2=\"50%\" y1=\"20px\" y2=\"48px\" /></svg><line stroke=\"black\" x1=\"50%\" x2=\"22.3618%\" y1=\"20px\" y2=\"48px\" /><svg width=\"1.25628%\" x=\"23.3668%\" y=\"48px\"><defs /><svg width=\"100%\" x=\"0\" y=\"0px\"><defs /><text text-anchor=\"middle\" x=\"50%\" y=\"16px\">the</text></svg><svg width=\"100%\" x=\"0%\" y=\"48px\"><defs /><svg width=\"100%\" x=\"0\" y=\"0px\"><defs /><text text-anchor=\"middle\" x=\"50%\" y=\"16px\">DT</text></svg></svg><line stroke=\"black\" x1=\"50%\" x2=\"50%\" y1=\"20px\" y2=\"48px\" /></svg><line stroke=\"black\" x1=\"50%\" x2=\"23.995%\" y1=\"20px\" y2=\"48px\" /><svg width=\"4.0201%\" x=\"24.6231%\" y=\"48px\"><defs /><svg width=\"100%\" x=\"0\" y=\"0px\"><defs /><text text-anchor=\"middle\" x=\"50%\" y=\"16px\">'deteriorating</text></svg><svg width=\"100%\" x=\"0%\" y=\"48px\"><defs /><svg width=\"100%\" x=\"0\" y=\"0px\"><defs /><text text-anchor=\"middle\" x=\"50%\" y=\"16px\">VBG</text></svg></svg><line stroke=\"black\" x1=\"50%\" x2=\"50%\" y1=\"20px\" y2=\"48px\" /></svg><line stroke=\"black\" x1=\"50%\" x2=\"26.6332%\" y1=\"20px\" y2=\"48px\" /><svg width=\"1.25628%\" x=\"28.6432%\" y=\"48px\"><defs /><svg width=\"100%\" x=\"0\" y=\"0px\"><defs /><text text-anchor=\"middle\" x=\"50%\" y=\"16px\">'</text></svg><svg width=\"100%\" x=\"0%\" y=\"48px\"><defs /><svg width=\"100%\" x=\"0\" y=\"0px\"><defs /><text text-anchor=\"middle\" x=\"50%\" y=\"16px\">POS</text></svg></svg><line stroke=\"black\" x1=\"50%\" x2=\"50%\" y1=\"20px\" y2=\"48px\" /></svg><line stroke=\"black\" x1=\"50%\" x2=\"29.2714%\" y1=\"20px\" y2=\"48px\" /><svg width=\"1.50754%\" x=\"29.8995%\" y=\"48px\"><defs /><svg width=\"100%\" x=\"0\" y=\"0px\"><defs /><text text-anchor=\"middle\" x=\"50%\" y=\"16px\">U.S.</text></svg><svg width=\"100%\" x=\"0%\" y=\"48px\"><defs /><svg width=\"100%\" x=\"0\" y=\"0px\"><defs /><text text-anchor=\"middle\" x=\"50%\" y=\"16px\">NNP</text></svg></svg><line stroke=\"black\" x1=\"50%\" x2=\"50%\" y1=\"20px\" y2=\"48px\" /></svg><line stroke=\"black\" x1=\"50%\" x2=\"30.6533%\" y1=\"20px\" y2=\"48px\" /><svg width=\"1.75879%\" x=\"31.407%\" y=\"48px\"><defs /><svg width=\"100%\" x=\"0\" y=\"0px\"><defs /><text text-anchor=\"middle\" x=\"50%\" y=\"16px\">NP</text></svg><svg width=\"100%\" x=\"0%\" y=\"48px\"><defs /><svg width=\"100%\" x=\"0\" y=\"0px\"><defs /><text text-anchor=\"middle\" x=\"50%\" y=\"16px\">labor</text></svg><svg width=\"100%\" x=\"0%\" y=\"48px\"><defs /><svg width=\"100%\" x=\"0\" y=\"0px\"><defs /><text text-anchor=\"middle\" x=\"50%\" y=\"16px\">NN</text></svg></svg><line stroke=\"black\" x1=\"50%\" x2=\"50%\" y1=\"20px\" y2=\"48px\" /></svg><line stroke=\"black\" x1=\"50%\" x2=\"50%\" y1=\"20px\" y2=\"48px\" /></svg><line stroke=\"black\" x1=\"50%\" x2=\"32.2864%\" y1=\"20px\" y2=\"48px\" /><svg width=\"2.01005%\" x=\"33.1658%\" y=\"48px\"><defs /><svg width=\"100%\" x=\"0\" y=\"0px\"><defs /><text text-anchor=\"middle\" x=\"50%\" y=\"16px\">NP</text></svg><svg width=\"100%\" x=\"0%\" y=\"48px\"><defs /><svg width=\"100%\" x=\"0\" y=\"0px\"><defs /><text text-anchor=\"middle\" x=\"50%\" y=\"16px\">market</text></svg><svg width=\"100%\" x=\"0%\" y=\"48px\"><defs /><svg width=\"100%\" x=\"0\" y=\"0px\"><defs /><text text-anchor=\"middle\" x=\"50%\" y=\"16px\">NN</text></svg></svg><line stroke=\"black\" x1=\"50%\" x2=\"50%\" y1=\"20px\" y2=\"48px\" /></svg><line stroke=\"black\" x1=\"50%\" x2=\"50%\" y1=\"20px\" y2=\"48px\" /></svg><line stroke=\"black\" x1=\"50%\" x2=\"34.1709%\" y1=\"20px\" y2=\"48px\" /><svg width=\"0.753769%\" x=\"35.1759%\" y=\"48px\"><defs /><svg width=\"100%\" x=\"0\" y=\"0px\"><defs /><text text-anchor=\"middle\" x=\"50%\" y=\"16px\">.</text></svg><svg width=\"100%\" x=\"0%\" y=\"48px\"><defs /><svg width=\"100%\" x=\"0\" y=\"0px\"><defs /><text text-anchor=\"middle\" x=\"50%\" y=\"16px\">.</text></svg></svg><line stroke=\"black\" x1=\"50%\" x2=\"50%\" y1=\"20px\" y2=\"48px\" /></svg><line stroke=\"black\" x1=\"50%\" x2=\"35.5528%\" y1=\"20px\" y2=\"48px\" /><svg width=\"1.25628%\" x=\"35.9296%\" y=\"48px\"><defs /><svg width=\"100%\" x=\"0\" y=\"0px\"><defs /><text text-anchor=\"middle\" x=\"50%\" y=\"16px\">The</text></svg><svg width=\"100%\" x=\"0%\" y=\"48px\"><defs /><svg width=\"100%\" x=\"0\" y=\"0px\"><defs /><text text-anchor=\"middle\" x=\"50%\" y=\"16px\">DT</text></svg></svg><line stroke=\"black\" x1=\"50%\" x2=\"50%\" y1=\"20px\" y2=\"48px\" /></svg><line stroke=\"black\" x1=\"50%\" x2=\"36.5578%\" y1=\"20px\" y2=\"48px\" /><svg width=\"1.50754%\" x=\"37.1859%\" y=\"48px\"><defs /><svg width=\"100%\" x=\"0\" y=\"0px\"><defs /><text text-anchor=\"middle\" x=\"50%\" y=\"16px\">U.S.</text></svg><svg width=\"100%\" x=\"0%\" y=\"48px\"><defs /><svg width=\"100%\" x=\"0\" y=\"0px\"><defs /><text text-anchor=\"middle\" x=\"50%\" y=\"16px\">NNP</text></svg></svg><line stroke=\"black\" x1=\"50%\" x2=\"50%\" y1=\"20px\" y2=\"48px\" /></svg><line stroke=\"black\" x1=\"50%\" x2=\"37.9397%\" y1=\"20px\" y2=\"48px\" /><svg width=\"1.75879%\" x=\"38.6935%\" y=\"48px\"><defs /><svg width=\"100%\" x=\"0\" y=\"0px\"><defs /><text text-anchor=\"middle\" x=\"50%\" y=\"16px\">Labor</text></svg><svg width=\"100%\" x=\"0%\" y=\"48px\"><defs /><svg width=\"100%\" x=\"0\" y=\"0px\"><defs /><text text-anchor=\"middle\" x=\"50%\" y=\"16px\">NNP</text></svg></svg><line stroke=\"black\" x1=\"50%\" x2=\"50%\" y1=\"20px\" y2=\"48px\" /></svg><line stroke=\"black\" x1=\"50%\" x2=\"39.5729%\" y1=\"20px\" y2=\"48px\" /><svg width=\"3.01508%\" x=\"40.4523%\" y=\"48px\"><defs /><svg width=\"100%\" x=\"0\" y=\"0px\"><defs /><text text-anchor=\"middle\" x=\"50%\" y=\"16px\">Department</text></svg><svg width=\"100%\" x=\"0%\" y=\"48px\"><defs /><svg width=\"100%\" x=\"0\" y=\"0px\"><defs /><text text-anchor=\"middle\" x=\"50%\" y=\"16px\">NNP</text></svg></svg><line stroke=\"black\" x1=\"50%\" x2=\"50%\" y1=\"20px\" y2=\"48px\" /></svg><line stroke=\"black\" x1=\"50%\" x2=\"41.9598%\" y1=\"20px\" y2=\"48px\" /><svg width=\"2.51256%\" x=\"43.4673%\" y=\"48px\"><defs /><svg width=\"100%\" x=\"0\" y=\"0px\"><defs /><text text-anchor=\"middle\" x=\"50%\" y=\"16px\">reported</text></svg><svg width=\"100%\" x=\"0%\" y=\"48px\"><defs /><svg width=\"100%\" x=\"0\" y=\"0px\"><defs /><text text-anchor=\"middle\" x=\"50%\" y=\"16px\">VBD</text></svg></svg><line stroke=\"black\" x1=\"50%\" x2=\"50%\" y1=\"20px\" y2=\"48px\" /></svg><line stroke=\"black\" x1=\"50%\" x2=\"44.7236%\" y1=\"20px\" y2=\"48px\" /><svg width=\"1.50754%\" x=\"45.9799%\" y=\"48px\"><defs /><svg width=\"100%\" x=\"0\" y=\"0px\"><defs /><text text-anchor=\"middle\" x=\"50%\" y=\"16px\">that</text></svg><svg width=\"100%\" x=\"0%\" y=\"48px\"><defs /><svg width=\"100%\" x=\"0\" y=\"0px\"><defs /><text text-anchor=\"middle\" x=\"50%\" y=\"16px\">IN</text></svg></svg><line stroke=\"black\" x1=\"50%\" x2=\"50%\" y1=\"20px\" y2=\"48px\" /></svg><line stroke=\"black\" x1=\"50%\" x2=\"46.7337%\" y1=\"20px\" y2=\"48px\" /><svg width=\"4.77387%\" x=\"47.4874%\" y=\"48px\"><defs /><svg width=\"100%\" x=\"0\" y=\"0px\"><defs /><text text-anchor=\"middle\" x=\"50%\" y=\"16px\">NP</text></svg><svg width=\"26.3158%\" x=\"0%\" y=\"48px\"><defs /><svg width=\"100%\" x=\"0\" y=\"0px\"><defs /><text text-anchor=\"middle\" x=\"50%\" y=\"16px\">the</text></svg><svg width=\"100%\" x=\"0%\" y=\"48px\"><defs /><svg width=\"100%\" x=\"0\" y=\"0px\"><defs /><text text-anchor=\"middle\" x=\"50%\" y=\"16px\">DT</text></svg></svg><line stroke=\"black\" x1=\"50%\" x2=\"50%\" y1=\"20px\" y2=\"48px\" /></svg><line stroke=\"black\" x1=\"50%\" x2=\"13.1579%\" y1=\"20px\" y2=\"48px\" /><svg width=\"73.6842%\" x=\"26.3158%\" y=\"48px\"><defs /><svg width=\"100%\" x=\"0\" y=\"0px\"><defs /><text text-anchor=\"middle\" x=\"50%\" y=\"16px\">unemployment</text></svg><svg width=\"100%\" x=\"0%\" y=\"48px\"><defs /><svg width=\"100%\" x=\"0\" y=\"0px\"><defs /><text text-anchor=\"middle\" x=\"50%\" y=\"16px\">NN</text></svg></svg><line stroke=\"black\" x1=\"50%\" x2=\"50%\" y1=\"20px\" y2=\"48px\" /></svg><line stroke=\"black\" x1=\"50%\" x2=\"63.1579%\" y1=\"20px\" y2=\"48px\" /></svg><line stroke=\"black\" x1=\"50%\" x2=\"49.8744%\" y1=\"20px\" y2=\"48px\" /><svg width=\"1.50754%\" x=\"52.2613%\" y=\"48px\"><defs /><svg width=\"100%\" x=\"0\" y=\"0px\"><defs /><text text-anchor=\"middle\" x=\"50%\" y=\"16px\">NP</text></svg><svg width=\"100%\" x=\"0%\" y=\"48px\"><defs /><svg width=\"100%\" x=\"0\" y=\"0px\"><defs /><text text-anchor=\"middle\" x=\"50%\" y=\"16px\">rate</text></svg><svg width=\"100%\" x=\"0%\" y=\"48px\"><defs /><svg width=\"100%\" x=\"0\" y=\"0px\"><defs /><text text-anchor=\"middle\" x=\"50%\" y=\"16px\">NN</text></svg></svg><line stroke=\"black\" x1=\"50%\" x2=\"50%\" y1=\"20px\" y2=\"48px\" /></svg><line stroke=\"black\" x1=\"50%\" x2=\"50%\" y1=\"20px\" y2=\"48px\" /></svg><line stroke=\"black\" x1=\"50%\" x2=\"53.0151%\" y1=\"20px\" y2=\"48px\" /><svg width=\"2.01005%\" x=\"53.7688%\" y=\"48px\"><defs /><svg width=\"100%\" x=\"0\" y=\"0px\"><defs /><text text-anchor=\"middle\" x=\"50%\" y=\"16px\">inched</text></svg><svg width=\"100%\" x=\"0%\" y=\"48px\"><defs /><svg width=\"100%\" x=\"0\" y=\"0px\"><defs /><text text-anchor=\"middle\" x=\"50%\" y=\"16px\">VBD</text></svg></svg><line stroke=\"black\" x1=\"50%\" x2=\"50%\" y1=\"20px\" y2=\"48px\" /></svg><line stroke=\"black\" x1=\"50%\" x2=\"54.7739%\" y1=\"20px\" y2=\"48px\" /><svg width=\"1.00503%\" x=\"55.7789%\" y=\"48px\"><defs /><svg width=\"100%\" x=\"0\" y=\"0px\"><defs /><text text-anchor=\"middle\" x=\"50%\" y=\"16px\">to</text></svg><svg width=\"100%\" x=\"0%\" y=\"48px\"><defs /><svg width=\"100%\" x=\"0\" y=\"0px\"><defs /><text text-anchor=\"middle\" x=\"50%\" y=\"16px\">TO</text></svg></svg><line stroke=\"black\" x1=\"50%\" x2=\"50%\" y1=\"20px\" y2=\"48px\" /></svg><line stroke=\"black\" x1=\"50%\" x2=\"56.2814%\" y1=\"20px\" y2=\"48px\" /><svg width=\"1.25628%\" x=\"56.7839%\" y=\"48px\"><defs /><svg width=\"100%\" x=\"0\" y=\"0px\"><defs /><text text-anchor=\"middle\" x=\"50%\" y=\"16px\">4.3</text></svg><svg width=\"100%\" x=\"0%\" y=\"48px\"><defs /><svg width=\"100%\" x=\"0\" y=\"0px\"><defs /><text text-anchor=\"middle\" x=\"50%\" y=\"16px\">CD</text></svg></svg><line stroke=\"black\" x1=\"50%\" x2=\"50%\" y1=\"20px\" y2=\"48px\" /></svg><line stroke=\"black\" x1=\"50%\" x2=\"57.4121%\" y1=\"20px\" y2=\"48px\" /><svg width=\"1.00503%\" x=\"58.0402%\" y=\"48px\"><defs /><svg width=\"100%\" x=\"0\" y=\"0px\"><defs /><text text-anchor=\"middle\" x=\"50%\" y=\"16px\">NP</text></svg><svg width=\"100%\" x=\"0%\" y=\"48px\"><defs /><svg width=\"100%\" x=\"0\" y=\"0px\"><defs /><text text-anchor=\"middle\" x=\"50%\" y=\"16px\">%</text></svg><svg width=\"100%\" x=\"0%\" y=\"48px\"><defs /><svg width=\"100%\" x=\"0\" y=\"0px\"><defs /><text text-anchor=\"middle\" x=\"50%\" y=\"16px\">NN</text></svg></svg><line stroke=\"black\" x1=\"50%\" x2=\"50%\" y1=\"20px\" y2=\"48px\" /></svg><line stroke=\"black\" x1=\"50%\" x2=\"50%\" y1=\"20px\" y2=\"48px\" /></svg><line stroke=\"black\" x1=\"50%\" x2=\"58.5427%\" y1=\"20px\" y2=\"48px\" /><svg width=\"1.00503%\" x=\"59.0452%\" y=\"48px\"><defs /><svg width=\"100%\" x=\"0\" y=\"0px\"><defs /><text text-anchor=\"middle\" x=\"50%\" y=\"16px\">in</text></svg><svg width=\"100%\" x=\"0%\" y=\"48px\"><defs /><svg width=\"100%\" x=\"0\" y=\"0px\"><defs /><text text-anchor=\"middle\" x=\"50%\" y=\"16px\">IN</text></svg></svg><line stroke=\"black\" x1=\"50%\" x2=\"50%\" y1=\"20px\" y2=\"48px\" /></svg><line stroke=\"black\" x1=\"50%\" x2=\"59.5477%\" y1=\"20px\" y2=\"48px\" /><svg width=\"1.50754%\" x=\"60.0503%\" y=\"48px\"><defs /><svg width=\"100%\" x=\"0\" y=\"0px\"><defs /><text text-anchor=\"middle\" x=\"50%\" y=\"16px\">July</text></svg><svg width=\"100%\" x=\"0%\" y=\"48px\"><defs /><svg width=\"100%\" x=\"0\" y=\"0px\"><defs /><text text-anchor=\"middle\" x=\"50%\" y=\"16px\">NNP</text></svg></svg><line stroke=\"black\" x1=\"50%\" x2=\"50%\" y1=\"20px\" y2=\"48px\" /></svg><line stroke=\"black\" x1=\"50%\" x2=\"60.804%\" y1=\"20px\" y2=\"48px\" /><svg width=\"1.00503%\" x=\"61.5578%\" y=\"48px\"><defs /><svg width=\"100%\" x=\"0\" y=\"0px\"><defs /><text text-anchor=\"middle\" x=\"50%\" y=\"16px\">to</text></svg><svg width=\"100%\" x=\"0%\" y=\"48px\"><defs /><svg width=\"100%\" x=\"0\" y=\"0px\"><defs /><text text-anchor=\"middle\" x=\"50%\" y=\"16px\">TO</text></svg></svg><line stroke=\"black\" x1=\"50%\" x2=\"50%\" y1=\"20px\" y2=\"48px\" /></svg><line stroke=\"black\" x1=\"50%\" x2=\"62.0603%\" y1=\"20px\" y2=\"48px\" /><svg width=\"1.50754%\" x=\"62.5628%\" y=\"48px\"><defs /><svg width=\"100%\" x=\"0\" y=\"0px\"><defs /><text text-anchor=\"middle\" x=\"50%\" y=\"16px\">its</text></svg><svg width=\"100%\" x=\"0%\" y=\"48px\"><defs /><svg width=\"100%\" x=\"0\" y=\"0px\"><defs /><text text-anchor=\"middle\" x=\"50%\" y=\"16px\">PRP$</text></svg></svg><line stroke=\"black\" x1=\"50%\" x2=\"50%\" y1=\"20px\" y2=\"48px\" /></svg><line stroke=\"black\" x1=\"50%\" x2=\"63.3166%\" y1=\"20px\" y2=\"48px\" /><svg width=\"2.26131%\" x=\"64.0704%\" y=\"48px\"><defs /><svg width=\"100%\" x=\"0\" y=\"0px\"><defs /><text text-anchor=\"middle\" x=\"50%\" y=\"16px\">highest</text></svg><svg width=\"100%\" x=\"0%\" y=\"48px\"><defs /><svg width=\"100%\" x=\"0\" y=\"0px\"><defs /><text text-anchor=\"middle\" x=\"50%\" y=\"16px\">JJS</text></svg></svg><line stroke=\"black\" x1=\"50%\" x2=\"50%\" y1=\"20px\" y2=\"48px\" /></svg><line stroke=\"black\" x1=\"50%\" x2=\"65.201%\" y1=\"20px\" y2=\"48px\" /><svg width=\"1.75879%\" x=\"66.3317%\" y=\"48px\"><defs /><svg width=\"100%\" x=\"0\" y=\"0px\"><defs /><text text-anchor=\"middle\" x=\"50%\" y=\"16px\">since</text></svg><svg width=\"100%\" x=\"0%\" y=\"48px\"><defs /><svg width=\"100%\" x=\"0\" y=\"0px\"><defs /><text text-anchor=\"middle\" x=\"50%\" y=\"16px\">IN</text></svg></svg><line stroke=\"black\" x1=\"50%\" x2=\"50%\" y1=\"20px\" y2=\"48px\" /></svg><line stroke=\"black\" x1=\"50%\" x2=\"67.2111%\" y1=\"20px\" y2=\"48px\" /><svg width=\"2.26131%\" x=\"68.0905%\" y=\"48px\"><defs /><svg width=\"100%\" x=\"0\" y=\"0px\"><defs /><text text-anchor=\"middle\" x=\"50%\" y=\"16px\">October</text></svg><svg width=\"100%\" x=\"0%\" y=\"48px\"><defs /><svg width=\"100%\" x=\"0\" y=\"0px\"><defs /><text text-anchor=\"middle\" x=\"50%\" y=\"16px\">NNP</text></svg></svg><line stroke=\"black\" x1=\"50%\" x2=\"50%\" y1=\"20px\" y2=\"48px\" /></svg><line stroke=\"black\" x1=\"50%\" x2=\"69.2211%\" y1=\"20px\" y2=\"48px\" /><svg width=\"1.50754%\" x=\"70.3518%\" y=\"48px\"><defs /><svg width=\"100%\" x=\"0\" y=\"0px\"><defs /><text text-anchor=\"middle\" x=\"50%\" y=\"16px\">2021</text></svg><svg width=\"100%\" x=\"0%\" y=\"48px\"><defs /><svg width=\"100%\" x=\"0\" y=\"0px\"><defs /><text text-anchor=\"middle\" x=\"50%\" y=\"16px\">CD</text></svg></svg><line stroke=\"black\" x1=\"50%\" x2=\"50%\" y1=\"20px\" y2=\"48px\" /></svg><line stroke=\"black\" x1=\"50%\" x2=\"71.1055%\" y1=\"20px\" y2=\"48px\" /><svg width=\"0.753769%\" x=\"71.8593%\" y=\"48px\"><defs /><svg width=\"100%\" x=\"0\" y=\"0px\"><defs /><text text-anchor=\"middle\" x=\"50%\" y=\"16px\">,</text></svg><svg width=\"100%\" x=\"0%\" y=\"48px\"><defs /><svg width=\"100%\" x=\"0\" y=\"0px\"><defs /><text text-anchor=\"middle\" x=\"50%\" y=\"16px\">,</text></svg></svg><line stroke=\"black\" x1=\"50%\" x2=\"50%\" y1=\"20px\" y2=\"48px\" /></svg><line stroke=\"black\" x1=\"50%\" x2=\"72.2362%\" y1=\"20px\" y2=\"48px\" /><svg width=\"1.25628%\" x=\"72.6131%\" y=\"48px\"><defs /><svg width=\"100%\" x=\"0\" y=\"0px\"><defs /><text text-anchor=\"middle\" x=\"50%\" y=\"16px\">and</text></svg><svg width=\"100%\" x=\"0%\" y=\"48px\"><defs /><svg width=\"100%\" x=\"0\" y=\"0px\"><defs /><text text-anchor=\"middle\" x=\"50%\" y=\"16px\">CC</text></svg></svg><line stroke=\"black\" x1=\"50%\" x2=\"50%\" y1=\"20px\" y2=\"48px\" /></svg><line stroke=\"black\" x1=\"50%\" x2=\"73.2412%\" y1=\"20px\" y2=\"48px\" /><svg width=\"2.76382%\" x=\"73.8693%\" y=\"48px\"><defs /><svg width=\"100%\" x=\"0\" y=\"0px\"><defs /><text text-anchor=\"middle\" x=\"50%\" y=\"16px\">NP</text></svg><svg width=\"36.3636%\" x=\"0%\" y=\"48px\"><defs /><svg width=\"100%\" x=\"0\" y=\"0px\"><defs /><text text-anchor=\"middle\" x=\"50%\" y=\"16px\">a</text></svg><svg width=\"100%\" x=\"0%\" y=\"48px\"><defs /><svg width=\"100%\" x=\"0\" y=\"0px\"><defs /><text text-anchor=\"middle\" x=\"50%\" y=\"16px\">DT</text></svg></svg><line stroke=\"black\" x1=\"50%\" x2=\"50%\" y1=\"20px\" y2=\"48px\" /></svg><line stroke=\"black\" x1=\"50%\" x2=\"18.1818%\" y1=\"20px\" y2=\"48px\" /><svg width=\"63.6364%\" x=\"36.3636%\" y=\"48px\"><defs /><svg width=\"100%\" x=\"0\" y=\"0px\"><defs /><text text-anchor=\"middle\" x=\"50%\" y=\"16px\">gauge</text></svg><svg width=\"100%\" x=\"0%\" y=\"48px\"><defs /><svg width=\"100%\" x=\"0\" y=\"0px\"><defs /><text text-anchor=\"middle\" x=\"50%\" y=\"16px\">NN</text></svg></svg><line stroke=\"black\" x1=\"50%\" x2=\"50%\" y1=\"20px\" y2=\"48px\" /></svg><line stroke=\"black\" x1=\"50%\" x2=\"68.1818%\" y1=\"20px\" y2=\"48px\" /></svg><line stroke=\"black\" x1=\"50%\" x2=\"75.2513%\" y1=\"20px\" y2=\"48px\" /><svg width=\"1.25628%\" x=\"76.6332%\" y=\"48px\"><defs /><svg width=\"100%\" x=\"0\" y=\"0px\"><defs /><text text-anchor=\"middle\" x=\"50%\" y=\"16px\">for</text></svg><svg width=\"100%\" x=\"0%\" y=\"48px\"><defs /><svg width=\"100%\" x=\"0\" y=\"0px\"><defs /><text text-anchor=\"middle\" x=\"50%\" y=\"16px\">IN</text></svg></svg><line stroke=\"black\" x1=\"50%\" x2=\"50%\" y1=\"20px\" y2=\"48px\" /></svg><line stroke=\"black\" x1=\"50%\" x2=\"77.2613%\" y1=\"20px\" y2=\"48px\" /><svg width=\"1.50754%\" x=\"77.8894%\" y=\"48px\"><defs /><svg width=\"100%\" x=\"0\" y=\"0px\"><defs /><text text-anchor=\"middle\" x=\"50%\" y=\"16px\">U.S.</text></svg><svg width=\"100%\" x=\"0%\" y=\"48px\"><defs /><svg width=\"100%\" x=\"0\" y=\"0px\"><defs /><text text-anchor=\"middle\" x=\"50%\" y=\"16px\">NNP</text></svg></svg><line stroke=\"black\" x1=\"50%\" x2=\"50%\" y1=\"20px\" y2=\"48px\" /></svg><line stroke=\"black\" x1=\"50%\" x2=\"78.6432%\" y1=\"20px\" y2=\"48px\" /><svg width=\"3.76884%\" x=\"79.397%\" y=\"48px\"><defs /><svg width=\"100%\" x=\"0\" y=\"0px\"><defs /><text text-anchor=\"middle\" x=\"50%\" y=\"16px\">NP</text></svg><svg width=\"100%\" x=\"0%\" y=\"48px\"><defs /><svg width=\"100%\" x=\"0\" y=\"0px\"><defs /><text text-anchor=\"middle\" x=\"50%\" y=\"16px\">manufacturing</text></svg><svg width=\"100%\" x=\"0%\" y=\"48px\"><defs /><svg width=\"100%\" x=\"0\" y=\"0px\"><defs /><text text-anchor=\"middle\" x=\"50%\" y=\"16px\">NN</text></svg></svg><line stroke=\"black\" x1=\"50%\" x2=\"50%\" y1=\"20px\" y2=\"48px\" /></svg><line stroke=\"black\" x1=\"50%\" x2=\"50%\" y1=\"20px\" y2=\"48px\" /></svg><line stroke=\"black\" x1=\"50%\" x2=\"81.2814%\" y1=\"20px\" y2=\"48px\" /><svg width=\"2.51256%\" x=\"83.1658%\" y=\"48px\"><defs /><svg width=\"100%\" x=\"0\" y=\"0px\"><defs /><text text-anchor=\"middle\" x=\"50%\" y=\"16px\">NP</text></svg><svg width=\"100%\" x=\"0%\" y=\"48px\"><defs /><svg width=\"100%\" x=\"0\" y=\"0px\"><defs /><text text-anchor=\"middle\" x=\"50%\" y=\"16px\">activity</text></svg><svg width=\"100%\" x=\"0%\" y=\"48px\"><defs /><svg width=\"100%\" x=\"0\" y=\"0px\"><defs /><text text-anchor=\"middle\" x=\"50%\" y=\"16px\">NN</text></svg></svg><line stroke=\"black\" x1=\"50%\" x2=\"50%\" y1=\"20px\" y2=\"48px\" /></svg><line stroke=\"black\" x1=\"50%\" x2=\"50%\" y1=\"20px\" y2=\"48px\" /></svg><line stroke=\"black\" x1=\"50%\" x2=\"84.4221%\" y1=\"20px\" y2=\"48px\" /><svg width=\"1.50754%\" x=\"85.6784%\" y=\"48px\"><defs /><svg width=\"100%\" x=\"0\" y=\"0px\"><defs /><text text-anchor=\"middle\" x=\"50%\" y=\"16px\">fell</text></svg><svg width=\"100%\" x=\"0%\" y=\"48px\"><defs /><svg width=\"100%\" x=\"0\" y=\"0px\"><defs /><text text-anchor=\"middle\" x=\"50%\" y=\"16px\">VBD</text></svg></svg><line stroke=\"black\" x1=\"50%\" x2=\"50%\" y1=\"20px\" y2=\"48px\" /></svg><line stroke=\"black\" x1=\"50%\" x2=\"86.4322%\" y1=\"20px\" y2=\"48px\" /><svg width=\"1.00503%\" x=\"87.1859%\" y=\"48px\"><defs /><svg width=\"100%\" x=\"0\" y=\"0px\"><defs /><text text-anchor=\"middle\" x=\"50%\" y=\"16px\">to</text></svg><svg width=\"100%\" x=\"0%\" y=\"48px\"><defs /><svg width=\"100%\" x=\"0\" y=\"0px\"><defs /><text text-anchor=\"middle\" x=\"50%\" y=\"16px\">TO</text></svg></svg><line stroke=\"black\" x1=\"50%\" x2=\"50%\" y1=\"20px\" y2=\"48px\" /></svg><line stroke=\"black\" x1=\"50%\" x2=\"87.6884%\" y1=\"20px\" y2=\"48px\" /><svg width=\"5.52764%\" x=\"88.191%\" y=\"48px\"><defs /><svg width=\"100%\" x=\"0\" y=\"0px\"><defs /><text text-anchor=\"middle\" x=\"50%\" y=\"16px\">NP</text></svg><svg width=\"18.1818%\" x=\"0%\" y=\"48px\"><defs /><svg width=\"100%\" x=\"0\" y=\"0px\"><defs /><text text-anchor=\"middle\" x=\"50%\" y=\"16px\">an</text></svg><svg width=\"100%\" x=\"0%\" y=\"48px\"><defs /><svg width=\"100%\" x=\"0\" y=\"0px\"><defs /><text text-anchor=\"middle\" x=\"50%\" y=\"16px\">DT</text></svg></svg><line stroke=\"black\" x1=\"50%\" x2=\"50%\" y1=\"20px\" y2=\"48px\" /></svg><line stroke=\"black\" x1=\"50%\" x2=\"9.09091%\" y1=\"20px\" y2=\"48px\" /><svg width=\"59.0909%\" x=\"18.1818%\" y=\"48px\"><defs /><svg width=\"100%\" x=\"0\" y=\"0px\"><defs /><text text-anchor=\"middle\" x=\"50%\" y=\"16px\">eight-month</text></svg><svg width=\"100%\" x=\"0%\" y=\"48px\"><defs /><svg width=\"100%\" x=\"0\" y=\"0px\"><defs /><text text-anchor=\"middle\" x=\"50%\" y=\"16px\">JJ</text></svg></svg><line stroke=\"black\" x1=\"50%\" x2=\"50%\" y1=\"20px\" y2=\"48px\" /></svg><line stroke=\"black\" x1=\"50%\" x2=\"47.7273%\" y1=\"20px\" y2=\"48px\" /><svg width=\"22.7273%\" x=\"77.2727%\" y=\"48px\"><defs /><svg width=\"100%\" x=\"0\" y=\"0px\"><defs /><text text-anchor=\"middle\" x=\"50%\" y=\"16px\">low</text></svg><svg width=\"100%\" x=\"0%\" y=\"48px\"><defs /><svg width=\"100%\" x=\"0\" y=\"0px\"><defs /><text text-anchor=\"middle\" x=\"50%\" y=\"16px\">NN</text></svg></svg><line stroke=\"black\" x1=\"50%\" x2=\"50%\" y1=\"20px\" y2=\"48px\" /></svg><line stroke=\"black\" x1=\"50%\" x2=\"88.6364%\" y1=\"20px\" y2=\"48px\" /></svg><line stroke=\"black\" x1=\"50%\" x2=\"90.9548%\" y1=\"20px\" y2=\"48px\" /><svg width=\"1.00503%\" x=\"93.7186%\" y=\"48px\"><defs /><svg width=\"100%\" x=\"0\" y=\"0px\"><defs /><text text-anchor=\"middle\" x=\"50%\" y=\"16px\">in</text></svg><svg width=\"100%\" x=\"0%\" y=\"48px\"><defs /><svg width=\"100%\" x=\"0\" y=\"0px\"><defs /><text text-anchor=\"middle\" x=\"50%\" y=\"16px\">IN</text></svg></svg><line stroke=\"black\" x1=\"50%\" x2=\"50%\" y1=\"20px\" y2=\"48px\" /></svg><line stroke=\"black\" x1=\"50%\" x2=\"94.2211%\" y1=\"20px\" y2=\"48px\" /><svg width=\"4.52261%\" x=\"94.7236%\" y=\"48px\"><defs /><svg width=\"100%\" x=\"0\" y=\"0px\"><defs /><text text-anchor=\"middle\" x=\"50%\" y=\"16px\">NP</text></svg><svg width=\"27.7778%\" x=\"0%\" y=\"48px\"><defs /><svg width=\"100%\" x=\"0\" y=\"0px\"><defs /><text text-anchor=\"middle\" x=\"50%\" y=\"16px\">the</text></svg><svg width=\"100%\" x=\"0%\" y=\"48px\"><defs /><svg width=\"100%\" x=\"0\" y=\"0px\"><defs /><text text-anchor=\"middle\" x=\"50%\" y=\"16px\">DT</text></svg></svg><line stroke=\"black\" x1=\"50%\" x2=\"50%\" y1=\"20px\" y2=\"48px\" /></svg><line stroke=\"black\" x1=\"50%\" x2=\"13.8889%\" y1=\"20px\" y2=\"48px\" /><svg width=\"33.3333%\" x=\"27.7778%\" y=\"48px\"><defs /><svg width=\"100%\" x=\"0\" y=\"0px\"><defs /><text text-anchor=\"middle\" x=\"50%\" y=\"16px\">same</text></svg><svg width=\"100%\" x=\"0%\" y=\"48px\"><defs /><svg width=\"100%\" x=\"0\" y=\"0px\"><defs /><text text-anchor=\"middle\" x=\"50%\" y=\"16px\">JJ</text></svg></svg><line stroke=\"black\" x1=\"50%\" x2=\"50%\" y1=\"20px\" y2=\"48px\" /></svg><line stroke=\"black\" x1=\"50%\" x2=\"44.4444%\" y1=\"20px\" y2=\"48px\" /><svg width=\"38.8889%\" x=\"61.1111%\" y=\"48px\"><defs /><svg width=\"100%\" x=\"0\" y=\"0px\"><defs /><text text-anchor=\"middle\" x=\"50%\" y=\"16px\">month</text></svg><svg width=\"100%\" x=\"0%\" y=\"48px\"><defs /><svg width=\"100%\" x=\"0\" y=\"0px\"><defs /><text text-anchor=\"middle\" x=\"50%\" y=\"16px\">NN</text></svg></svg><line stroke=\"black\" x1=\"50%\" x2=\"50%\" y1=\"20px\" y2=\"48px\" /></svg><line stroke=\"black\" x1=\"50%\" x2=\"80.5556%\" y1=\"20px\" y2=\"48px\" /></svg><line stroke=\"black\" x1=\"50%\" x2=\"96.9849%\" y1=\"20px\" y2=\"48px\" /><svg width=\"0.753769%\" x=\"99.2462%\" y=\"48px\"><defs /><svg width=\"100%\" x=\"0\" y=\"0px\"><defs /><text text-anchor=\"middle\" x=\"50%\" y=\"16px\">.</text></svg><svg width=\"100%\" x=\"0%\" y=\"48px\"><defs /><svg width=\"100%\" x=\"0\" y=\"0px\"><defs /><text text-anchor=\"middle\" x=\"50%\" y=\"16px\">.</text></svg></svg><line stroke=\"black\" x1=\"50%\" x2=\"50%\" y1=\"20px\" y2=\"48px\" /></svg><line stroke=\"black\" x1=\"50%\" x2=\"99.6231%\" y1=\"20px\" y2=\"48px\" /></svg>"
      ],
      "text/plain": [
       "Tree('S', [('Evans', 'NNS'), ('pointed', 'VBD'), ('to', 'TO'), ('signs', 'NNS'), ('of', 'IN'), Tree('NP', [('the', 'DT'), ('economy', 'NN')]), ('slowing', 'VBG'), ('down', 'RP'), (',', ','), ('including', 'VBG'), ('what', 'WP'), ('he', 'PRP'), ('called', 'VBD'), ('the', 'DT'), (\"'deteriorating\", 'VBG'), (\"'\", 'POS'), ('U.S.', 'NNP'), Tree('NP', [('labor', 'NN')]), Tree('NP', [('market', 'NN')]), ('.', '.'), ('The', 'DT'), ('U.S.', 'NNP'), ('Labor', 'NNP'), ('Department', 'NNP'), ('reported', 'VBD'), ('that', 'IN'), Tree('NP', [('the', 'DT'), ('unemployment', 'NN')]), Tree('NP', [('rate', 'NN')]), ('inched', 'VBD'), ('to', 'TO'), ('4.3', 'CD'), Tree('NP', [('%', 'NN')]), ('in', 'IN'), ('July', 'NNP'), ('to', 'TO'), ('its', 'PRP$'), ('highest', 'JJS'), ('since', 'IN'), ('October', 'NNP'), ('2021', 'CD'), (',', ','), ('and', 'CC'), Tree('NP', [('a', 'DT'), ('gauge', 'NN')]), ('for', 'IN'), ('U.S.', 'NNP'), Tree('NP', [('manufacturing', 'NN')]), Tree('NP', [('activity', 'NN')]), ('fell', 'VBD'), ('to', 'TO'), Tree('NP', [('an', 'DT'), ('eight-month', 'JJ'), ('low', 'NN')]), ('in', 'IN'), Tree('NP', [('the', 'DT'), ('same', 'JJ'), ('month', 'NN')]), ('.', '.')])"
      ]
     },
     "execution_count": 120,
     "metadata": {},
     "output_type": "execute_result"
    }
   ],
   "source": [
    "chunks"
   ]
  },
  {
   "cell_type": "code",
   "execution_count": 135,
   "id": "8dc1d1db",
   "metadata": {},
   "outputs": [],
   "source": [
    "#pip install svgling"
   ]
  },
  {
   "cell_type": "code",
   "execution_count": 122,
   "id": "14b366f1",
   "metadata": {},
   "outputs": [],
   "source": [
    "from nltk.chunk import ne_chunk"
   ]
  },
  {
   "cell_type": "code",
   "execution_count": 134,
   "id": "123062bf",
   "metadata": {},
   "outputs": [],
   "source": [
    "#nltk.download('words')\n",
    "#nltk.download('maxent_ne_chunker')"
   ]
  },
  {
   "cell_type": "code",
   "execution_count": 124,
   "id": "c9fc219a",
   "metadata": {},
   "outputs": [],
   "source": [
    "text = \"\"\"\n",
    "Evans pointed to signs of the economy slowing down, including what he called the 'deteriorating' U.S. labor market. The U.S. Labor Department reported that the unemployment rate inched to 4.3% in July to its highest since October 2021, and a gauge for U.S. manufacturing activity fell to an eight-month low in the same month.\n",
    "\"\"\"\n",
    "\n",
    "words = word_tokenize(text)\n",
    "\n",
    "tagged_words = pos_tag(words)"
   ]
  },
  {
   "cell_type": "code",
   "execution_count": 125,
   "id": "c44511c7",
   "metadata": {},
   "outputs": [],
   "source": [
    "ner_tree = ne_chunk(tagged_words)"
   ]
  },
  {
   "cell_type": "code",
   "execution_count": 126,
   "id": "8182096e",
   "metadata": {},
   "outputs": [
    {
     "data": {
      "image/svg+xml": [
       "<svg baseProfile=\"full\" height=\"168px\" preserveAspectRatio=\"xMidYMid meet\" style=\"font-family: times, serif; font-weight: normal; font-style: normal; font-size: 16px\" version=\"1.1\" viewBox=\"0,0,3184.0,168.0\" width=\"3184px\" xmlns=\"http://www.w3.org/2000/svg\" xmlns:ev=\"http://www.w3.org/2001/xml-events\" xmlns:xlink=\"http://www.w3.org/1999/xlink\"><defs /><svg width=\"100%\" x=\"0\" y=\"0px\"><defs /><text text-anchor=\"middle\" x=\"50%\" y=\"16px\">S</text></svg><svg width=\"1.75879%\" x=\"0%\" y=\"48px\"><defs /><svg width=\"100%\" x=\"0\" y=\"0px\"><defs /><text text-anchor=\"middle\" x=\"50%\" y=\"16px\">Evans</text></svg><svg width=\"100%\" x=\"0%\" y=\"48px\"><defs /><svg width=\"100%\" x=\"0\" y=\"0px\"><defs /><text text-anchor=\"middle\" x=\"50%\" y=\"16px\">NNS</text></svg></svg><line stroke=\"black\" x1=\"50%\" x2=\"50%\" y1=\"20px\" y2=\"48px\" /></svg><line stroke=\"black\" x1=\"50%\" x2=\"0.879397%\" y1=\"20px\" y2=\"48px\" /><svg width=\"2.26131%\" x=\"1.75879%\" y=\"48px\"><defs /><svg width=\"100%\" x=\"0\" y=\"0px\"><defs /><text text-anchor=\"middle\" x=\"50%\" y=\"16px\">pointed</text></svg><svg width=\"100%\" x=\"0%\" y=\"48px\"><defs /><svg width=\"100%\" x=\"0\" y=\"0px\"><defs /><text text-anchor=\"middle\" x=\"50%\" y=\"16px\">VBD</text></svg></svg><line stroke=\"black\" x1=\"50%\" x2=\"50%\" y1=\"20px\" y2=\"48px\" /></svg><line stroke=\"black\" x1=\"50%\" x2=\"2.88945%\" y1=\"20px\" y2=\"48px\" /><svg width=\"1.00503%\" x=\"4.0201%\" y=\"48px\"><defs /><svg width=\"100%\" x=\"0\" y=\"0px\"><defs /><text text-anchor=\"middle\" x=\"50%\" y=\"16px\">to</text></svg><svg width=\"100%\" x=\"0%\" y=\"48px\"><defs /><svg width=\"100%\" x=\"0\" y=\"0px\"><defs /><text text-anchor=\"middle\" x=\"50%\" y=\"16px\">TO</text></svg></svg><line stroke=\"black\" x1=\"50%\" x2=\"50%\" y1=\"20px\" y2=\"48px\" /></svg><line stroke=\"black\" x1=\"50%\" x2=\"4.52261%\" y1=\"20px\" y2=\"48px\" /><svg width=\"1.75879%\" x=\"5.02513%\" y=\"48px\"><defs /><svg width=\"100%\" x=\"0\" y=\"0px\"><defs /><text text-anchor=\"middle\" x=\"50%\" y=\"16px\">signs</text></svg><svg width=\"100%\" x=\"0%\" y=\"48px\"><defs /><svg width=\"100%\" x=\"0\" y=\"0px\"><defs /><text text-anchor=\"middle\" x=\"50%\" y=\"16px\">NNS</text></svg></svg><line stroke=\"black\" x1=\"50%\" x2=\"50%\" y1=\"20px\" y2=\"48px\" /></svg><line stroke=\"black\" x1=\"50%\" x2=\"5.90452%\" y1=\"20px\" y2=\"48px\" /><svg width=\"1.00503%\" x=\"6.78392%\" y=\"48px\"><defs /><svg width=\"100%\" x=\"0\" y=\"0px\"><defs /><text text-anchor=\"middle\" x=\"50%\" y=\"16px\">of</text></svg><svg width=\"100%\" x=\"0%\" y=\"48px\"><defs /><svg width=\"100%\" x=\"0\" y=\"0px\"><defs /><text text-anchor=\"middle\" x=\"50%\" y=\"16px\">IN</text></svg></svg><line stroke=\"black\" x1=\"50%\" x2=\"50%\" y1=\"20px\" y2=\"48px\" /></svg><line stroke=\"black\" x1=\"50%\" x2=\"7.28643%\" y1=\"20px\" y2=\"48px\" /><svg width=\"1.25628%\" x=\"7.78894%\" y=\"48px\"><defs /><svg width=\"100%\" x=\"0\" y=\"0px\"><defs /><text text-anchor=\"middle\" x=\"50%\" y=\"16px\">the</text></svg><svg width=\"100%\" x=\"0%\" y=\"48px\"><defs /><svg width=\"100%\" x=\"0\" y=\"0px\"><defs /><text text-anchor=\"middle\" x=\"50%\" y=\"16px\">DT</text></svg></svg><line stroke=\"black\" x1=\"50%\" x2=\"50%\" y1=\"20px\" y2=\"48px\" /></svg><line stroke=\"black\" x1=\"50%\" x2=\"8.41709%\" y1=\"20px\" y2=\"48px\" /><svg width=\"2.26131%\" x=\"9.04523%\" y=\"48px\"><defs /><svg width=\"100%\" x=\"0\" y=\"0px\"><defs /><text text-anchor=\"middle\" x=\"50%\" y=\"16px\">economy</text></svg><svg width=\"100%\" x=\"0%\" y=\"48px\"><defs /><svg width=\"100%\" x=\"0\" y=\"0px\"><defs /><text text-anchor=\"middle\" x=\"50%\" y=\"16px\">NN</text></svg></svg><line stroke=\"black\" x1=\"50%\" x2=\"50%\" y1=\"20px\" y2=\"48px\" /></svg><line stroke=\"black\" x1=\"50%\" x2=\"10.1759%\" y1=\"20px\" y2=\"48px\" /><svg width=\"2.26131%\" x=\"11.3065%\" y=\"48px\"><defs /><svg width=\"100%\" x=\"0\" y=\"0px\"><defs /><text text-anchor=\"middle\" x=\"50%\" y=\"16px\">slowing</text></svg><svg width=\"100%\" x=\"0%\" y=\"48px\"><defs /><svg width=\"100%\" x=\"0\" y=\"0px\"><defs /><text text-anchor=\"middle\" x=\"50%\" y=\"16px\">VBG</text></svg></svg><line stroke=\"black\" x1=\"50%\" x2=\"50%\" y1=\"20px\" y2=\"48px\" /></svg><line stroke=\"black\" x1=\"50%\" x2=\"12.4372%\" y1=\"20px\" y2=\"48px\" /><svg width=\"1.50754%\" x=\"13.5678%\" y=\"48px\"><defs /><svg width=\"100%\" x=\"0\" y=\"0px\"><defs /><text text-anchor=\"middle\" x=\"50%\" y=\"16px\">down</text></svg><svg width=\"100%\" x=\"0%\" y=\"48px\"><defs /><svg width=\"100%\" x=\"0\" y=\"0px\"><defs /><text text-anchor=\"middle\" x=\"50%\" y=\"16px\">RP</text></svg></svg><line stroke=\"black\" x1=\"50%\" x2=\"50%\" y1=\"20px\" y2=\"48px\" /></svg><line stroke=\"black\" x1=\"50%\" x2=\"14.3216%\" y1=\"20px\" y2=\"48px\" /><svg width=\"0.753769%\" x=\"15.0754%\" y=\"48px\"><defs /><svg width=\"100%\" x=\"0\" y=\"0px\"><defs /><text text-anchor=\"middle\" x=\"50%\" y=\"16px\">,</text></svg><svg width=\"100%\" x=\"0%\" y=\"48px\"><defs /><svg width=\"100%\" x=\"0\" y=\"0px\"><defs /><text text-anchor=\"middle\" x=\"50%\" y=\"16px\">,</text></svg></svg><line stroke=\"black\" x1=\"50%\" x2=\"50%\" y1=\"20px\" y2=\"48px\" /></svg><line stroke=\"black\" x1=\"50%\" x2=\"15.4523%\" y1=\"20px\" y2=\"48px\" /><svg width=\"2.76382%\" x=\"15.8291%\" y=\"48px\"><defs /><svg width=\"100%\" x=\"0\" y=\"0px\"><defs /><text text-anchor=\"middle\" x=\"50%\" y=\"16px\">including</text></svg><svg width=\"100%\" x=\"0%\" y=\"48px\"><defs /><svg width=\"100%\" x=\"0\" y=\"0px\"><defs /><text text-anchor=\"middle\" x=\"50%\" y=\"16px\">VBG</text></svg></svg><line stroke=\"black\" x1=\"50%\" x2=\"50%\" y1=\"20px\" y2=\"48px\" /></svg><line stroke=\"black\" x1=\"50%\" x2=\"17.2111%\" y1=\"20px\" y2=\"48px\" /><svg width=\"1.50754%\" x=\"18.593%\" y=\"48px\"><defs /><svg width=\"100%\" x=\"0\" y=\"0px\"><defs /><text text-anchor=\"middle\" x=\"50%\" y=\"16px\">what</text></svg><svg width=\"100%\" x=\"0%\" y=\"48px\"><defs /><svg width=\"100%\" x=\"0\" y=\"0px\"><defs /><text text-anchor=\"middle\" x=\"50%\" y=\"16px\">WP</text></svg></svg><line stroke=\"black\" x1=\"50%\" x2=\"50%\" y1=\"20px\" y2=\"48px\" /></svg><line stroke=\"black\" x1=\"50%\" x2=\"19.3467%\" y1=\"20px\" y2=\"48px\" /><svg width=\"1.25628%\" x=\"20.1005%\" y=\"48px\"><defs /><svg width=\"100%\" x=\"0\" y=\"0px\"><defs /><text text-anchor=\"middle\" x=\"50%\" y=\"16px\">he</text></svg><svg width=\"100%\" x=\"0%\" y=\"48px\"><defs /><svg width=\"100%\" x=\"0\" y=\"0px\"><defs /><text text-anchor=\"middle\" x=\"50%\" y=\"16px\">PRP</text></svg></svg><line stroke=\"black\" x1=\"50%\" x2=\"50%\" y1=\"20px\" y2=\"48px\" /></svg><line stroke=\"black\" x1=\"50%\" x2=\"20.7286%\" y1=\"20px\" y2=\"48px\" /><svg width=\"2.01005%\" x=\"21.3568%\" y=\"48px\"><defs /><svg width=\"100%\" x=\"0\" y=\"0px\"><defs /><text text-anchor=\"middle\" x=\"50%\" y=\"16px\">called</text></svg><svg width=\"100%\" x=\"0%\" y=\"48px\"><defs /><svg width=\"100%\" x=\"0\" y=\"0px\"><defs /><text text-anchor=\"middle\" x=\"50%\" y=\"16px\">VBD</text></svg></svg><line stroke=\"black\" x1=\"50%\" x2=\"50%\" y1=\"20px\" y2=\"48px\" /></svg><line stroke=\"black\" x1=\"50%\" x2=\"22.3618%\" y1=\"20px\" y2=\"48px\" /><svg width=\"1.25628%\" x=\"23.3668%\" y=\"48px\"><defs /><svg width=\"100%\" x=\"0\" y=\"0px\"><defs /><text text-anchor=\"middle\" x=\"50%\" y=\"16px\">the</text></svg><svg width=\"100%\" x=\"0%\" y=\"48px\"><defs /><svg width=\"100%\" x=\"0\" y=\"0px\"><defs /><text text-anchor=\"middle\" x=\"50%\" y=\"16px\">DT</text></svg></svg><line stroke=\"black\" x1=\"50%\" x2=\"50%\" y1=\"20px\" y2=\"48px\" /></svg><line stroke=\"black\" x1=\"50%\" x2=\"23.995%\" y1=\"20px\" y2=\"48px\" /><svg width=\"4.0201%\" x=\"24.6231%\" y=\"48px\"><defs /><svg width=\"100%\" x=\"0\" y=\"0px\"><defs /><text text-anchor=\"middle\" x=\"50%\" y=\"16px\">'deteriorating</text></svg><svg width=\"100%\" x=\"0%\" y=\"48px\"><defs /><svg width=\"100%\" x=\"0\" y=\"0px\"><defs /><text text-anchor=\"middle\" x=\"50%\" y=\"16px\">VBG</text></svg></svg><line stroke=\"black\" x1=\"50%\" x2=\"50%\" y1=\"20px\" y2=\"48px\" /></svg><line stroke=\"black\" x1=\"50%\" x2=\"26.6332%\" y1=\"20px\" y2=\"48px\" /><svg width=\"1.25628%\" x=\"28.6432%\" y=\"48px\"><defs /><svg width=\"100%\" x=\"0\" y=\"0px\"><defs /><text text-anchor=\"middle\" x=\"50%\" y=\"16px\">'</text></svg><svg width=\"100%\" x=\"0%\" y=\"48px\"><defs /><svg width=\"100%\" x=\"0\" y=\"0px\"><defs /><text text-anchor=\"middle\" x=\"50%\" y=\"16px\">POS</text></svg></svg><line stroke=\"black\" x1=\"50%\" x2=\"50%\" y1=\"20px\" y2=\"48px\" /></svg><line stroke=\"black\" x1=\"50%\" x2=\"29.2714%\" y1=\"20px\" y2=\"48px\" /><svg width=\"1.50754%\" x=\"29.8995%\" y=\"48px\"><defs /><svg width=\"100%\" x=\"0\" y=\"0px\"><defs /><text text-anchor=\"middle\" x=\"50%\" y=\"16px\">GPE</text></svg><svg width=\"100%\" x=\"0%\" y=\"48px\"><defs /><svg width=\"100%\" x=\"0\" y=\"0px\"><defs /><text text-anchor=\"middle\" x=\"50%\" y=\"16px\">U.S.</text></svg><svg width=\"100%\" x=\"0%\" y=\"48px\"><defs /><svg width=\"100%\" x=\"0\" y=\"0px\"><defs /><text text-anchor=\"middle\" x=\"50%\" y=\"16px\">NNP</text></svg></svg><line stroke=\"black\" x1=\"50%\" x2=\"50%\" y1=\"20px\" y2=\"48px\" /></svg><line stroke=\"black\" x1=\"50%\" x2=\"50%\" y1=\"20px\" y2=\"48px\" /></svg><line stroke=\"black\" x1=\"50%\" x2=\"30.6533%\" y1=\"20px\" y2=\"48px\" /><svg width=\"1.75879%\" x=\"31.407%\" y=\"48px\"><defs /><svg width=\"100%\" x=\"0\" y=\"0px\"><defs /><text text-anchor=\"middle\" x=\"50%\" y=\"16px\">labor</text></svg><svg width=\"100%\" x=\"0%\" y=\"48px\"><defs /><svg width=\"100%\" x=\"0\" y=\"0px\"><defs /><text text-anchor=\"middle\" x=\"50%\" y=\"16px\">NN</text></svg></svg><line stroke=\"black\" x1=\"50%\" x2=\"50%\" y1=\"20px\" y2=\"48px\" /></svg><line stroke=\"black\" x1=\"50%\" x2=\"32.2864%\" y1=\"20px\" y2=\"48px\" /><svg width=\"2.01005%\" x=\"33.1658%\" y=\"48px\"><defs /><svg width=\"100%\" x=\"0\" y=\"0px\"><defs /><text text-anchor=\"middle\" x=\"50%\" y=\"16px\">market</text></svg><svg width=\"100%\" x=\"0%\" y=\"48px\"><defs /><svg width=\"100%\" x=\"0\" y=\"0px\"><defs /><text text-anchor=\"middle\" x=\"50%\" y=\"16px\">NN</text></svg></svg><line stroke=\"black\" x1=\"50%\" x2=\"50%\" y1=\"20px\" y2=\"48px\" /></svg><line stroke=\"black\" x1=\"50%\" x2=\"34.1709%\" y1=\"20px\" y2=\"48px\" /><svg width=\"0.753769%\" x=\"35.1759%\" y=\"48px\"><defs /><svg width=\"100%\" x=\"0\" y=\"0px\"><defs /><text text-anchor=\"middle\" x=\"50%\" y=\"16px\">.</text></svg><svg width=\"100%\" x=\"0%\" y=\"48px\"><defs /><svg width=\"100%\" x=\"0\" y=\"0px\"><defs /><text text-anchor=\"middle\" x=\"50%\" y=\"16px\">.</text></svg></svg><line stroke=\"black\" x1=\"50%\" x2=\"50%\" y1=\"20px\" y2=\"48px\" /></svg><line stroke=\"black\" x1=\"50%\" x2=\"35.5528%\" y1=\"20px\" y2=\"48px\" /><svg width=\"1.25628%\" x=\"35.9296%\" y=\"48px\"><defs /><svg width=\"100%\" x=\"0\" y=\"0px\"><defs /><text text-anchor=\"middle\" x=\"50%\" y=\"16px\">The</text></svg><svg width=\"100%\" x=\"0%\" y=\"48px\"><defs /><svg width=\"100%\" x=\"0\" y=\"0px\"><defs /><text text-anchor=\"middle\" x=\"50%\" y=\"16px\">DT</text></svg></svg><line stroke=\"black\" x1=\"50%\" x2=\"50%\" y1=\"20px\" y2=\"48px\" /></svg><line stroke=\"black\" x1=\"50%\" x2=\"36.5578%\" y1=\"20px\" y2=\"48px\" /><svg width=\"1.50754%\" x=\"37.1859%\" y=\"48px\"><defs /><svg width=\"100%\" x=\"0\" y=\"0px\"><defs /><text text-anchor=\"middle\" x=\"50%\" y=\"16px\">GPE</text></svg><svg width=\"100%\" x=\"0%\" y=\"48px\"><defs /><svg width=\"100%\" x=\"0\" y=\"0px\"><defs /><text text-anchor=\"middle\" x=\"50%\" y=\"16px\">U.S.</text></svg><svg width=\"100%\" x=\"0%\" y=\"48px\"><defs /><svg width=\"100%\" x=\"0\" y=\"0px\"><defs /><text text-anchor=\"middle\" x=\"50%\" y=\"16px\">NNP</text></svg></svg><line stroke=\"black\" x1=\"50%\" x2=\"50%\" y1=\"20px\" y2=\"48px\" /></svg><line stroke=\"black\" x1=\"50%\" x2=\"50%\" y1=\"20px\" y2=\"48px\" /></svg><line stroke=\"black\" x1=\"50%\" x2=\"37.9397%\" y1=\"20px\" y2=\"48px\" /><svg width=\"4.77387%\" x=\"38.6935%\" y=\"48px\"><defs /><svg width=\"100%\" x=\"0\" y=\"0px\"><defs /><text text-anchor=\"middle\" x=\"50%\" y=\"16px\">ORGANIZATION</text></svg><svg width=\"36.8421%\" x=\"0%\" y=\"48px\"><defs /><svg width=\"100%\" x=\"0\" y=\"0px\"><defs /><text text-anchor=\"middle\" x=\"50%\" y=\"16px\">Labor</text></svg><svg width=\"100%\" x=\"0%\" y=\"48px\"><defs /><svg width=\"100%\" x=\"0\" y=\"0px\"><defs /><text text-anchor=\"middle\" x=\"50%\" y=\"16px\">NNP</text></svg></svg><line stroke=\"black\" x1=\"50%\" x2=\"50%\" y1=\"20px\" y2=\"48px\" /></svg><line stroke=\"black\" x1=\"50%\" x2=\"18.4211%\" y1=\"20px\" y2=\"48px\" /><svg width=\"63.1579%\" x=\"36.8421%\" y=\"48px\"><defs /><svg width=\"100%\" x=\"0\" y=\"0px\"><defs /><text text-anchor=\"middle\" x=\"50%\" y=\"16px\">Department</text></svg><svg width=\"100%\" x=\"0%\" y=\"48px\"><defs /><svg width=\"100%\" x=\"0\" y=\"0px\"><defs /><text text-anchor=\"middle\" x=\"50%\" y=\"16px\">NNP</text></svg></svg><line stroke=\"black\" x1=\"50%\" x2=\"50%\" y1=\"20px\" y2=\"48px\" /></svg><line stroke=\"black\" x1=\"50%\" x2=\"68.4211%\" y1=\"20px\" y2=\"48px\" /></svg><line stroke=\"black\" x1=\"50%\" x2=\"41.0804%\" y1=\"20px\" y2=\"48px\" /><svg width=\"2.51256%\" x=\"43.4673%\" y=\"48px\"><defs /><svg width=\"100%\" x=\"0\" y=\"0px\"><defs /><text text-anchor=\"middle\" x=\"50%\" y=\"16px\">reported</text></svg><svg width=\"100%\" x=\"0%\" y=\"48px\"><defs /><svg width=\"100%\" x=\"0\" y=\"0px\"><defs /><text text-anchor=\"middle\" x=\"50%\" y=\"16px\">VBD</text></svg></svg><line stroke=\"black\" x1=\"50%\" x2=\"50%\" y1=\"20px\" y2=\"48px\" /></svg><line stroke=\"black\" x1=\"50%\" x2=\"44.7236%\" y1=\"20px\" y2=\"48px\" /><svg width=\"1.50754%\" x=\"45.9799%\" y=\"48px\"><defs /><svg width=\"100%\" x=\"0\" y=\"0px\"><defs /><text text-anchor=\"middle\" x=\"50%\" y=\"16px\">that</text></svg><svg width=\"100%\" x=\"0%\" y=\"48px\"><defs /><svg width=\"100%\" x=\"0\" y=\"0px\"><defs /><text text-anchor=\"middle\" x=\"50%\" y=\"16px\">IN</text></svg></svg><line stroke=\"black\" x1=\"50%\" x2=\"50%\" y1=\"20px\" y2=\"48px\" /></svg><line stroke=\"black\" x1=\"50%\" x2=\"46.7337%\" y1=\"20px\" y2=\"48px\" /><svg width=\"1.25628%\" x=\"47.4874%\" y=\"48px\"><defs /><svg width=\"100%\" x=\"0\" y=\"0px\"><defs /><text text-anchor=\"middle\" x=\"50%\" y=\"16px\">the</text></svg><svg width=\"100%\" x=\"0%\" y=\"48px\"><defs /><svg width=\"100%\" x=\"0\" y=\"0px\"><defs /><text text-anchor=\"middle\" x=\"50%\" y=\"16px\">DT</text></svg></svg><line stroke=\"black\" x1=\"50%\" x2=\"50%\" y1=\"20px\" y2=\"48px\" /></svg><line stroke=\"black\" x1=\"50%\" x2=\"48.1156%\" y1=\"20px\" y2=\"48px\" /><svg width=\"3.51759%\" x=\"48.7437%\" y=\"48px\"><defs /><svg width=\"100%\" x=\"0\" y=\"0px\"><defs /><text text-anchor=\"middle\" x=\"50%\" y=\"16px\">unemployment</text></svg><svg width=\"100%\" x=\"0%\" y=\"48px\"><defs /><svg width=\"100%\" x=\"0\" y=\"0px\"><defs /><text text-anchor=\"middle\" x=\"50%\" y=\"16px\">NN</text></svg></svg><line stroke=\"black\" x1=\"50%\" x2=\"50%\" y1=\"20px\" y2=\"48px\" /></svg><line stroke=\"black\" x1=\"50%\" x2=\"50.5025%\" y1=\"20px\" y2=\"48px\" /><svg width=\"1.50754%\" x=\"52.2613%\" y=\"48px\"><defs /><svg width=\"100%\" x=\"0\" y=\"0px\"><defs /><text text-anchor=\"middle\" x=\"50%\" y=\"16px\">rate</text></svg><svg width=\"100%\" x=\"0%\" y=\"48px\"><defs /><svg width=\"100%\" x=\"0\" y=\"0px\"><defs /><text text-anchor=\"middle\" x=\"50%\" y=\"16px\">NN</text></svg></svg><line stroke=\"black\" x1=\"50%\" x2=\"50%\" y1=\"20px\" y2=\"48px\" /></svg><line stroke=\"black\" x1=\"50%\" x2=\"53.0151%\" y1=\"20px\" y2=\"48px\" /><svg width=\"2.01005%\" x=\"53.7688%\" y=\"48px\"><defs /><svg width=\"100%\" x=\"0\" y=\"0px\"><defs /><text text-anchor=\"middle\" x=\"50%\" y=\"16px\">inched</text></svg><svg width=\"100%\" x=\"0%\" y=\"48px\"><defs /><svg width=\"100%\" x=\"0\" y=\"0px\"><defs /><text text-anchor=\"middle\" x=\"50%\" y=\"16px\">VBD</text></svg></svg><line stroke=\"black\" x1=\"50%\" x2=\"50%\" y1=\"20px\" y2=\"48px\" /></svg><line stroke=\"black\" x1=\"50%\" x2=\"54.7739%\" y1=\"20px\" y2=\"48px\" /><svg width=\"1.00503%\" x=\"55.7789%\" y=\"48px\"><defs /><svg width=\"100%\" x=\"0\" y=\"0px\"><defs /><text text-anchor=\"middle\" x=\"50%\" y=\"16px\">to</text></svg><svg width=\"100%\" x=\"0%\" y=\"48px\"><defs /><svg width=\"100%\" x=\"0\" y=\"0px\"><defs /><text text-anchor=\"middle\" x=\"50%\" y=\"16px\">TO</text></svg></svg><line stroke=\"black\" x1=\"50%\" x2=\"50%\" y1=\"20px\" y2=\"48px\" /></svg><line stroke=\"black\" x1=\"50%\" x2=\"56.2814%\" y1=\"20px\" y2=\"48px\" /><svg width=\"1.25628%\" x=\"56.7839%\" y=\"48px\"><defs /><svg width=\"100%\" x=\"0\" y=\"0px\"><defs /><text text-anchor=\"middle\" x=\"50%\" y=\"16px\">4.3</text></svg><svg width=\"100%\" x=\"0%\" y=\"48px\"><defs /><svg width=\"100%\" x=\"0\" y=\"0px\"><defs /><text text-anchor=\"middle\" x=\"50%\" y=\"16px\">CD</text></svg></svg><line stroke=\"black\" x1=\"50%\" x2=\"50%\" y1=\"20px\" y2=\"48px\" /></svg><line stroke=\"black\" x1=\"50%\" x2=\"57.4121%\" y1=\"20px\" y2=\"48px\" /><svg width=\"1.00503%\" x=\"58.0402%\" y=\"48px\"><defs /><svg width=\"100%\" x=\"0\" y=\"0px\"><defs /><text text-anchor=\"middle\" x=\"50%\" y=\"16px\">%</text></svg><svg width=\"100%\" x=\"0%\" y=\"48px\"><defs /><svg width=\"100%\" x=\"0\" y=\"0px\"><defs /><text text-anchor=\"middle\" x=\"50%\" y=\"16px\">NN</text></svg></svg><line stroke=\"black\" x1=\"50%\" x2=\"50%\" y1=\"20px\" y2=\"48px\" /></svg><line stroke=\"black\" x1=\"50%\" x2=\"58.5427%\" y1=\"20px\" y2=\"48px\" /><svg width=\"1.00503%\" x=\"59.0452%\" y=\"48px\"><defs /><svg width=\"100%\" x=\"0\" y=\"0px\"><defs /><text text-anchor=\"middle\" x=\"50%\" y=\"16px\">in</text></svg><svg width=\"100%\" x=\"0%\" y=\"48px\"><defs /><svg width=\"100%\" x=\"0\" y=\"0px\"><defs /><text text-anchor=\"middle\" x=\"50%\" y=\"16px\">IN</text></svg></svg><line stroke=\"black\" x1=\"50%\" x2=\"50%\" y1=\"20px\" y2=\"48px\" /></svg><line stroke=\"black\" x1=\"50%\" x2=\"59.5477%\" y1=\"20px\" y2=\"48px\" /><svg width=\"1.50754%\" x=\"60.0503%\" y=\"48px\"><defs /><svg width=\"100%\" x=\"0\" y=\"0px\"><defs /><text text-anchor=\"middle\" x=\"50%\" y=\"16px\">July</text></svg><svg width=\"100%\" x=\"0%\" y=\"48px\"><defs /><svg width=\"100%\" x=\"0\" y=\"0px\"><defs /><text text-anchor=\"middle\" x=\"50%\" y=\"16px\">NNP</text></svg></svg><line stroke=\"black\" x1=\"50%\" x2=\"50%\" y1=\"20px\" y2=\"48px\" /></svg><line stroke=\"black\" x1=\"50%\" x2=\"60.804%\" y1=\"20px\" y2=\"48px\" /><svg width=\"1.00503%\" x=\"61.5578%\" y=\"48px\"><defs /><svg width=\"100%\" x=\"0\" y=\"0px\"><defs /><text text-anchor=\"middle\" x=\"50%\" y=\"16px\">to</text></svg><svg width=\"100%\" x=\"0%\" y=\"48px\"><defs /><svg width=\"100%\" x=\"0\" y=\"0px\"><defs /><text text-anchor=\"middle\" x=\"50%\" y=\"16px\">TO</text></svg></svg><line stroke=\"black\" x1=\"50%\" x2=\"50%\" y1=\"20px\" y2=\"48px\" /></svg><line stroke=\"black\" x1=\"50%\" x2=\"62.0603%\" y1=\"20px\" y2=\"48px\" /><svg width=\"1.50754%\" x=\"62.5628%\" y=\"48px\"><defs /><svg width=\"100%\" x=\"0\" y=\"0px\"><defs /><text text-anchor=\"middle\" x=\"50%\" y=\"16px\">its</text></svg><svg width=\"100%\" x=\"0%\" y=\"48px\"><defs /><svg width=\"100%\" x=\"0\" y=\"0px\"><defs /><text text-anchor=\"middle\" x=\"50%\" y=\"16px\">PRP$</text></svg></svg><line stroke=\"black\" x1=\"50%\" x2=\"50%\" y1=\"20px\" y2=\"48px\" /></svg><line stroke=\"black\" x1=\"50%\" x2=\"63.3166%\" y1=\"20px\" y2=\"48px\" /><svg width=\"2.26131%\" x=\"64.0704%\" y=\"48px\"><defs /><svg width=\"100%\" x=\"0\" y=\"0px\"><defs /><text text-anchor=\"middle\" x=\"50%\" y=\"16px\">highest</text></svg><svg width=\"100%\" x=\"0%\" y=\"48px\"><defs /><svg width=\"100%\" x=\"0\" y=\"0px\"><defs /><text text-anchor=\"middle\" x=\"50%\" y=\"16px\">JJS</text></svg></svg><line stroke=\"black\" x1=\"50%\" x2=\"50%\" y1=\"20px\" y2=\"48px\" /></svg><line stroke=\"black\" x1=\"50%\" x2=\"65.201%\" y1=\"20px\" y2=\"48px\" /><svg width=\"1.75879%\" x=\"66.3317%\" y=\"48px\"><defs /><svg width=\"100%\" x=\"0\" y=\"0px\"><defs /><text text-anchor=\"middle\" x=\"50%\" y=\"16px\">since</text></svg><svg width=\"100%\" x=\"0%\" y=\"48px\"><defs /><svg width=\"100%\" x=\"0\" y=\"0px\"><defs /><text text-anchor=\"middle\" x=\"50%\" y=\"16px\">IN</text></svg></svg><line stroke=\"black\" x1=\"50%\" x2=\"50%\" y1=\"20px\" y2=\"48px\" /></svg><line stroke=\"black\" x1=\"50%\" x2=\"67.2111%\" y1=\"20px\" y2=\"48px\" /><svg width=\"2.26131%\" x=\"68.0905%\" y=\"48px\"><defs /><svg width=\"100%\" x=\"0\" y=\"0px\"><defs /><text text-anchor=\"middle\" x=\"50%\" y=\"16px\">October</text></svg><svg width=\"100%\" x=\"0%\" y=\"48px\"><defs /><svg width=\"100%\" x=\"0\" y=\"0px\"><defs /><text text-anchor=\"middle\" x=\"50%\" y=\"16px\">NNP</text></svg></svg><line stroke=\"black\" x1=\"50%\" x2=\"50%\" y1=\"20px\" y2=\"48px\" /></svg><line stroke=\"black\" x1=\"50%\" x2=\"69.2211%\" y1=\"20px\" y2=\"48px\" /><svg width=\"1.50754%\" x=\"70.3518%\" y=\"48px\"><defs /><svg width=\"100%\" x=\"0\" y=\"0px\"><defs /><text text-anchor=\"middle\" x=\"50%\" y=\"16px\">2021</text></svg><svg width=\"100%\" x=\"0%\" y=\"48px\"><defs /><svg width=\"100%\" x=\"0\" y=\"0px\"><defs /><text text-anchor=\"middle\" x=\"50%\" y=\"16px\">CD</text></svg></svg><line stroke=\"black\" x1=\"50%\" x2=\"50%\" y1=\"20px\" y2=\"48px\" /></svg><line stroke=\"black\" x1=\"50%\" x2=\"71.1055%\" y1=\"20px\" y2=\"48px\" /><svg width=\"0.753769%\" x=\"71.8593%\" y=\"48px\"><defs /><svg width=\"100%\" x=\"0\" y=\"0px\"><defs /><text text-anchor=\"middle\" x=\"50%\" y=\"16px\">,</text></svg><svg width=\"100%\" x=\"0%\" y=\"48px\"><defs /><svg width=\"100%\" x=\"0\" y=\"0px\"><defs /><text text-anchor=\"middle\" x=\"50%\" y=\"16px\">,</text></svg></svg><line stroke=\"black\" x1=\"50%\" x2=\"50%\" y1=\"20px\" y2=\"48px\" /></svg><line stroke=\"black\" x1=\"50%\" x2=\"72.2362%\" y1=\"20px\" y2=\"48px\" /><svg width=\"1.25628%\" x=\"72.6131%\" y=\"48px\"><defs /><svg width=\"100%\" x=\"0\" y=\"0px\"><defs /><text text-anchor=\"middle\" x=\"50%\" y=\"16px\">and</text></svg><svg width=\"100%\" x=\"0%\" y=\"48px\"><defs /><svg width=\"100%\" x=\"0\" y=\"0px\"><defs /><text text-anchor=\"middle\" x=\"50%\" y=\"16px\">CC</text></svg></svg><line stroke=\"black\" x1=\"50%\" x2=\"50%\" y1=\"20px\" y2=\"48px\" /></svg><line stroke=\"black\" x1=\"50%\" x2=\"73.2412%\" y1=\"20px\" y2=\"48px\" /><svg width=\"1.00503%\" x=\"73.8693%\" y=\"48px\"><defs /><svg width=\"100%\" x=\"0\" y=\"0px\"><defs /><text text-anchor=\"middle\" x=\"50%\" y=\"16px\">a</text></svg><svg width=\"100%\" x=\"0%\" y=\"48px\"><defs /><svg width=\"100%\" x=\"0\" y=\"0px\"><defs /><text text-anchor=\"middle\" x=\"50%\" y=\"16px\">DT</text></svg></svg><line stroke=\"black\" x1=\"50%\" x2=\"50%\" y1=\"20px\" y2=\"48px\" /></svg><line stroke=\"black\" x1=\"50%\" x2=\"74.3719%\" y1=\"20px\" y2=\"48px\" /><svg width=\"1.75879%\" x=\"74.8744%\" y=\"48px\"><defs /><svg width=\"100%\" x=\"0\" y=\"0px\"><defs /><text text-anchor=\"middle\" x=\"50%\" y=\"16px\">gauge</text></svg><svg width=\"100%\" x=\"0%\" y=\"48px\"><defs /><svg width=\"100%\" x=\"0\" y=\"0px\"><defs /><text text-anchor=\"middle\" x=\"50%\" y=\"16px\">NN</text></svg></svg><line stroke=\"black\" x1=\"50%\" x2=\"50%\" y1=\"20px\" y2=\"48px\" /></svg><line stroke=\"black\" x1=\"50%\" x2=\"75.7538%\" y1=\"20px\" y2=\"48px\" /><svg width=\"1.25628%\" x=\"76.6332%\" y=\"48px\"><defs /><svg width=\"100%\" x=\"0\" y=\"0px\"><defs /><text text-anchor=\"middle\" x=\"50%\" y=\"16px\">for</text></svg><svg width=\"100%\" x=\"0%\" y=\"48px\"><defs /><svg width=\"100%\" x=\"0\" y=\"0px\"><defs /><text text-anchor=\"middle\" x=\"50%\" y=\"16px\">IN</text></svg></svg><line stroke=\"black\" x1=\"50%\" x2=\"50%\" y1=\"20px\" y2=\"48px\" /></svg><line stroke=\"black\" x1=\"50%\" x2=\"77.2613%\" y1=\"20px\" y2=\"48px\" /><svg width=\"1.50754%\" x=\"77.8894%\" y=\"48px\"><defs /><svg width=\"100%\" x=\"0\" y=\"0px\"><defs /><text text-anchor=\"middle\" x=\"50%\" y=\"16px\">GPE</text></svg><svg width=\"100%\" x=\"0%\" y=\"48px\"><defs /><svg width=\"100%\" x=\"0\" y=\"0px\"><defs /><text text-anchor=\"middle\" x=\"50%\" y=\"16px\">U.S.</text></svg><svg width=\"100%\" x=\"0%\" y=\"48px\"><defs /><svg width=\"100%\" x=\"0\" y=\"0px\"><defs /><text text-anchor=\"middle\" x=\"50%\" y=\"16px\">NNP</text></svg></svg><line stroke=\"black\" x1=\"50%\" x2=\"50%\" y1=\"20px\" y2=\"48px\" /></svg><line stroke=\"black\" x1=\"50%\" x2=\"50%\" y1=\"20px\" y2=\"48px\" /></svg><line stroke=\"black\" x1=\"50%\" x2=\"78.6432%\" y1=\"20px\" y2=\"48px\" /><svg width=\"3.76884%\" x=\"79.397%\" y=\"48px\"><defs /><svg width=\"100%\" x=\"0\" y=\"0px\"><defs /><text text-anchor=\"middle\" x=\"50%\" y=\"16px\">manufacturing</text></svg><svg width=\"100%\" x=\"0%\" y=\"48px\"><defs /><svg width=\"100%\" x=\"0\" y=\"0px\"><defs /><text text-anchor=\"middle\" x=\"50%\" y=\"16px\">NN</text></svg></svg><line stroke=\"black\" x1=\"50%\" x2=\"50%\" y1=\"20px\" y2=\"48px\" /></svg><line stroke=\"black\" x1=\"50%\" x2=\"81.2814%\" y1=\"20px\" y2=\"48px\" /><svg width=\"2.51256%\" x=\"83.1658%\" y=\"48px\"><defs /><svg width=\"100%\" x=\"0\" y=\"0px\"><defs /><text text-anchor=\"middle\" x=\"50%\" y=\"16px\">activity</text></svg><svg width=\"100%\" x=\"0%\" y=\"48px\"><defs /><svg width=\"100%\" x=\"0\" y=\"0px\"><defs /><text text-anchor=\"middle\" x=\"50%\" y=\"16px\">NN</text></svg></svg><line stroke=\"black\" x1=\"50%\" x2=\"50%\" y1=\"20px\" y2=\"48px\" /></svg><line stroke=\"black\" x1=\"50%\" x2=\"84.4221%\" y1=\"20px\" y2=\"48px\" /><svg width=\"1.50754%\" x=\"85.6784%\" y=\"48px\"><defs /><svg width=\"100%\" x=\"0\" y=\"0px\"><defs /><text text-anchor=\"middle\" x=\"50%\" y=\"16px\">fell</text></svg><svg width=\"100%\" x=\"0%\" y=\"48px\"><defs /><svg width=\"100%\" x=\"0\" y=\"0px\"><defs /><text text-anchor=\"middle\" x=\"50%\" y=\"16px\">VBD</text></svg></svg><line stroke=\"black\" x1=\"50%\" x2=\"50%\" y1=\"20px\" y2=\"48px\" /></svg><line stroke=\"black\" x1=\"50%\" x2=\"86.4322%\" y1=\"20px\" y2=\"48px\" /><svg width=\"1.00503%\" x=\"87.1859%\" y=\"48px\"><defs /><svg width=\"100%\" x=\"0\" y=\"0px\"><defs /><text text-anchor=\"middle\" x=\"50%\" y=\"16px\">to</text></svg><svg width=\"100%\" x=\"0%\" y=\"48px\"><defs /><svg width=\"100%\" x=\"0\" y=\"0px\"><defs /><text text-anchor=\"middle\" x=\"50%\" y=\"16px\">TO</text></svg></svg><line stroke=\"black\" x1=\"50%\" x2=\"50%\" y1=\"20px\" y2=\"48px\" /></svg><line stroke=\"black\" x1=\"50%\" x2=\"87.6884%\" y1=\"20px\" y2=\"48px\" /><svg width=\"1.00503%\" x=\"88.191%\" y=\"48px\"><defs /><svg width=\"100%\" x=\"0\" y=\"0px\"><defs /><text text-anchor=\"middle\" x=\"50%\" y=\"16px\">an</text></svg><svg width=\"100%\" x=\"0%\" y=\"48px\"><defs /><svg width=\"100%\" x=\"0\" y=\"0px\"><defs /><text text-anchor=\"middle\" x=\"50%\" y=\"16px\">DT</text></svg></svg><line stroke=\"black\" x1=\"50%\" x2=\"50%\" y1=\"20px\" y2=\"48px\" /></svg><line stroke=\"black\" x1=\"50%\" x2=\"88.6935%\" y1=\"20px\" y2=\"48px\" /><svg width=\"3.26633%\" x=\"89.196%\" y=\"48px\"><defs /><svg width=\"100%\" x=\"0\" y=\"0px\"><defs /><text text-anchor=\"middle\" x=\"50%\" y=\"16px\">eight-month</text></svg><svg width=\"100%\" x=\"0%\" y=\"48px\"><defs /><svg width=\"100%\" x=\"0\" y=\"0px\"><defs /><text text-anchor=\"middle\" x=\"50%\" y=\"16px\">JJ</text></svg></svg><line stroke=\"black\" x1=\"50%\" x2=\"50%\" y1=\"20px\" y2=\"48px\" /></svg><line stroke=\"black\" x1=\"50%\" x2=\"90.8291%\" y1=\"20px\" y2=\"48px\" /><svg width=\"1.25628%\" x=\"92.4623%\" y=\"48px\"><defs /><svg width=\"100%\" x=\"0\" y=\"0px\"><defs /><text text-anchor=\"middle\" x=\"50%\" y=\"16px\">low</text></svg><svg width=\"100%\" x=\"0%\" y=\"48px\"><defs /><svg width=\"100%\" x=\"0\" y=\"0px\"><defs /><text text-anchor=\"middle\" x=\"50%\" y=\"16px\">NN</text></svg></svg><line stroke=\"black\" x1=\"50%\" x2=\"50%\" y1=\"20px\" y2=\"48px\" /></svg><line stroke=\"black\" x1=\"50%\" x2=\"93.0905%\" y1=\"20px\" y2=\"48px\" /><svg width=\"1.00503%\" x=\"93.7186%\" y=\"48px\"><defs /><svg width=\"100%\" x=\"0\" y=\"0px\"><defs /><text text-anchor=\"middle\" x=\"50%\" y=\"16px\">in</text></svg><svg width=\"100%\" x=\"0%\" y=\"48px\"><defs /><svg width=\"100%\" x=\"0\" y=\"0px\"><defs /><text text-anchor=\"middle\" x=\"50%\" y=\"16px\">IN</text></svg></svg><line stroke=\"black\" x1=\"50%\" x2=\"50%\" y1=\"20px\" y2=\"48px\" /></svg><line stroke=\"black\" x1=\"50%\" x2=\"94.2211%\" y1=\"20px\" y2=\"48px\" /><svg width=\"1.25628%\" x=\"94.7236%\" y=\"48px\"><defs /><svg width=\"100%\" x=\"0\" y=\"0px\"><defs /><text text-anchor=\"middle\" x=\"50%\" y=\"16px\">the</text></svg><svg width=\"100%\" x=\"0%\" y=\"48px\"><defs /><svg width=\"100%\" x=\"0\" y=\"0px\"><defs /><text text-anchor=\"middle\" x=\"50%\" y=\"16px\">DT</text></svg></svg><line stroke=\"black\" x1=\"50%\" x2=\"50%\" y1=\"20px\" y2=\"48px\" /></svg><line stroke=\"black\" x1=\"50%\" x2=\"95.3518%\" y1=\"20px\" y2=\"48px\" /><svg width=\"1.50754%\" x=\"95.9799%\" y=\"48px\"><defs /><svg width=\"100%\" x=\"0\" y=\"0px\"><defs /><text text-anchor=\"middle\" x=\"50%\" y=\"16px\">same</text></svg><svg width=\"100%\" x=\"0%\" y=\"48px\"><defs /><svg width=\"100%\" x=\"0\" y=\"0px\"><defs /><text text-anchor=\"middle\" x=\"50%\" y=\"16px\">JJ</text></svg></svg><line stroke=\"black\" x1=\"50%\" x2=\"50%\" y1=\"20px\" y2=\"48px\" /></svg><line stroke=\"black\" x1=\"50%\" x2=\"96.7337%\" y1=\"20px\" y2=\"48px\" /><svg width=\"1.75879%\" x=\"97.4874%\" y=\"48px\"><defs /><svg width=\"100%\" x=\"0\" y=\"0px\"><defs /><text text-anchor=\"middle\" x=\"50%\" y=\"16px\">month</text></svg><svg width=\"100%\" x=\"0%\" y=\"48px\"><defs /><svg width=\"100%\" x=\"0\" y=\"0px\"><defs /><text text-anchor=\"middle\" x=\"50%\" y=\"16px\">NN</text></svg></svg><line stroke=\"black\" x1=\"50%\" x2=\"50%\" y1=\"20px\" y2=\"48px\" /></svg><line stroke=\"black\" x1=\"50%\" x2=\"98.3668%\" y1=\"20px\" y2=\"48px\" /><svg width=\"0.753769%\" x=\"99.2462%\" y=\"48px\"><defs /><svg width=\"100%\" x=\"0\" y=\"0px\"><defs /><text text-anchor=\"middle\" x=\"50%\" y=\"16px\">.</text></svg><svg width=\"100%\" x=\"0%\" y=\"48px\"><defs /><svg width=\"100%\" x=\"0\" y=\"0px\"><defs /><text text-anchor=\"middle\" x=\"50%\" y=\"16px\">.</text></svg></svg><line stroke=\"black\" x1=\"50%\" x2=\"50%\" y1=\"20px\" y2=\"48px\" /></svg><line stroke=\"black\" x1=\"50%\" x2=\"99.6231%\" y1=\"20px\" y2=\"48px\" /></svg>"
      ],
      "text/plain": [
       "Tree('S', [('Evans', 'NNS'), ('pointed', 'VBD'), ('to', 'TO'), ('signs', 'NNS'), ('of', 'IN'), ('the', 'DT'), ('economy', 'NN'), ('slowing', 'VBG'), ('down', 'RP'), (',', ','), ('including', 'VBG'), ('what', 'WP'), ('he', 'PRP'), ('called', 'VBD'), ('the', 'DT'), (\"'deteriorating\", 'VBG'), (\"'\", 'POS'), Tree('GPE', [('U.S.', 'NNP')]), ('labor', 'NN'), ('market', 'NN'), ('.', '.'), ('The', 'DT'), Tree('GPE', [('U.S.', 'NNP')]), Tree('ORGANIZATION', [('Labor', 'NNP'), ('Department', 'NNP')]), ('reported', 'VBD'), ('that', 'IN'), ('the', 'DT'), ('unemployment', 'NN'), ('rate', 'NN'), ('inched', 'VBD'), ('to', 'TO'), ('4.3', 'CD'), ('%', 'NN'), ('in', 'IN'), ('July', 'NNP'), ('to', 'TO'), ('its', 'PRP$'), ('highest', 'JJS'), ('since', 'IN'), ('October', 'NNP'), ('2021', 'CD'), (',', ','), ('and', 'CC'), ('a', 'DT'), ('gauge', 'NN'), ('for', 'IN'), Tree('GPE', [('U.S.', 'NNP')]), ('manufacturing', 'NN'), ('activity', 'NN'), ('fell', 'VBD'), ('to', 'TO'), ('an', 'DT'), ('eight-month', 'JJ'), ('low', 'NN'), ('in', 'IN'), ('the', 'DT'), ('same', 'JJ'), ('month', 'NN'), ('.', '.')])"
      ]
     },
     "execution_count": 126,
     "metadata": {},
     "output_type": "execute_result"
    }
   ],
   "source": [
    "ner_tree"
   ]
  },
  {
   "cell_type": "code",
   "execution_count": 127,
   "id": "970fe377",
   "metadata": {},
   "outputs": [
    {
     "name": "stdout",
     "output_type": "stream",
     "text": [
      "U.S. : GPE\n",
      "U.S. : GPE\n",
      "Labor Department : ORGANIZATION\n",
      "U.S. : GPE\n"
     ]
    }
   ],
   "source": [
    "for ner in ner_tree:\n",
    "    if hasattr(ner, 'label'):\n",
    "        print(' '.join(c[0] for c in ner), \":\", ner.label())"
   ]
  },
  {
   "cell_type": "code",
   "execution_count": 128,
   "id": "2c1bf1ac",
   "metadata": {},
   "outputs": [
    {
     "data": {
      "text/plain": [
       "'import nltk\\nfrom nltk import ne_chunk, pos_tag, word_tokenize\\n\\n# Example sentence\\nsentence = \"Barack Obama was the president of the United States.\"\\n\\n# Tokenization and POS tagging\\ntokens = word_tokenize(sentence)\\ntagged = pos_tag(tokens)\\n\\n# Perform Named Entity Recognition\\nner_tree = ne_chunk(tagged)\\n\\n# Print the named entities\\nfor ner in ner_tree:\\n    if hasattr(ner, \\'label\\'):\\n        # Construct and print the entity and its label\\n        entity = \\' \\'.join(c[0] for c in ner)  # Joining tokens of the entity\\n        label = ner.label()                   # Getting the entity label\\n        print(entity, \":\", label)             # Output format\\n\\n\\n'"
      ]
     },
     "execution_count": 128,
     "metadata": {},
     "output_type": "execute_result"
    }
   ],
   "source": [
    "'''import nltk\n",
    "from nltk import ne_chunk, pos_tag, word_tokenize\n",
    "\n",
    "# Example sentence\n",
    "sentence = \"Barack Obama was the president of the United States.\"\n",
    "\n",
    "# Tokenization and POS tagging\n",
    "tokens = word_tokenize(sentence)\n",
    "tagged = pos_tag(tokens)\n",
    "\n",
    "# Perform Named Entity Recognition\n",
    "ner_tree = ne_chunk(tagged)\n",
    "\n",
    "# Print the named entities\n",
    "for ner in ner_tree:\n",
    "    if hasattr(ner, 'label'):\n",
    "        # Construct and print the entity and its label\n",
    "        entity = ' '.join(c[0] for c in ner)  # Joining tokens of the entity\n",
    "        label = ner.label()                   # Getting the entity label\n",
    "        print(entity, \":\", label)             # Output format\n",
    "\n",
    "\n",
    "'''"
   ]
  },
  {
   "cell_type": "code",
   "execution_count": 129,
   "id": "7282e21d",
   "metadata": {},
   "outputs": [],
   "source": [
    "text = \" \".join(open('/Users/gowthammarrapu/Documents/untitled folder 2/nlp-for-beginners-udemy/07-Introduction to NLTK/data/bert_extracted_text.txt').read().splitlines())"
   ]
  },
  {
   "cell_type": "code",
   "execution_count": 130,
   "id": "888d98e7",
   "metadata": {},
   "outputs": [],
   "source": [
    "from nltk.collocations import BigramCollocationFinder\n",
    "from nltk.collocations import BigramAssocMeasures"
   ]
  },
  {
   "cell_type": "code",
   "execution_count": 131,
   "id": "3a6dfc9e",
   "metadata": {},
   "outputs": [],
   "source": [
    "bigram = BigramCollocationFinder.from_words(word_tokenize(text))"
   ]
  },
  {
   "cell_type": "code",
   "execution_count": 132,
   "id": "c092d649",
   "metadata": {},
   "outputs": [],
   "source": [
    "scores = bigram.nbest(BigramAssocMeasures.likelihood_ratio,20)"
   ]
  },
  {
   "cell_type": "code",
   "execution_count": 133,
   "id": "7f250dce",
   "metadata": {},
   "outputs": [
    {
     "data": {
      "text/plain": [
       "[('et', 'al.'),\n",
       " ('such', 'as'),\n",
       " ('al.', ','),\n",
       " ('.', 'The'),\n",
       " ('absolute', 'improvement'),\n",
       " ('point', 'absolute'),\n",
       " ('question', 'answering'),\n",
       " (',', '2018'),\n",
       " ('Encoder', 'Representations'),\n",
       " ('OpenAI', 'GPT'),\n",
       " ('Test', 'F1'),\n",
       " ('2018', ')'),\n",
       " ('Peters', 'et'),\n",
       " ('natural', 'language'),\n",
       " ('improvement', ')'),\n",
       " ('Bidirectional', 'Encoder'),\n",
       " (',', 'where'),\n",
       " ('based', 'approaches'),\n",
       " ('during', 'pre-training'),\n",
       " ('Representations', 'from')]"
      ]
     },
     "execution_count": 133,
     "metadata": {},
     "output_type": "execute_result"
    }
   ],
   "source": [
    "scores"
   ]
  },
  {
   "cell_type": "code",
   "execution_count": null,
   "id": "a4d3dc34-8b87-4bad-8957-f3acab26b82f",
   "metadata": {},
   "outputs": [],
   "source": []
  },
  {
   "cell_type": "code",
   "execution_count": null,
   "id": "517e0e06-531c-4d53-879a-6681c7052110",
   "metadata": {},
   "outputs": [],
   "source": []
  }
 ],
 "metadata": {
  "kernelspec": {
   "display_name": "Python 3 (ipykernel)",
   "language": "python",
   "name": "python3"
  },
  "language_info": {
   "codemirror_mode": {
    "name": "ipython",
    "version": 3
   },
   "file_extension": ".py",
   "mimetype": "text/x-python",
   "name": "python",
   "nbconvert_exporter": "python",
   "pygments_lexer": "ipython3",
   "version": "3.10.13"
  }
 },
 "nbformat": 4,
 "nbformat_minor": 5
}
